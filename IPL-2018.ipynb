{
 "cells": [
  {
   "cell_type": "code",
   "execution_count": 1,
   "id": "e23b9bc8",
   "metadata": {},
   "outputs": [],
   "source": [
    "import matplotlib as plt\n",
    "import matplotlib.pyplot as plt\n",
    "import seaborn as sns\n",
    "from bs4 import BeautifulSoup \n",
    "import pandas as pd\n",
    "import numpy as np\n",
    "import requests"
   ]
  },
  {
   "cell_type": "code",
   "execution_count": 2,
   "id": "8b7c717f",
   "metadata": {},
   "outputs": [],
   "source": [
    "page=requests.get(\"https://www.iplt20.com/stats/2018\")\n",
    "\n",
    "soup=BeautifulSoup(page.text)\n"
   ]
  },
  {
   "cell_type": "code",
   "execution_count": 3,
   "id": "9c53a6ba",
   "metadata": {},
   "outputs": [],
   "source": [
    "columns = []\n",
    "for i in soup.findAll('th')[:14]:\n",
    "    columns.append(i.text)"
   ]
  },
  {
   "cell_type": "code",
   "execution_count": 4,
   "id": "1962fd08",
   "metadata": {},
   "outputs": [
    {
     "data": {
      "text/plain": [
       "['POS',\n",
       " 'Player',\n",
       " 'Mat',\n",
       " 'Inns',\n",
       " 'NO',\n",
       " 'Runs',\n",
       " 'HS',\n",
       " 'Avg',\n",
       " 'BF',\n",
       " 'SR',\n",
       " '100',\n",
       " '50',\n",
       " '4s',\n",
       " '6s']"
      ]
     },
     "execution_count": 4,
     "metadata": {},
     "output_type": "execute_result"
    }
   ],
   "source": [
    "columns\n"
   ]
  },
  {
   "cell_type": "code",
   "execution_count": 5,
   "id": "7f1174d6",
   "metadata": {},
   "outputs": [],
   "source": [
    "table=[]\n",
    "for val in soup.findAll('td'):\n",
    "    table.append(val.text)"
   ]
  },
  {
   "cell_type": "code",
   "execution_count": 6,
   "id": "543ac9f1",
   "metadata": {},
   "outputs": [],
   "source": [
    "Name=[]\n",
    "matches=[]\n",
    "innings=[]\n",
    "notouts=[]\n",
    "runs=[]\n",
    "hs=[]\n",
    "Avge=[]\n",
    "bf=[]\n",
    "sr=[]\n",
    "f=[]\n",
    "h=[]\n",
    "fours=[]\n",
    "sixes=[]\n",
    "\n",
    "season = []\n",
    "\n",
    "for val in table[1::14]:\n",
    "       Name.append(val)\n",
    "        \n",
    "\n",
    "for i in table[2::14]:\n",
    "        matches.append(i)\n",
    "    \n",
    "for i in table[3::14]:\n",
    "       innings.append(i)\n",
    "\n",
    "for i in table[4::14]:\n",
    "        notouts.append(i)\n",
    "\n",
    "for i in table[5::14]:\n",
    "        runs.append(i)\n",
    "\n",
    "for i in table[6::14]:\n",
    "        hs.append(i)\n",
    "\n",
    "for i in table[7::14]:\n",
    "        Avge.append(i)\n",
    "\n",
    "for i in table[8::14]:\n",
    "        bf.append(i)\n",
    "\n",
    "for i in table[9::14]:\n",
    "        sr.append(i)\n",
    "\n",
    "for i in table[10::14]:\n",
    "        f.append(i)\n",
    "\n",
    "for i in table[11::14]:\n",
    "        h.append(i)\n",
    "\n",
    "for i in table[12::14]:\n",
    "        fours.append(i)\n",
    "\n",
    "for i in table[13::14]:\n",
    "    if i == ' ':\n",
    "        sixes.append(np.NaN)\n",
    "    else:\n",
    "        sixes.append(i)\n",
    "        \n",
    "        season.append(2018)\n",
    "        "
   ]
  },
  {
   "cell_type": "code",
   "execution_count": 7,
   "id": "cf281adc",
   "metadata": {},
   "outputs": [
    {
     "data": {
      "text/plain": [
       "139"
      ]
     },
     "execution_count": 7,
     "metadata": {},
     "output_type": "execute_result"
    }
   ],
   "source": [
    "len(Name)"
   ]
  },
  {
   "cell_type": "code",
   "execution_count": 8,
   "id": "71c3ab16",
   "metadata": {},
   "outputs": [
    {
     "data": {
      "text/plain": [
       "139"
      ]
     },
     "execution_count": 8,
     "metadata": {},
     "output_type": "execute_result"
    }
   ],
   "source": [
    "len(matches)"
   ]
  },
  {
   "cell_type": "code",
   "execution_count": 9,
   "id": "16505b67",
   "metadata": {},
   "outputs": [
    {
     "data": {
      "text/plain": [
       "139"
      ]
     },
     "execution_count": 9,
     "metadata": {},
     "output_type": "execute_result"
    }
   ],
   "source": [
    "len(innings)"
   ]
  },
  {
   "cell_type": "code",
   "execution_count": 10,
   "id": "1939481f",
   "metadata": {},
   "outputs": [
    {
     "data": {
      "text/plain": [
       "139"
      ]
     },
     "execution_count": 10,
     "metadata": {},
     "output_type": "execute_result"
    }
   ],
   "source": [
    "\n",
    "len(notouts)\n"
   ]
  },
  {
   "cell_type": "code",
   "execution_count": 11,
   "id": "6f500b7b",
   "metadata": {},
   "outputs": [
    {
     "data": {
      "text/plain": [
       "139"
      ]
     },
     "execution_count": 11,
     "metadata": {},
     "output_type": "execute_result"
    }
   ],
   "source": [
    "len(runs)\n"
   ]
  },
  {
   "cell_type": "code",
   "execution_count": 12,
   "id": "8a3e5631",
   "metadata": {},
   "outputs": [
    {
     "data": {
      "text/plain": [
       "139"
      ]
     },
     "execution_count": 12,
     "metadata": {},
     "output_type": "execute_result"
    }
   ],
   "source": [
    "len(bf)"
   ]
  },
  {
   "cell_type": "code",
   "execution_count": 13,
   "id": "619169fb",
   "metadata": {},
   "outputs": [
    {
     "data": {
      "text/plain": [
       "139"
      ]
     },
     "execution_count": 13,
     "metadata": {},
     "output_type": "execute_result"
    }
   ],
   "source": [
    "len(hs)\n"
   ]
  },
  {
   "cell_type": "code",
   "execution_count": 14,
   "id": "00de4b92",
   "metadata": {},
   "outputs": [
    {
     "data": {
      "text/plain": [
       "139"
      ]
     },
     "execution_count": 14,
     "metadata": {},
     "output_type": "execute_result"
    }
   ],
   "source": [
    "len(Avge)\n"
   ]
  },
  {
   "cell_type": "code",
   "execution_count": 15,
   "id": "ee99c104",
   "metadata": {},
   "outputs": [
    {
     "data": {
      "text/plain": [
       "138"
      ]
     },
     "execution_count": 15,
     "metadata": {},
     "output_type": "execute_result"
    }
   ],
   "source": [
    "len(sr)\n"
   ]
  },
  {
   "cell_type": "code",
   "execution_count": 16,
   "id": "54863527",
   "metadata": {},
   "outputs": [
    {
     "data": {
      "text/plain": [
       "138"
      ]
     },
     "execution_count": 16,
     "metadata": {},
     "output_type": "execute_result"
    }
   ],
   "source": [
    "len(fours)\n"
   ]
  },
  {
   "cell_type": "code",
   "execution_count": 17,
   "id": "0bb3caee",
   "metadata": {},
   "outputs": [
    {
     "data": {
      "text/plain": [
       "138"
      ]
     },
     "execution_count": 17,
     "metadata": {},
     "output_type": "execute_result"
    }
   ],
   "source": [
    "\n",
    "len(sixes)"
   ]
  },
  {
   "cell_type": "code",
   "execution_count": 18,
   "id": "18158e2c",
   "metadata": {},
   "outputs": [
    {
     "data": {
      "text/plain": [
       "138"
      ]
     },
     "execution_count": 18,
     "metadata": {},
     "output_type": "execute_result"
    }
   ],
   "source": [
    "len(f)\n"
   ]
  },
  {
   "cell_type": "code",
   "execution_count": 19,
   "id": "d21d846e",
   "metadata": {},
   "outputs": [
    {
     "data": {
      "text/plain": [
       "138"
      ]
     },
     "execution_count": 19,
     "metadata": {},
     "output_type": "execute_result"
    }
   ],
   "source": [
    "len(h)\n"
   ]
  },
  {
   "cell_type": "code",
   "execution_count": null,
   "id": "9eb0f828",
   "metadata": {},
   "outputs": [],
   "source": []
  },
  {
   "cell_type": "code",
   "execution_count": 20,
   "id": "c2a316e9",
   "metadata": {},
   "outputs": [],
   "source": [
    "df_2018=pd.DataFrame({\n",
    "    'names':Name[:138],\n",
    "    'matches':matches[:138],\n",
    "    'innings':innings[:138],\n",
    "    'notouts':notouts[:138],\n",
    "    'runs':runs[:138],\n",
    "    'balls':bf[:138],\n",
    "    'high_score':hs[:138],\n",
    "    'avg':Avge[:138],\n",
    "    'strike_rate':sr,\n",
    "    'fours':fours,\n",
    "    'sixes':sixes,\n",
    "    'fiftys':f,\n",
    "    'hundreds':h,\n",
    "    'season':season\n",
    "})"
   ]
  },
  {
   "cell_type": "code",
   "execution_count": 21,
   "id": "77ed3cea",
   "metadata": {},
   "outputs": [
    {
     "data": {
      "text/html": [
       "<div>\n",
       "<style scoped>\n",
       "    .dataframe tbody tr th:only-of-type {\n",
       "        vertical-align: middle;\n",
       "    }\n",
       "\n",
       "    .dataframe tbody tr th {\n",
       "        vertical-align: top;\n",
       "    }\n",
       "\n",
       "    .dataframe thead th {\n",
       "        text-align: right;\n",
       "    }\n",
       "</style>\n",
       "<table border=\"1\" class=\"dataframe\">\n",
       "  <thead>\n",
       "    <tr style=\"text-align: right;\">\n",
       "      <th></th>\n",
       "      <th>names</th>\n",
       "      <th>matches</th>\n",
       "      <th>innings</th>\n",
       "      <th>notouts</th>\n",
       "      <th>runs</th>\n",
       "      <th>balls</th>\n",
       "      <th>high_score</th>\n",
       "      <th>avg</th>\n",
       "      <th>strike_rate</th>\n",
       "      <th>fours</th>\n",
       "      <th>sixes</th>\n",
       "      <th>fiftys</th>\n",
       "      <th>hundreds</th>\n",
       "      <th>season</th>\n",
       "    </tr>\n",
       "  </thead>\n",
       "  <tbody>\n",
       "    <tr>\n",
       "      <th>0</th>\n",
       "      <td>\\n\\n\\n\\nKane Williamson\\n\\n\\n\\n</td>\n",
       "      <td>17</td>\n",
       "      <td>17</td>\n",
       "      <td>3</td>\n",
       "      <td>735</td>\n",
       "      <td>516</td>\n",
       "      <td>84</td>\n",
       "      <td>52.50</td>\n",
       "      <td>142.44</td>\n",
       "      <td>64</td>\n",
       "      <td>28</td>\n",
       "      <td>0</td>\n",
       "      <td>8</td>\n",
       "      <td>2018</td>\n",
       "    </tr>\n",
       "    <tr>\n",
       "      <th>1</th>\n",
       "      <td>\\n\\n\\n\\nRishabh Pant\\n\\n\\n</td>\n",
       "      <td>14</td>\n",
       "      <td>14</td>\n",
       "      <td>1</td>\n",
       "      <td>684</td>\n",
       "      <td>394</td>\n",
       "      <td>128</td>\n",
       "      <td>52.61</td>\n",
       "      <td>173.60</td>\n",
       "      <td>68</td>\n",
       "      <td>37</td>\n",
       "      <td>1</td>\n",
       "      <td>5</td>\n",
       "      <td>2018</td>\n",
       "    </tr>\n",
       "    <tr>\n",
       "      <th>2</th>\n",
       "      <td>\\n\\n\\n\\nKL Rahul\\n\\n\\n</td>\n",
       "      <td>14</td>\n",
       "      <td>14</td>\n",
       "      <td>2</td>\n",
       "      <td>659</td>\n",
       "      <td>416</td>\n",
       "      <td>95</td>\n",
       "      <td>54.91</td>\n",
       "      <td>158.41</td>\n",
       "      <td>66</td>\n",
       "      <td>32</td>\n",
       "      <td>0</td>\n",
       "      <td>6</td>\n",
       "      <td>2018</td>\n",
       "    </tr>\n",
       "    <tr>\n",
       "      <th>3</th>\n",
       "      <td>\\n\\n\\n\\nAmbati Rayudu\\n\\n\\n</td>\n",
       "      <td>16</td>\n",
       "      <td>16</td>\n",
       "      <td>2</td>\n",
       "      <td>602</td>\n",
       "      <td>402</td>\n",
       "      <td>100</td>\n",
       "      <td>43.00</td>\n",
       "      <td>149.75</td>\n",
       "      <td>53</td>\n",
       "      <td>34</td>\n",
       "      <td>1</td>\n",
       "      <td>3</td>\n",
       "      <td>2018</td>\n",
       "    </tr>\n",
       "    <tr>\n",
       "      <th>4</th>\n",
       "      <td>\\n\\n\\n\\nShane Watson\\n\\n\\n</td>\n",
       "      <td>15</td>\n",
       "      <td>15</td>\n",
       "      <td>1</td>\n",
       "      <td>555</td>\n",
       "      <td>359</td>\n",
       "      <td>117</td>\n",
       "      <td>39.64</td>\n",
       "      <td>154.59</td>\n",
       "      <td>44</td>\n",
       "      <td>35</td>\n",
       "      <td>2</td>\n",
       "      <td>2</td>\n",
       "      <td>2018</td>\n",
       "    </tr>\n",
       "    <tr>\n",
       "      <th>...</th>\n",
       "      <td>...</td>\n",
       "      <td>...</td>\n",
       "      <td>...</td>\n",
       "      <td>...</td>\n",
       "      <td>...</td>\n",
       "      <td>...</td>\n",
       "      <td>...</td>\n",
       "      <td>...</td>\n",
       "      <td>...</td>\n",
       "      <td>...</td>\n",
       "      <td>...</td>\n",
       "      <td>...</td>\n",
       "      <td>...</td>\n",
       "      <td>...</td>\n",
       "    </tr>\n",
       "    <tr>\n",
       "      <th>133</th>\n",
       "      <td>\\n\\n\\n\\nYuzvendra Chahal\\n\\n\\n</td>\n",
       "      <td>14</td>\n",
       "      <td>1</td>\n",
       "      <td>1</td>\n",
       "      <td>0</td>\n",
       "      <td>4</td>\n",
       "      <td>0</td>\n",
       "      <td>0.00</td>\n",
       "      <td>0.00</td>\n",
       "      <td>0</td>\n",
       "      <td>0</td>\n",
       "      <td>0</td>\n",
       "      <td>0</td>\n",
       "      <td>2018</td>\n",
       "    </tr>\n",
       "    <tr>\n",
       "      <th>134</th>\n",
       "      <td>\\n\\n\\n\\nPradeep Sangwan\\n\\n\\n</td>\n",
       "      <td>1</td>\n",
       "      <td>1</td>\n",
       "      <td>0</td>\n",
       "      <td>0</td>\n",
       "      <td>4</td>\n",
       "      <td>0</td>\n",
       "      <td>0.00</td>\n",
       "      <td>0.00</td>\n",
       "      <td>0</td>\n",
       "      <td>0</td>\n",
       "      <td>0</td>\n",
       "      <td>0</td>\n",
       "      <td>2018</td>\n",
       "    </tr>\n",
       "    <tr>\n",
       "      <th>135</th>\n",
       "      <td>\\n\\n\\n\\nSandeep Sharma\\n\\n\\n</td>\n",
       "      <td>12</td>\n",
       "      <td>3</td>\n",
       "      <td>1</td>\n",
       "      <td>0</td>\n",
       "      <td>4</td>\n",
       "      <td>0</td>\n",
       "      <td>0.00</td>\n",
       "      <td>0.00</td>\n",
       "      <td>0</td>\n",
       "      <td>0</td>\n",
       "      <td>0</td>\n",
       "      <td>0</td>\n",
       "      <td>2018</td>\n",
       "    </tr>\n",
       "    <tr>\n",
       "      <th>136</th>\n",
       "      <td>\\n\\n\\n\\nRicky Bhui\\n\\n\\n</td>\n",
       "      <td>1</td>\n",
       "      <td>1</td>\n",
       "      <td>0</td>\n",
       "      <td>0</td>\n",
       "      <td>5</td>\n",
       "      <td>0</td>\n",
       "      <td>0.00</td>\n",
       "      <td>0.00</td>\n",
       "      <td>0</td>\n",
       "      <td>0</td>\n",
       "      <td>0</td>\n",
       "      <td>0</td>\n",
       "      <td>2018</td>\n",
       "    </tr>\n",
       "    <tr>\n",
       "      <th>137</th>\n",
       "      <td>\\n\\n\\n\\nTrent Boult\\n\\n\\n</td>\n",
       "      <td>14</td>\n",
       "      <td>1</td>\n",
       "      <td>0</td>\n",
       "      <td>0</td>\n",
       "      <td>2</td>\n",
       "      <td>0</td>\n",
       "      <td>0.00</td>\n",
       "      <td>0.00</td>\n",
       "      <td>0</td>\n",
       "      <td>0</td>\n",
       "      <td>0</td>\n",
       "      <td>0</td>\n",
       "      <td>2018</td>\n",
       "    </tr>\n",
       "  </tbody>\n",
       "</table>\n",
       "<p>138 rows × 14 columns</p>\n",
       "</div>"
      ],
      "text/plain": [
       "                               names matches innings notouts runs balls  \\\n",
       "0    \\n\\n\\n\\nKane Williamson\\n\\n\\n\\n      17      17       3  735   516   \n",
       "1         \\n\\n\\n\\nRishabh Pant\\n\\n\\n      14      14       1  684   394   \n",
       "2             \\n\\n\\n\\nKL Rahul\\n\\n\\n      14      14       2  659   416   \n",
       "3        \\n\\n\\n\\nAmbati Rayudu\\n\\n\\n      16      16       2  602   402   \n",
       "4         \\n\\n\\n\\nShane Watson\\n\\n\\n      15      15       1  555   359   \n",
       "..                               ...     ...     ...     ...  ...   ...   \n",
       "133   \\n\\n\\n\\nYuzvendra Chahal\\n\\n\\n      14       1       1    0     4   \n",
       "134    \\n\\n\\n\\nPradeep Sangwan\\n\\n\\n       1       1       0    0     4   \n",
       "135     \\n\\n\\n\\nSandeep Sharma\\n\\n\\n      12       3       1    0     4   \n",
       "136         \\n\\n\\n\\nRicky Bhui\\n\\n\\n       1       1       0    0     5   \n",
       "137        \\n\\n\\n\\nTrent Boult\\n\\n\\n      14       1       0    0     2   \n",
       "\n",
       "    high_score    avg strike_rate fours sixes fiftys hundreds  season  \n",
       "0           84  52.50      142.44    64    28      0        8    2018  \n",
       "1          128  52.61      173.60    68    37      1        5    2018  \n",
       "2           95  54.91      158.41    66    32      0        6    2018  \n",
       "3          100  43.00      149.75    53    34      1        3    2018  \n",
       "4          117  39.64      154.59    44    35      2        2    2018  \n",
       "..         ...    ...         ...   ...   ...    ...      ...     ...  \n",
       "133          0   0.00        0.00     0     0      0        0    2018  \n",
       "134          0   0.00        0.00     0     0      0        0    2018  \n",
       "135          0   0.00        0.00     0     0      0        0    2018  \n",
       "136          0   0.00        0.00     0     0      0        0    2018  \n",
       "137          0   0.00        0.00     0     0      0        0    2018  \n",
       "\n",
       "[138 rows x 14 columns]"
      ]
     },
     "execution_count": 21,
     "metadata": {},
     "output_type": "execute_result"
    }
   ],
   "source": [
    "df_2018"
   ]
  },
  {
   "cell_type": "code",
   "execution_count": 22,
   "id": "f95c5762",
   "metadata": {},
   "outputs": [],
   "source": [
    "df_2018.to_csv('df_2018ipl.csv')"
   ]
  }
 ],
 "metadata": {
  "kernelspec": {
   "display_name": "Python 3 (ipykernel)",
   "language": "python",
   "name": "python3"
  },
  "language_info": {
   "codemirror_mode": {
    "name": "ipython",
    "version": 3
   },
   "file_extension": ".py",
   "mimetype": "text/x-python",
   "name": "python",
   "nbconvert_exporter": "python",
   "pygments_lexer": "ipython3",
   "version": "3.8.12"
  }
 },
 "nbformat": 4,
 "nbformat_minor": 5
}
