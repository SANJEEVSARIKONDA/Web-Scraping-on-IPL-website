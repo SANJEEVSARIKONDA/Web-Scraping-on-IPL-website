{
 "cells": [
  {
   "cell_type": "code",
   "execution_count": 1,
   "id": "e23b9bc8",
   "metadata": {},
   "outputs": [],
   "source": [
    "import matplotlib as plt\n",
    "import matplotlib.pyplot as plt\n",
    "import seaborn as sns\n",
    "from bs4 import BeautifulSoup \n",
    "import pandas as pd\n",
    "import numpy as np\n",
    "import requests"
   ]
  },
  {
   "cell_type": "code",
   "execution_count": 2,
   "id": "8b7c717f",
   "metadata": {},
   "outputs": [],
   "source": [
    "page=requests.get(\"https://www.iplt20.com/stats/2015\")\n",
    "\n",
    "soup=BeautifulSoup(page.text)\n"
   ]
  },
  {
   "cell_type": "code",
   "execution_count": 3,
   "id": "9c53a6ba",
   "metadata": {},
   "outputs": [],
   "source": [
    "columns = []\n",
    "for i in soup.findAll('th')[:14]:\n",
    "    columns.append(i.text)"
   ]
  },
  {
   "cell_type": "code",
   "execution_count": 4,
   "id": "1962fd08",
   "metadata": {},
   "outputs": [
    {
     "data": {
      "text/plain": [
       "['POS',\n",
       " 'Player',\n",
       " 'Mat',\n",
       " 'Inns',\n",
       " 'NO',\n",
       " 'Runs',\n",
       " 'HS',\n",
       " 'Avg',\n",
       " 'BF',\n",
       " 'SR',\n",
       " '100',\n",
       " '50',\n",
       " '4s',\n",
       " '6s']"
      ]
     },
     "execution_count": 4,
     "metadata": {},
     "output_type": "execute_result"
    }
   ],
   "source": [
    "columns\n"
   ]
  },
  {
   "cell_type": "code",
   "execution_count": 5,
   "id": "f19884bc",
   "metadata": {},
   "outputs": [],
   "source": [
    "table=[]\n",
    "for val in soup.findAll('td'):\n",
    "    table.append(val.text)"
   ]
  },
  {
   "cell_type": "code",
   "execution_count": 6,
   "id": "543ac9f1",
   "metadata": {},
   "outputs": [],
   "source": [
    "Name=[]\n",
    "matches=[]\n",
    "innings=[]\n",
    "notouts=[]\n",
    "runs=[]\n",
    "hs=[]\n",
    "Avge=[]\n",
    "bf=[]\n",
    "sr=[]\n",
    "f=[]\n",
    "h=[]\n",
    "fours=[]\n",
    "sixes=[]\n",
    "\n",
    "season = []\n",
    "\n",
    "for val in table[1::14]:\n",
    "       Name.append(val)\n",
    "        \n",
    "\n",
    "for i in table[2::14]:\n",
    "        matches.append(i)\n",
    "    \n",
    "for i in table[3::14]:\n",
    "       innings.append(i)\n",
    "\n",
    "for i in table[4::14]:\n",
    "        notouts.append(i)\n",
    "\n",
    "for i in table[5::14]:\n",
    "        runs.append(i)\n",
    "\n",
    "for i in table[6::14]:\n",
    "        hs.append(i)\n",
    "\n",
    "for i in table[7::14]:\n",
    "        Avge.append(i)\n",
    "\n",
    "for i in table[8::14]:\n",
    "        bf.append(i)\n",
    "\n",
    "for i in table[9::14]:\n",
    "        sr.append(i)\n",
    "\n",
    "for i in table[10::14]:\n",
    "        f.append(i)\n",
    "\n",
    "for i in table[11::14]:\n",
    "        h.append(i)\n",
    "\n",
    "for i in table[12::14]:\n",
    "        fours.append(i)\n",
    "\n",
    "for i in table[13::14]:\n",
    "    if i == ' ':\n",
    "        sixes.append(np.NaN)\n",
    "    else:\n",
    "        sixes.append(i)\n",
    "        \n",
    "        season.append(2015)\n",
    "        "
   ]
  },
  {
   "cell_type": "code",
   "execution_count": null,
   "id": "cf281adc",
   "metadata": {},
   "outputs": [],
   "source": []
  },
  {
   "cell_type": "code",
   "execution_count": 7,
   "id": "71c3ab16",
   "metadata": {},
   "outputs": [
    {
     "data": {
      "text/plain": [
       "130"
      ]
     },
     "execution_count": 7,
     "metadata": {},
     "output_type": "execute_result"
    }
   ],
   "source": [
    "len(matches[:131])"
   ]
  },
  {
   "cell_type": "code",
   "execution_count": 8,
   "id": "16505b67",
   "metadata": {},
   "outputs": [
    {
     "data": {
      "text/plain": [
       "130"
      ]
     },
     "execution_count": 8,
     "metadata": {},
     "output_type": "execute_result"
    }
   ],
   "source": [
    "len(innings)"
   ]
  },
  {
   "cell_type": "code",
   "execution_count": 9,
   "id": "1939481f",
   "metadata": {},
   "outputs": [
    {
     "data": {
      "text/plain": [
       "130"
      ]
     },
     "execution_count": 9,
     "metadata": {},
     "output_type": "execute_result"
    }
   ],
   "source": [
    "\n",
    "len(notouts)\n"
   ]
  },
  {
   "cell_type": "code",
   "execution_count": 10,
   "id": "6f500b7b",
   "metadata": {},
   "outputs": [
    {
     "data": {
      "text/plain": [
       "130"
      ]
     },
     "execution_count": 10,
     "metadata": {},
     "output_type": "execute_result"
    }
   ],
   "source": [
    "len(runs)\n"
   ]
  },
  {
   "cell_type": "code",
   "execution_count": null,
   "id": "7f964596",
   "metadata": {},
   "outputs": [],
   "source": []
  },
  {
   "cell_type": "code",
   "execution_count": 11,
   "id": "619169fb",
   "metadata": {},
   "outputs": [
    {
     "data": {
      "text/plain": [
       "130"
      ]
     },
     "execution_count": 11,
     "metadata": {},
     "output_type": "execute_result"
    }
   ],
   "source": [
    "len(hs)\n"
   ]
  },
  {
   "cell_type": "code",
   "execution_count": 12,
   "id": "00de4b92",
   "metadata": {},
   "outputs": [
    {
     "data": {
      "text/plain": [
       "130"
      ]
     },
     "execution_count": 12,
     "metadata": {},
     "output_type": "execute_result"
    }
   ],
   "source": [
    "len(Avge)\n"
   ]
  },
  {
   "cell_type": "code",
   "execution_count": 13,
   "id": "ee99c104",
   "metadata": {},
   "outputs": [
    {
     "data": {
      "text/plain": [
       "130"
      ]
     },
     "execution_count": 13,
     "metadata": {},
     "output_type": "execute_result"
    }
   ],
   "source": [
    "len(bf)\n"
   ]
  },
  {
   "cell_type": "code",
   "execution_count": 14,
   "id": "54863527",
   "metadata": {},
   "outputs": [
    {
     "data": {
      "text/plain": [
       "129"
      ]
     },
     "execution_count": 14,
     "metadata": {},
     "output_type": "execute_result"
    }
   ],
   "source": [
    "len(sr)\n"
   ]
  },
  {
   "cell_type": "code",
   "execution_count": 15,
   "id": "0bb3caee",
   "metadata": {},
   "outputs": [
    {
     "data": {
      "text/plain": [
       "129"
      ]
     },
     "execution_count": 15,
     "metadata": {},
     "output_type": "execute_result"
    }
   ],
   "source": [
    "len(f)\n"
   ]
  },
  {
   "cell_type": "code",
   "execution_count": 16,
   "id": "18158e2c",
   "metadata": {},
   "outputs": [
    {
     "data": {
      "text/plain": [
       "129"
      ]
     },
     "execution_count": 16,
     "metadata": {},
     "output_type": "execute_result"
    }
   ],
   "source": [
    "\n",
    "len(h)\n"
   ]
  },
  {
   "cell_type": "code",
   "execution_count": 17,
   "id": "d21d846e",
   "metadata": {},
   "outputs": [
    {
     "data": {
      "text/plain": [
       "129"
      ]
     },
     "execution_count": 17,
     "metadata": {},
     "output_type": "execute_result"
    }
   ],
   "source": [
    "len(fours)\n"
   ]
  },
  {
   "cell_type": "code",
   "execution_count": 18,
   "id": "9eb0f828",
   "metadata": {},
   "outputs": [
    {
     "data": {
      "text/plain": [
       "129"
      ]
     },
     "execution_count": 18,
     "metadata": {},
     "output_type": "execute_result"
    }
   ],
   "source": [
    "len(sixes)"
   ]
  },
  {
   "cell_type": "code",
   "execution_count": 19,
   "id": "c2a316e9",
   "metadata": {},
   "outputs": [],
   "source": [
    "df_2015=pd.DataFrame({\n",
    "    'names':Name[:129],\n",
    "    'matches':matches[:129],\n",
    "    'innings':innings[:129],\n",
    "    'notouts':notouts[:129],\n",
    "    'runs':runs[:129],\n",
    "    'balls':bf[:129],\n",
    "    'high_score':hs[:129],\n",
    "    'avg':Avge[:129],\n",
    "    'strike_rate':sr,\n",
    "    'fours':fours,\n",
    "    'sixes':sixes,\n",
    "    'fiftys':f,\n",
    "    'hundreds':h,\n",
    "    'season':season\n",
    "})"
   ]
  },
  {
   "cell_type": "code",
   "execution_count": 20,
   "id": "77ed3cea",
   "metadata": {},
   "outputs": [
    {
     "data": {
      "text/html": [
       "<div>\n",
       "<style scoped>\n",
       "    .dataframe tbody tr th:only-of-type {\n",
       "        vertical-align: middle;\n",
       "    }\n",
       "\n",
       "    .dataframe tbody tr th {\n",
       "        vertical-align: top;\n",
       "    }\n",
       "\n",
       "    .dataframe thead th {\n",
       "        text-align: right;\n",
       "    }\n",
       "</style>\n",
       "<table border=\"1\" class=\"dataframe\">\n",
       "  <thead>\n",
       "    <tr style=\"text-align: right;\">\n",
       "      <th></th>\n",
       "      <th>names</th>\n",
       "      <th>matches</th>\n",
       "      <th>innings</th>\n",
       "      <th>notouts</th>\n",
       "      <th>runs</th>\n",
       "      <th>balls</th>\n",
       "      <th>high_score</th>\n",
       "      <th>avg</th>\n",
       "      <th>strike_rate</th>\n",
       "      <th>fours</th>\n",
       "      <th>sixes</th>\n",
       "      <th>fiftys</th>\n",
       "      <th>hundreds</th>\n",
       "      <th>season</th>\n",
       "    </tr>\n",
       "  </thead>\n",
       "  <tbody>\n",
       "    <tr>\n",
       "      <th>0</th>\n",
       "      <td>\\n\\n\\n\\nDavid Warner\\n\\n\\n\\n</td>\n",
       "      <td>14</td>\n",
       "      <td>14</td>\n",
       "      <td>1</td>\n",
       "      <td>562</td>\n",
       "      <td>359</td>\n",
       "      <td>91</td>\n",
       "      <td>43.23</td>\n",
       "      <td>156.54</td>\n",
       "      <td>65</td>\n",
       "      <td>21</td>\n",
       "      <td>0</td>\n",
       "      <td>7</td>\n",
       "      <td>2015</td>\n",
       "    </tr>\n",
       "    <tr>\n",
       "      <th>1</th>\n",
       "      <td>\\n\\n\\n\\nLendl Simmons\\n\\n\\n</td>\n",
       "      <td>13</td>\n",
       "      <td>13</td>\n",
       "      <td>1</td>\n",
       "      <td>540</td>\n",
       "      <td>441</td>\n",
       "      <td>71</td>\n",
       "      <td>45.00</td>\n",
       "      <td>122.44</td>\n",
       "      <td>56</td>\n",
       "      <td>21</td>\n",
       "      <td>0</td>\n",
       "      <td>6</td>\n",
       "      <td>2015</td>\n",
       "    </tr>\n",
       "    <tr>\n",
       "      <th>2</th>\n",
       "      <td>\\n\\n\\n\\nAjinkya Rahane\\n\\n\\n</td>\n",
       "      <td>14</td>\n",
       "      <td>13</td>\n",
       "      <td>2</td>\n",
       "      <td>540</td>\n",
       "      <td>413</td>\n",
       "      <td>91</td>\n",
       "      <td>49.09</td>\n",
       "      <td>130.75</td>\n",
       "      <td>53</td>\n",
       "      <td>13</td>\n",
       "      <td>0</td>\n",
       "      <td>4</td>\n",
       "      <td>2015</td>\n",
       "    </tr>\n",
       "    <tr>\n",
       "      <th>3</th>\n",
       "      <td>\\n\\n\\n\\nAB de Villiers\\n\\n\\n</td>\n",
       "      <td>16</td>\n",
       "      <td>14</td>\n",
       "      <td>3</td>\n",
       "      <td>513</td>\n",
       "      <td>293</td>\n",
       "      <td>133</td>\n",
       "      <td>46.63</td>\n",
       "      <td>175.08</td>\n",
       "      <td>60</td>\n",
       "      <td>22</td>\n",
       "      <td>1</td>\n",
       "      <td>2</td>\n",
       "      <td>2015</td>\n",
       "    </tr>\n",
       "    <tr>\n",
       "      <th>4</th>\n",
       "      <td>\\n\\n\\n\\nVirat Kohli\\n\\n\\n</td>\n",
       "      <td>16</td>\n",
       "      <td>16</td>\n",
       "      <td>5</td>\n",
       "      <td>505</td>\n",
       "      <td>386</td>\n",
       "      <td>82</td>\n",
       "      <td>45.90</td>\n",
       "      <td>130.82</td>\n",
       "      <td>35</td>\n",
       "      <td>23</td>\n",
       "      <td>0</td>\n",
       "      <td>3</td>\n",
       "      <td>2015</td>\n",
       "    </tr>\n",
       "    <tr>\n",
       "      <th>...</th>\n",
       "      <td>...</td>\n",
       "      <td>...</td>\n",
       "      <td>...</td>\n",
       "      <td>...</td>\n",
       "      <td>...</td>\n",
       "      <td>...</td>\n",
       "      <td>...</td>\n",
       "      <td>...</td>\n",
       "      <td>...</td>\n",
       "      <td>...</td>\n",
       "      <td>...</td>\n",
       "      <td>...</td>\n",
       "      <td>...</td>\n",
       "      <td>...</td>\n",
       "    </tr>\n",
       "    <tr>\n",
       "      <th>124</th>\n",
       "      <td>\\n\\n\\n\\nVinay Kumar\\n\\n\\n</td>\n",
       "      <td>13</td>\n",
       "      <td>3</td>\n",
       "      <td>2</td>\n",
       "      <td>0</td>\n",
       "      <td>2</td>\n",
       "      <td>0</td>\n",
       "      <td>0.00</td>\n",
       "      <td>0.00</td>\n",
       "      <td>0</td>\n",
       "      <td>0</td>\n",
       "      <td>0</td>\n",
       "      <td>0</td>\n",
       "      <td>2015</td>\n",
       "    </tr>\n",
       "    <tr>\n",
       "      <th>125</th>\n",
       "      <td>\\n\\n\\n\\nSunil Narine\\n\\n\\n</td>\n",
       "      <td>8</td>\n",
       "      <td>1</td>\n",
       "      <td>1</td>\n",
       "      <td>0</td>\n",
       "      <td>1</td>\n",
       "      <td>0</td>\n",
       "      <td>0.00</td>\n",
       "      <td>0.00</td>\n",
       "      <td>0</td>\n",
       "      <td>0</td>\n",
       "      <td>0</td>\n",
       "      <td>0</td>\n",
       "      <td>2015</td>\n",
       "    </tr>\n",
       "    <tr>\n",
       "      <th>126</th>\n",
       "      <td>\\n\\n\\n\\nPat Cummins\\n\\n\\n</td>\n",
       "      <td>3</td>\n",
       "      <td>1</td>\n",
       "      <td>0</td>\n",
       "      <td>0</td>\n",
       "      <td>2</td>\n",
       "      <td>0</td>\n",
       "      <td>0.00</td>\n",
       "      <td>0.00</td>\n",
       "      <td>0</td>\n",
       "      <td>0</td>\n",
       "      <td>0</td>\n",
       "      <td>0</td>\n",
       "      <td>2015</td>\n",
       "    </tr>\n",
       "    <tr>\n",
       "      <th>127</th>\n",
       "      <td>\\n\\n\\n\\nRajat Bhatia\\n\\n\\n</td>\n",
       "      <td>2</td>\n",
       "      <td>1</td>\n",
       "      <td>0</td>\n",
       "      <td>0</td>\n",
       "      <td>1</td>\n",
       "      <td>0</td>\n",
       "      <td>0.00</td>\n",
       "      <td>0.00</td>\n",
       "      <td>0</td>\n",
       "      <td>0</td>\n",
       "      <td>0</td>\n",
       "      <td>0</td>\n",
       "      <td>2015</td>\n",
       "    </tr>\n",
       "    <tr>\n",
       "      <th>128</th>\n",
       "      <td>\\n\\n\\n\\nSreenath Aravind\\n\\n\\n</td>\n",
       "      <td>5</td>\n",
       "      <td>1</td>\n",
       "      <td>1</td>\n",
       "      <td>0</td>\n",
       "      <td>1</td>\n",
       "      <td>0</td>\n",
       "      <td>0.00</td>\n",
       "      <td>0.00</td>\n",
       "      <td>0</td>\n",
       "      <td>0</td>\n",
       "      <td>0</td>\n",
       "      <td>0</td>\n",
       "      <td>2015</td>\n",
       "    </tr>\n",
       "  </tbody>\n",
       "</table>\n",
       "<p>129 rows × 14 columns</p>\n",
       "</div>"
      ],
      "text/plain": [
       "                              names matches innings notouts runs balls  \\\n",
       "0      \\n\\n\\n\\nDavid Warner\\n\\n\\n\\n      14      14       1  562   359   \n",
       "1       \\n\\n\\n\\nLendl Simmons\\n\\n\\n      13      13       1  540   441   \n",
       "2      \\n\\n\\n\\nAjinkya Rahane\\n\\n\\n      14      13       2  540   413   \n",
       "3      \\n\\n\\n\\nAB de Villiers\\n\\n\\n      16      14       3  513   293   \n",
       "4         \\n\\n\\n\\nVirat Kohli\\n\\n\\n      16      16       5  505   386   \n",
       "..                              ...     ...     ...     ...  ...   ...   \n",
       "124       \\n\\n\\n\\nVinay Kumar\\n\\n\\n      13       3       2    0     2   \n",
       "125      \\n\\n\\n\\nSunil Narine\\n\\n\\n       8       1       1    0     1   \n",
       "126       \\n\\n\\n\\nPat Cummins\\n\\n\\n       3       1       0    0     2   \n",
       "127      \\n\\n\\n\\nRajat Bhatia\\n\\n\\n       2       1       0    0     1   \n",
       "128  \\n\\n\\n\\nSreenath Aravind\\n\\n\\n       5       1       1    0     1   \n",
       "\n",
       "    high_score    avg strike_rate fours sixes fiftys hundreds  season  \n",
       "0           91  43.23      156.54    65    21      0        7    2015  \n",
       "1           71  45.00      122.44    56    21      0        6    2015  \n",
       "2           91  49.09      130.75    53    13      0        4    2015  \n",
       "3          133  46.63      175.08    60    22      1        2    2015  \n",
       "4           82  45.90      130.82    35    23      0        3    2015  \n",
       "..         ...    ...         ...   ...   ...    ...      ...     ...  \n",
       "124          0   0.00        0.00     0     0      0        0    2015  \n",
       "125          0   0.00        0.00     0     0      0        0    2015  \n",
       "126          0   0.00        0.00     0     0      0        0    2015  \n",
       "127          0   0.00        0.00     0     0      0        0    2015  \n",
       "128          0   0.00        0.00     0     0      0        0    2015  \n",
       "\n",
       "[129 rows x 14 columns]"
      ]
     },
     "execution_count": 20,
     "metadata": {},
     "output_type": "execute_result"
    }
   ],
   "source": [
    "df_2015"
   ]
  },
  {
   "cell_type": "code",
   "execution_count": 21,
   "id": "f95c5762",
   "metadata": {},
   "outputs": [],
   "source": [
    "df_2015.to_csv('df_2015ipl.csv')"
   ]
  }
 ],
 "metadata": {
  "kernelspec": {
   "display_name": "Python 3 (ipykernel)",
   "language": "python",
   "name": "python3"
  },
  "language_info": {
   "codemirror_mode": {
    "name": "ipython",
    "version": 3
   },
   "file_extension": ".py",
   "mimetype": "text/x-python",
   "name": "python",
   "nbconvert_exporter": "python",
   "pygments_lexer": "ipython3",
   "version": "3.8.12"
  }
 },
 "nbformat": 4,
 "nbformat_minor": 5
}
