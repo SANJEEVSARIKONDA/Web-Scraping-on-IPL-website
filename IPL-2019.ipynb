{
 "cells": [
  {
   "cell_type": "code",
   "execution_count": 1,
   "id": "e23b9bc8",
   "metadata": {},
   "outputs": [],
   "source": [
    "import matplotlib as plt\n",
    "import matplotlib.pyplot as plt\n",
    "import seaborn as sns\n",
    "from bs4 import BeautifulSoup \n",
    "import pandas as pd\n",
    "import numpy as np\n",
    "import requests"
   ]
  },
  {
   "cell_type": "code",
   "execution_count": 2,
   "id": "8b7c717f",
   "metadata": {},
   "outputs": [],
   "source": [
    "page=requests.get(\"https://www.iplt20.com/stats/2019\")\n",
    "\n",
    "soup=BeautifulSoup(page.text)\n"
   ]
  },
  {
   "cell_type": "code",
   "execution_count": 3,
   "id": "9c53a6ba",
   "metadata": {},
   "outputs": [],
   "source": [
    "columns = []\n",
    "for i in soup.findAll('th')[:14]:\n",
    "    columns.append(i.text)"
   ]
  },
  {
   "cell_type": "code",
   "execution_count": 4,
   "id": "1962fd08",
   "metadata": {},
   "outputs": [
    {
     "data": {
      "text/plain": [
       "['POS',\n",
       " 'Player',\n",
       " 'Mat',\n",
       " 'Inns',\n",
       " 'NO',\n",
       " 'Runs',\n",
       " 'HS',\n",
       " 'Avg',\n",
       " 'BF',\n",
       " 'SR',\n",
       " '100',\n",
       " '50',\n",
       " '4s',\n",
       " '6s']"
      ]
     },
     "execution_count": 4,
     "metadata": {},
     "output_type": "execute_result"
    }
   ],
   "source": [
    "columns\n"
   ]
  },
  {
   "cell_type": "code",
   "execution_count": 5,
   "id": "7f1174d6",
   "metadata": {},
   "outputs": [],
   "source": [
    "table=[]\n",
    "for val in soup.findAll('td'):\n",
    "    table.append(val.text)"
   ]
  },
  {
   "cell_type": "code",
   "execution_count": 6,
   "id": "543ac9f1",
   "metadata": {},
   "outputs": [],
   "source": [
    "Name=[]\n",
    "matches=[]\n",
    "innings=[]\n",
    "notouts=[]\n",
    "runs=[]\n",
    "hs=[]\n",
    "Avge=[]\n",
    "bf=[]\n",
    "sr=[]\n",
    "f=[]\n",
    "h=[]\n",
    "fours=[]\n",
    "sixes=[]\n",
    "\n",
    "season = []\n",
    "\n",
    "for val in table[1::14]:\n",
    "       Name.append(val)\n",
    "        \n",
    "\n",
    "for i in table[2::14]:\n",
    "        matches.append(i)\n",
    "    \n",
    "for i in table[3::14]:\n",
    "       innings.append(i)\n",
    "\n",
    "for i in table[4::14]:\n",
    "        notouts.append(i)\n",
    "\n",
    "for i in table[5::14]:\n",
    "        runs.append(i)\n",
    "\n",
    "for i in table[6::14]:\n",
    "        hs.append(i)\n",
    "\n",
    "for i in table[7::14]:\n",
    "        Avge.append(i)\n",
    "\n",
    "for i in table[8::14]:\n",
    "        bf.append(i)\n",
    "\n",
    "for i in table[9::14]:\n",
    "        sr.append(i)\n",
    "\n",
    "for i in table[10::14]:\n",
    "        f.append(i)\n",
    "\n",
    "for i in table[11::14]:\n",
    "        h.append(i)\n",
    "\n",
    "for i in table[12::14]:\n",
    "        fours.append(i)\n",
    "\n",
    "for i in table[13::14]:\n",
    "    if i == ' ':\n",
    "        sixes.append(np.NaN)\n",
    "    else:\n",
    "        sixes.append(i)\n",
    "        \n",
    "        season.append(2019)\n",
    "        "
   ]
  },
  {
   "cell_type": "code",
   "execution_count": 7,
   "id": "cf281adc",
   "metadata": {},
   "outputs": [
    {
     "data": {
      "text/plain": [
       "145"
      ]
     },
     "execution_count": 7,
     "metadata": {},
     "output_type": "execute_result"
    }
   ],
   "source": [
    "len(Name)"
   ]
  },
  {
   "cell_type": "code",
   "execution_count": 8,
   "id": "71c3ab16",
   "metadata": {},
   "outputs": [
    {
     "data": {
      "text/plain": [
       "145"
      ]
     },
     "execution_count": 8,
     "metadata": {},
     "output_type": "execute_result"
    }
   ],
   "source": [
    "len(matches)"
   ]
  },
  {
   "cell_type": "code",
   "execution_count": 9,
   "id": "16505b67",
   "metadata": {},
   "outputs": [
    {
     "data": {
      "text/plain": [
       "145"
      ]
     },
     "execution_count": 9,
     "metadata": {},
     "output_type": "execute_result"
    }
   ],
   "source": [
    "len(innings)"
   ]
  },
  {
   "cell_type": "code",
   "execution_count": 10,
   "id": "1939481f",
   "metadata": {},
   "outputs": [
    {
     "data": {
      "text/plain": [
       "145"
      ]
     },
     "execution_count": 10,
     "metadata": {},
     "output_type": "execute_result"
    }
   ],
   "source": [
    "\n",
    "len(notouts)\n"
   ]
  },
  {
   "cell_type": "code",
   "execution_count": 11,
   "id": "6f500b7b",
   "metadata": {},
   "outputs": [
    {
     "data": {
      "text/plain": [
       "145"
      ]
     },
     "execution_count": 11,
     "metadata": {},
     "output_type": "execute_result"
    }
   ],
   "source": [
    "len(runs)\n"
   ]
  },
  {
   "cell_type": "code",
   "execution_count": 12,
   "id": "8a3e5631",
   "metadata": {},
   "outputs": [
    {
     "data": {
      "text/plain": [
       "145"
      ]
     },
     "execution_count": 12,
     "metadata": {},
     "output_type": "execute_result"
    }
   ],
   "source": [
    "len(bf)"
   ]
  },
  {
   "cell_type": "code",
   "execution_count": 13,
   "id": "619169fb",
   "metadata": {},
   "outputs": [
    {
     "data": {
      "text/plain": [
       "145"
      ]
     },
     "execution_count": 13,
     "metadata": {},
     "output_type": "execute_result"
    }
   ],
   "source": [
    "len(hs)\n"
   ]
  },
  {
   "cell_type": "code",
   "execution_count": 14,
   "id": "00de4b92",
   "metadata": {},
   "outputs": [
    {
     "data": {
      "text/plain": [
       "145"
      ]
     },
     "execution_count": 14,
     "metadata": {},
     "output_type": "execute_result"
    }
   ],
   "source": [
    "len(Avge)\n"
   ]
  },
  {
   "cell_type": "code",
   "execution_count": 15,
   "id": "ee99c104",
   "metadata": {},
   "outputs": [
    {
     "data": {
      "text/plain": [
       "144"
      ]
     },
     "execution_count": 15,
     "metadata": {},
     "output_type": "execute_result"
    }
   ],
   "source": [
    "len(sr)\n"
   ]
  },
  {
   "cell_type": "code",
   "execution_count": 16,
   "id": "54863527",
   "metadata": {},
   "outputs": [
    {
     "data": {
      "text/plain": [
       "144"
      ]
     },
     "execution_count": 16,
     "metadata": {},
     "output_type": "execute_result"
    }
   ],
   "source": [
    "len(fours)\n"
   ]
  },
  {
   "cell_type": "code",
   "execution_count": 17,
   "id": "0bb3caee",
   "metadata": {},
   "outputs": [
    {
     "data": {
      "text/plain": [
       "144"
      ]
     },
     "execution_count": 17,
     "metadata": {},
     "output_type": "execute_result"
    }
   ],
   "source": [
    "\n",
    "len(sixes)"
   ]
  },
  {
   "cell_type": "code",
   "execution_count": 18,
   "id": "18158e2c",
   "metadata": {},
   "outputs": [
    {
     "data": {
      "text/plain": [
       "144"
      ]
     },
     "execution_count": 18,
     "metadata": {},
     "output_type": "execute_result"
    }
   ],
   "source": [
    "len(f)\n"
   ]
  },
  {
   "cell_type": "code",
   "execution_count": 19,
   "id": "d21d846e",
   "metadata": {},
   "outputs": [
    {
     "data": {
      "text/plain": [
       "144"
      ]
     },
     "execution_count": 19,
     "metadata": {},
     "output_type": "execute_result"
    }
   ],
   "source": [
    "len(h)\n"
   ]
  },
  {
   "cell_type": "code",
   "execution_count": null,
   "id": "9eb0f828",
   "metadata": {},
   "outputs": [],
   "source": []
  },
  {
   "cell_type": "code",
   "execution_count": 20,
   "id": "c2a316e9",
   "metadata": {},
   "outputs": [],
   "source": [
    "df_2019=pd.DataFrame({\n",
    "    'names':Name[:144],\n",
    "    'matches':matches[:144],\n",
    "    'innings':innings[:144],\n",
    "    'notouts':notouts[:144],\n",
    "    'runs':runs[:144],\n",
    "    'balls':bf[:144],\n",
    "    'high_score':hs[:144],\n",
    "    'avg':Avge[:144],\n",
    "    'strike_rate':sr,\n",
    "    'fours':fours,\n",
    "    'sixes':sixes,\n",
    "    'fiftys':f,\n",
    "    'hundreds':h,\n",
    "    'season':season\n",
    "})"
   ]
  },
  {
   "cell_type": "code",
   "execution_count": 21,
   "id": "77ed3cea",
   "metadata": {},
   "outputs": [
    {
     "data": {
      "text/html": [
       "<div>\n",
       "<style scoped>\n",
       "    .dataframe tbody tr th:only-of-type {\n",
       "        vertical-align: middle;\n",
       "    }\n",
       "\n",
       "    .dataframe tbody tr th {\n",
       "        vertical-align: top;\n",
       "    }\n",
       "\n",
       "    .dataframe thead th {\n",
       "        text-align: right;\n",
       "    }\n",
       "</style>\n",
       "<table border=\"1\" class=\"dataframe\">\n",
       "  <thead>\n",
       "    <tr style=\"text-align: right;\">\n",
       "      <th></th>\n",
       "      <th>names</th>\n",
       "      <th>matches</th>\n",
       "      <th>innings</th>\n",
       "      <th>notouts</th>\n",
       "      <th>runs</th>\n",
       "      <th>balls</th>\n",
       "      <th>high_score</th>\n",
       "      <th>avg</th>\n",
       "      <th>strike_rate</th>\n",
       "      <th>fours</th>\n",
       "      <th>sixes</th>\n",
       "      <th>fiftys</th>\n",
       "      <th>hundreds</th>\n",
       "      <th>season</th>\n",
       "    </tr>\n",
       "  </thead>\n",
       "  <tbody>\n",
       "    <tr>\n",
       "      <th>0</th>\n",
       "      <td>\\n\\n\\n\\nDavid Warner\\n\\n\\n\\n</td>\n",
       "      <td>12</td>\n",
       "      <td>12</td>\n",
       "      <td>2</td>\n",
       "      <td>692</td>\n",
       "      <td>481</td>\n",
       "      <td>100</td>\n",
       "      <td>69.20</td>\n",
       "      <td>143.86</td>\n",
       "      <td>57</td>\n",
       "      <td>21</td>\n",
       "      <td>1</td>\n",
       "      <td>8</td>\n",
       "      <td>2019</td>\n",
       "    </tr>\n",
       "    <tr>\n",
       "      <th>1</th>\n",
       "      <td>\\n\\n\\n\\nKL Rahul\\n\\n\\n</td>\n",
       "      <td>14</td>\n",
       "      <td>14</td>\n",
       "      <td>3</td>\n",
       "      <td>593</td>\n",
       "      <td>438</td>\n",
       "      <td>100</td>\n",
       "      <td>53.90</td>\n",
       "      <td>135.38</td>\n",
       "      <td>49</td>\n",
       "      <td>25</td>\n",
       "      <td>1</td>\n",
       "      <td>6</td>\n",
       "      <td>2019</td>\n",
       "    </tr>\n",
       "    <tr>\n",
       "      <th>2</th>\n",
       "      <td>\\n\\n\\n\\nQuinton de Kock\\n\\n\\n</td>\n",
       "      <td>16</td>\n",
       "      <td>16</td>\n",
       "      <td>1</td>\n",
       "      <td>529</td>\n",
       "      <td>398</td>\n",
       "      <td>81</td>\n",
       "      <td>35.26</td>\n",
       "      <td>132.91</td>\n",
       "      <td>45</td>\n",
       "      <td>25</td>\n",
       "      <td>0</td>\n",
       "      <td>4</td>\n",
       "      <td>2019</td>\n",
       "    </tr>\n",
       "    <tr>\n",
       "      <th>3</th>\n",
       "      <td>\\n\\n\\n\\nShikhar Dhawan\\n\\n\\n</td>\n",
       "      <td>16</td>\n",
       "      <td>16</td>\n",
       "      <td>1</td>\n",
       "      <td>521</td>\n",
       "      <td>384</td>\n",
       "      <td>97</td>\n",
       "      <td>34.73</td>\n",
       "      <td>135.67</td>\n",
       "      <td>64</td>\n",
       "      <td>11</td>\n",
       "      <td>0</td>\n",
       "      <td>5</td>\n",
       "      <td>2019</td>\n",
       "    </tr>\n",
       "    <tr>\n",
       "      <th>4</th>\n",
       "      <td>\\n\\n\\n\\nAndre Russell\\n\\n\\n</td>\n",
       "      <td>14</td>\n",
       "      <td>13</td>\n",
       "      <td>4</td>\n",
       "      <td>510</td>\n",
       "      <td>249</td>\n",
       "      <td>80</td>\n",
       "      <td>56.66</td>\n",
       "      <td>204.81</td>\n",
       "      <td>31</td>\n",
       "      <td>52</td>\n",
       "      <td>0</td>\n",
       "      <td>4</td>\n",
       "      <td>2019</td>\n",
       "    </tr>\n",
       "    <tr>\n",
       "      <th>...</th>\n",
       "      <td>...</td>\n",
       "      <td>...</td>\n",
       "      <td>...</td>\n",
       "      <td>...</td>\n",
       "      <td>...</td>\n",
       "      <td>...</td>\n",
       "      <td>...</td>\n",
       "      <td>...</td>\n",
       "      <td>...</td>\n",
       "      <td>...</td>\n",
       "      <td>...</td>\n",
       "      <td>...</td>\n",
       "      <td>...</td>\n",
       "      <td>...</td>\n",
       "    </tr>\n",
       "    <tr>\n",
       "      <th>139</th>\n",
       "      <td>\\n\\n\\n\\nJoe Denly\\n\\n\\n</td>\n",
       "      <td>1</td>\n",
       "      <td>1</td>\n",
       "      <td>0</td>\n",
       "      <td>0</td>\n",
       "      <td>1</td>\n",
       "      <td>0</td>\n",
       "      <td>0.00</td>\n",
       "      <td>0.00</td>\n",
       "      <td>0</td>\n",
       "      <td>0</td>\n",
       "      <td>0</td>\n",
       "      <td>0</td>\n",
       "      <td>2019</td>\n",
       "    </tr>\n",
       "    <tr>\n",
       "      <th>140</th>\n",
       "      <td>\\n\\n\\n\\nKhaleel Ahmed\\n\\n\\n</td>\n",
       "      <td>9</td>\n",
       "      <td>1</td>\n",
       "      <td>0</td>\n",
       "      <td>0</td>\n",
       "      <td>1</td>\n",
       "      <td>0</td>\n",
       "      <td>0.00</td>\n",
       "      <td>0.00</td>\n",
       "      <td>0</td>\n",
       "      <td>0</td>\n",
       "      <td>0</td>\n",
       "      <td>0</td>\n",
       "      <td>2019</td>\n",
       "    </tr>\n",
       "    <tr>\n",
       "      <th>141</th>\n",
       "      <td>\\n\\n\\n\\nSam Billings\\n\\n\\n</td>\n",
       "      <td>1</td>\n",
       "      <td>1</td>\n",
       "      <td>0</td>\n",
       "      <td>0</td>\n",
       "      <td>4</td>\n",
       "      <td>0</td>\n",
       "      <td>0.00</td>\n",
       "      <td>0.00</td>\n",
       "      <td>0</td>\n",
       "      <td>0</td>\n",
       "      <td>0</td>\n",
       "      <td>0</td>\n",
       "      <td>2019</td>\n",
       "    </tr>\n",
       "    <tr>\n",
       "      <th>142</th>\n",
       "      <td>\\n\\n\\n\\nPrithvi Raj Yarra\\n\\n\\n</td>\n",
       "      <td>2</td>\n",
       "      <td>1</td>\n",
       "      <td>1</td>\n",
       "      <td>0</td>\n",
       "      <td>1</td>\n",
       "      <td>0</td>\n",
       "      <td>0.00</td>\n",
       "      <td>0.00</td>\n",
       "      <td>0</td>\n",
       "      <td>0</td>\n",
       "      <td>0</td>\n",
       "      <td>0</td>\n",
       "      <td>2019</td>\n",
       "    </tr>\n",
       "    <tr>\n",
       "      <th>143</th>\n",
       "      <td>\\n\\n\\n\\nMujeeb Ur Rahman\\n\\n\\n</td>\n",
       "      <td>5</td>\n",
       "      <td>3</td>\n",
       "      <td>2</td>\n",
       "      <td>0</td>\n",
       "      <td>4</td>\n",
       "      <td>0</td>\n",
       "      <td>0.00</td>\n",
       "      <td>0.00</td>\n",
       "      <td>0</td>\n",
       "      <td>0</td>\n",
       "      <td>0</td>\n",
       "      <td>0</td>\n",
       "      <td>2019</td>\n",
       "    </tr>\n",
       "  </tbody>\n",
       "</table>\n",
       "<p>144 rows × 14 columns</p>\n",
       "</div>"
      ],
      "text/plain": [
       "                               names matches innings notouts runs balls  \\\n",
       "0       \\n\\n\\n\\nDavid Warner\\n\\n\\n\\n      12      12       2  692   481   \n",
       "1             \\n\\n\\n\\nKL Rahul\\n\\n\\n      14      14       3  593   438   \n",
       "2      \\n\\n\\n\\nQuinton de Kock\\n\\n\\n      16      16       1  529   398   \n",
       "3       \\n\\n\\n\\nShikhar Dhawan\\n\\n\\n      16      16       1  521   384   \n",
       "4        \\n\\n\\n\\nAndre Russell\\n\\n\\n      14      13       4  510   249   \n",
       "..                               ...     ...     ...     ...  ...   ...   \n",
       "139          \\n\\n\\n\\nJoe Denly\\n\\n\\n       1       1       0    0     1   \n",
       "140      \\n\\n\\n\\nKhaleel Ahmed\\n\\n\\n       9       1       0    0     1   \n",
       "141       \\n\\n\\n\\nSam Billings\\n\\n\\n       1       1       0    0     4   \n",
       "142  \\n\\n\\n\\nPrithvi Raj Yarra\\n\\n\\n       2       1       1    0     1   \n",
       "143   \\n\\n\\n\\nMujeeb Ur Rahman\\n\\n\\n       5       3       2    0     4   \n",
       "\n",
       "    high_score    avg strike_rate fours sixes fiftys hundreds  season  \n",
       "0          100  69.20      143.86    57    21      1        8    2019  \n",
       "1          100  53.90      135.38    49    25      1        6    2019  \n",
       "2           81  35.26      132.91    45    25      0        4    2019  \n",
       "3           97  34.73      135.67    64    11      0        5    2019  \n",
       "4           80  56.66      204.81    31    52      0        4    2019  \n",
       "..         ...    ...         ...   ...   ...    ...      ...     ...  \n",
       "139          0   0.00        0.00     0     0      0        0    2019  \n",
       "140          0   0.00        0.00     0     0      0        0    2019  \n",
       "141          0   0.00        0.00     0     0      0        0    2019  \n",
       "142          0   0.00        0.00     0     0      0        0    2019  \n",
       "143          0   0.00        0.00     0     0      0        0    2019  \n",
       "\n",
       "[144 rows x 14 columns]"
      ]
     },
     "execution_count": 21,
     "metadata": {},
     "output_type": "execute_result"
    }
   ],
   "source": [
    "df_2019"
   ]
  },
  {
   "cell_type": "code",
   "execution_count": 22,
   "id": "f95c5762",
   "metadata": {},
   "outputs": [],
   "source": [
    "df_2019.to_csv('df_2019ipl.csv')"
   ]
  }
 ],
 "metadata": {
  "kernelspec": {
   "display_name": "Python 3 (ipykernel)",
   "language": "python",
   "name": "python3"
  },
  "language_info": {
   "codemirror_mode": {
    "name": "ipython",
    "version": 3
   },
   "file_extension": ".py",
   "mimetype": "text/x-python",
   "name": "python",
   "nbconvert_exporter": "python",
   "pygments_lexer": "ipython3",
   "version": "3.8.12"
  }
 },
 "nbformat": 4,
 "nbformat_minor": 5
}
