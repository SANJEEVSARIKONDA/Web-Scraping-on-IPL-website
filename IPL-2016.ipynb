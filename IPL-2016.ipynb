{
 "cells": [
  {
   "cell_type": "code",
   "execution_count": 1,
   "id": "e23b9bc8",
   "metadata": {},
   "outputs": [],
   "source": [
    "import matplotlib as plt\n",
    "import matplotlib.pyplot as plt\n",
    "import seaborn as sns\n",
    "from bs4 import BeautifulSoup \n",
    "import pandas as pd\n",
    "import numpy as np\n",
    "import requests"
   ]
  },
  {
   "cell_type": "code",
   "execution_count": 2,
   "id": "8b7c717f",
   "metadata": {},
   "outputs": [],
   "source": [
    "page=requests.get(\"https://www.iplt20.com/stats/2016\")\n",
    "\n",
    "soup=BeautifulSoup(page.text)\n"
   ]
  },
  {
   "cell_type": "code",
   "execution_count": 3,
   "id": "9c53a6ba",
   "metadata": {},
   "outputs": [],
   "source": [
    "columns = []\n",
    "for i in soup.findAll('th')[:14]:\n",
    "    columns.append(i.text)"
   ]
  },
  {
   "cell_type": "code",
   "execution_count": 4,
   "id": "1962fd08",
   "metadata": {},
   "outputs": [
    {
     "data": {
      "text/plain": [
       "['POS',\n",
       " 'Player',\n",
       " 'Mat',\n",
       " 'Inns',\n",
       " 'NO',\n",
       " 'Runs',\n",
       " 'HS',\n",
       " 'Avg',\n",
       " 'BF',\n",
       " 'SR',\n",
       " '100',\n",
       " '50',\n",
       " '4s',\n",
       " '6s']"
      ]
     },
     "execution_count": 4,
     "metadata": {},
     "output_type": "execute_result"
    }
   ],
   "source": [
    "columns\n"
   ]
  },
  {
   "cell_type": "code",
   "execution_count": 5,
   "id": "7f1174d6",
   "metadata": {},
   "outputs": [],
   "source": [
    "table=[]\n",
    "for val in soup.findAll('td'):\n",
    "    table.append(val.text)"
   ]
  },
  {
   "cell_type": "code",
   "execution_count": 6,
   "id": "543ac9f1",
   "metadata": {},
   "outputs": [],
   "source": [
    "Name=[]\n",
    "matches=[]\n",
    "innings=[]\n",
    "notouts=[]\n",
    "runs=[]\n",
    "hs=[]\n",
    "Avge=[]\n",
    "bf=[]\n",
    "sr=[]\n",
    "f=[]\n",
    "h=[]\n",
    "fours=[]\n",
    "sixes=[]\n",
    "\n",
    "season = []\n",
    "\n",
    "for val in table[1::14]:\n",
    "       Name.append(val)\n",
    "        \n",
    "\n",
    "for i in table[2::14]:\n",
    "        matches.append(i)\n",
    "    \n",
    "for i in table[3::14]:\n",
    "       innings.append(i)\n",
    "\n",
    "for i in table[4::14]:\n",
    "        notouts.append(i)\n",
    "\n",
    "for i in table[5::14]:\n",
    "        runs.append(i)\n",
    "\n",
    "for i in table[6::14]:\n",
    "        hs.append(i)\n",
    "\n",
    "for i in table[7::14]:\n",
    "        Avge.append(i)\n",
    "\n",
    "for i in table[8::14]:\n",
    "        bf.append(i)\n",
    "\n",
    "for i in table[9::14]:\n",
    "        sr.append(i)\n",
    "\n",
    "for i in table[10::14]:\n",
    "        f.append(i)\n",
    "\n",
    "for i in table[11::14]:\n",
    "        h.append(i)\n",
    "\n",
    "for i in table[12::14]:\n",
    "        fours.append(i)\n",
    "\n",
    "for i in table[13::14]:\n",
    "    if i == ' ':\n",
    "        sixes.append(np.NaN)\n",
    "    else:\n",
    "        sixes.append(i)\n",
    "        \n",
    "        season.append(2016)\n",
    "        "
   ]
  },
  {
   "cell_type": "code",
   "execution_count": null,
   "id": "cf281adc",
   "metadata": {},
   "outputs": [],
   "source": []
  },
  {
   "cell_type": "code",
   "execution_count": 7,
   "id": "71c3ab16",
   "metadata": {},
   "outputs": [
    {
     "data": {
      "text/plain": [
       "137"
      ]
     },
     "execution_count": 7,
     "metadata": {},
     "output_type": "execute_result"
    }
   ],
   "source": [
    "len(matches)"
   ]
  },
  {
   "cell_type": "code",
   "execution_count": 8,
   "id": "16505b67",
   "metadata": {},
   "outputs": [
    {
     "data": {
      "text/plain": [
       "137"
      ]
     },
     "execution_count": 8,
     "metadata": {},
     "output_type": "execute_result"
    }
   ],
   "source": [
    "len(innings)"
   ]
  },
  {
   "cell_type": "code",
   "execution_count": 9,
   "id": "1939481f",
   "metadata": {},
   "outputs": [
    {
     "data": {
      "text/plain": [
       "137"
      ]
     },
     "execution_count": 9,
     "metadata": {},
     "output_type": "execute_result"
    }
   ],
   "source": [
    "\n",
    "len(notouts)\n"
   ]
  },
  {
   "cell_type": "code",
   "execution_count": 10,
   "id": "6f500b7b",
   "metadata": {},
   "outputs": [
    {
     "data": {
      "text/plain": [
       "137"
      ]
     },
     "execution_count": 10,
     "metadata": {},
     "output_type": "execute_result"
    }
   ],
   "source": [
    "len(runs)\n"
   ]
  },
  {
   "cell_type": "code",
   "execution_count": null,
   "id": "8a3e5631",
   "metadata": {},
   "outputs": [],
   "source": []
  },
  {
   "cell_type": "code",
   "execution_count": 11,
   "id": "619169fb",
   "metadata": {},
   "outputs": [
    {
     "data": {
      "text/plain": [
       "137"
      ]
     },
     "execution_count": 11,
     "metadata": {},
     "output_type": "execute_result"
    }
   ],
   "source": [
    "len(hs)\n"
   ]
  },
  {
   "cell_type": "code",
   "execution_count": 12,
   "id": "00de4b92",
   "metadata": {},
   "outputs": [
    {
     "data": {
      "text/plain": [
       "137"
      ]
     },
     "execution_count": 12,
     "metadata": {},
     "output_type": "execute_result"
    }
   ],
   "source": [
    "len(Avge)\n"
   ]
  },
  {
   "cell_type": "code",
   "execution_count": 13,
   "id": "ee99c104",
   "metadata": {},
   "outputs": [
    {
     "data": {
      "text/plain": [
       "137"
      ]
     },
     "execution_count": 13,
     "metadata": {},
     "output_type": "execute_result"
    }
   ],
   "source": [
    "len(bf)\n"
   ]
  },
  {
   "cell_type": "code",
   "execution_count": 14,
   "id": "54863527",
   "metadata": {},
   "outputs": [
    {
     "data": {
      "text/plain": [
       "136"
      ]
     },
     "execution_count": 14,
     "metadata": {},
     "output_type": "execute_result"
    }
   ],
   "source": [
    "len(sr)\n"
   ]
  },
  {
   "cell_type": "code",
   "execution_count": 15,
   "id": "0bb3caee",
   "metadata": {},
   "outputs": [
    {
     "data": {
      "text/plain": [
       "136"
      ]
     },
     "execution_count": 15,
     "metadata": {},
     "output_type": "execute_result"
    }
   ],
   "source": [
    "len(f)\n"
   ]
  },
  {
   "cell_type": "code",
   "execution_count": 16,
   "id": "18158e2c",
   "metadata": {},
   "outputs": [
    {
     "data": {
      "text/plain": [
       "136"
      ]
     },
     "execution_count": 16,
     "metadata": {},
     "output_type": "execute_result"
    }
   ],
   "source": [
    "\n",
    "len(h)\n"
   ]
  },
  {
   "cell_type": "code",
   "execution_count": 17,
   "id": "d21d846e",
   "metadata": {},
   "outputs": [
    {
     "data": {
      "text/plain": [
       "136"
      ]
     },
     "execution_count": 17,
     "metadata": {},
     "output_type": "execute_result"
    }
   ],
   "source": [
    "len(fours)\n"
   ]
  },
  {
   "cell_type": "code",
   "execution_count": 18,
   "id": "9eb0f828",
   "metadata": {},
   "outputs": [
    {
     "data": {
      "text/plain": [
       "136"
      ]
     },
     "execution_count": 18,
     "metadata": {},
     "output_type": "execute_result"
    }
   ],
   "source": [
    "len(sixes)"
   ]
  },
  {
   "cell_type": "code",
   "execution_count": 19,
   "id": "c2a316e9",
   "metadata": {},
   "outputs": [],
   "source": [
    "df_2016=pd.DataFrame({\n",
    "    'names':Name[:136],\n",
    "    'matches':matches[:136],\n",
    "    'innings':innings[:136],\n",
    "    'notouts':notouts[:136],\n",
    "    'runs':runs[:136],\n",
    "    'balls':bf[:136],\n",
    "    'high_score':hs[:136],\n",
    "    'avg':Avge[:136],\n",
    "    'strike_rate':sr,\n",
    "    'fours':fours,\n",
    "    'sixes':sixes,\n",
    "    'fiftys':f,\n",
    "    'hundreds':h,\n",
    "    'season':season\n",
    "})"
   ]
  },
  {
   "cell_type": "code",
   "execution_count": 20,
   "id": "77ed3cea",
   "metadata": {},
   "outputs": [
    {
     "data": {
      "text/html": [
       "<div>\n",
       "<style scoped>\n",
       "    .dataframe tbody tr th:only-of-type {\n",
       "        vertical-align: middle;\n",
       "    }\n",
       "\n",
       "    .dataframe tbody tr th {\n",
       "        vertical-align: top;\n",
       "    }\n",
       "\n",
       "    .dataframe thead th {\n",
       "        text-align: right;\n",
       "    }\n",
       "</style>\n",
       "<table border=\"1\" class=\"dataframe\">\n",
       "  <thead>\n",
       "    <tr style=\"text-align: right;\">\n",
       "      <th></th>\n",
       "      <th>names</th>\n",
       "      <th>matches</th>\n",
       "      <th>innings</th>\n",
       "      <th>notouts</th>\n",
       "      <th>runs</th>\n",
       "      <th>balls</th>\n",
       "      <th>high_score</th>\n",
       "      <th>avg</th>\n",
       "      <th>strike_rate</th>\n",
       "      <th>fours</th>\n",
       "      <th>sixes</th>\n",
       "      <th>fiftys</th>\n",
       "      <th>hundreds</th>\n",
       "      <th>season</th>\n",
       "    </tr>\n",
       "  </thead>\n",
       "  <tbody>\n",
       "    <tr>\n",
       "      <th>0</th>\n",
       "      <td>\\n\\n\\n\\nVirat Kohli\\n\\n\\n\\n</td>\n",
       "      <td>16</td>\n",
       "      <td>16</td>\n",
       "      <td>4</td>\n",
       "      <td>973</td>\n",
       "      <td>640</td>\n",
       "      <td>113</td>\n",
       "      <td>81.08</td>\n",
       "      <td>152.03</td>\n",
       "      <td>83</td>\n",
       "      <td>38</td>\n",
       "      <td>4</td>\n",
       "      <td>7</td>\n",
       "      <td>2016</td>\n",
       "    </tr>\n",
       "    <tr>\n",
       "      <th>1</th>\n",
       "      <td>\\n\\n\\n\\nDavid Warner\\n\\n\\n</td>\n",
       "      <td>17</td>\n",
       "      <td>17</td>\n",
       "      <td>3</td>\n",
       "      <td>848</td>\n",
       "      <td>560</td>\n",
       "      <td>93</td>\n",
       "      <td>60.57</td>\n",
       "      <td>151.42</td>\n",
       "      <td>88</td>\n",
       "      <td>31</td>\n",
       "      <td>0</td>\n",
       "      <td>9</td>\n",
       "      <td>2016</td>\n",
       "    </tr>\n",
       "    <tr>\n",
       "      <th>2</th>\n",
       "      <td>\\n\\n\\n\\nAB de Villiers\\n\\n\\n</td>\n",
       "      <td>16</td>\n",
       "      <td>16</td>\n",
       "      <td>3</td>\n",
       "      <td>687</td>\n",
       "      <td>407</td>\n",
       "      <td>129</td>\n",
       "      <td>52.84</td>\n",
       "      <td>168.79</td>\n",
       "      <td>57</td>\n",
       "      <td>37</td>\n",
       "      <td>1</td>\n",
       "      <td>6</td>\n",
       "      <td>2016</td>\n",
       "    </tr>\n",
       "    <tr>\n",
       "      <th>3</th>\n",
       "      <td>\\n\\n\\n\\nShikhar Dhawan\\n\\n\\n</td>\n",
       "      <td>17</td>\n",
       "      <td>17</td>\n",
       "      <td>4</td>\n",
       "      <td>501</td>\n",
       "      <td>429</td>\n",
       "      <td>82</td>\n",
       "      <td>38.53</td>\n",
       "      <td>116.78</td>\n",
       "      <td>51</td>\n",
       "      <td>8</td>\n",
       "      <td>0</td>\n",
       "      <td>4</td>\n",
       "      <td>2016</td>\n",
       "    </tr>\n",
       "    <tr>\n",
       "      <th>4</th>\n",
       "      <td>\\n\\n\\n\\nGautam Gambhir\\n\\n\\n</td>\n",
       "      <td>15</td>\n",
       "      <td>15</td>\n",
       "      <td>2</td>\n",
       "      <td>501</td>\n",
       "      <td>411</td>\n",
       "      <td>90</td>\n",
       "      <td>38.53</td>\n",
       "      <td>121.89</td>\n",
       "      <td>54</td>\n",
       "      <td>6</td>\n",
       "      <td>0</td>\n",
       "      <td>5</td>\n",
       "      <td>2016</td>\n",
       "    </tr>\n",
       "    <tr>\n",
       "      <th>...</th>\n",
       "      <td>...</td>\n",
       "      <td>...</td>\n",
       "      <td>...</td>\n",
       "      <td>...</td>\n",
       "      <td>...</td>\n",
       "      <td>...</td>\n",
       "      <td>...</td>\n",
       "      <td>...</td>\n",
       "      <td>...</td>\n",
       "      <td>...</td>\n",
       "      <td>...</td>\n",
       "      <td>...</td>\n",
       "      <td>...</td>\n",
       "      <td>...</td>\n",
       "    </tr>\n",
       "    <tr>\n",
       "      <th>131</th>\n",
       "      <td>\\n\\n\\nMurugan Ashwin\\n\\n</td>\n",
       "      <td>10</td>\n",
       "      <td>1</td>\n",
       "      <td>0</td>\n",
       "      <td>0</td>\n",
       "      <td>1</td>\n",
       "      <td>0</td>\n",
       "      <td>0.00</td>\n",
       "      <td>0.00</td>\n",
       "      <td>0</td>\n",
       "      <td>0</td>\n",
       "      <td>0</td>\n",
       "      <td>0</td>\n",
       "      <td>2016</td>\n",
       "    </tr>\n",
       "    <tr>\n",
       "      <th>132</th>\n",
       "      <td>\\n\\n\\nShivil Kaushik\\n\\n</td>\n",
       "      <td>7</td>\n",
       "      <td>2</td>\n",
       "      <td>1</td>\n",
       "      <td>0</td>\n",
       "      <td>1</td>\n",
       "      <td>0</td>\n",
       "      <td>0.00</td>\n",
       "      <td>0.00</td>\n",
       "      <td>0</td>\n",
       "      <td>0</td>\n",
       "      <td>0</td>\n",
       "      <td>0</td>\n",
       "      <td>2016</td>\n",
       "    </tr>\n",
       "    <tr>\n",
       "      <th>133</th>\n",
       "      <td>\\n\\n\\n\\nSwapnil Singh\\n\\n\\n</td>\n",
       "      <td>1</td>\n",
       "      <td>1</td>\n",
       "      <td>0</td>\n",
       "      <td>0</td>\n",
       "      <td>1</td>\n",
       "      <td>0</td>\n",
       "      <td>0.00</td>\n",
       "      <td>0.00</td>\n",
       "      <td>0</td>\n",
       "      <td>0</td>\n",
       "      <td>0</td>\n",
       "      <td>0</td>\n",
       "      <td>2016</td>\n",
       "    </tr>\n",
       "    <tr>\n",
       "      <th>134</th>\n",
       "      <td>\\n\\n\\nAdam Zampa\\n\\n</td>\n",
       "      <td>5</td>\n",
       "      <td>1</td>\n",
       "      <td>0</td>\n",
       "      <td>0</td>\n",
       "      <td>1</td>\n",
       "      <td>0</td>\n",
       "      <td>0.00</td>\n",
       "      <td>0.00</td>\n",
       "      <td>0</td>\n",
       "      <td>0</td>\n",
       "      <td>0</td>\n",
       "      <td>0</td>\n",
       "      <td>2016</td>\n",
       "    </tr>\n",
       "    <tr>\n",
       "      <th>135</th>\n",
       "      <td>\\n\\n\\n\\nUnmukt Chand\\n\\n\\n</td>\n",
       "      <td>1</td>\n",
       "      <td>1</td>\n",
       "      <td>0</td>\n",
       "      <td>0</td>\n",
       "      <td>4</td>\n",
       "      <td>0</td>\n",
       "      <td>0.00</td>\n",
       "      <td>0.00</td>\n",
       "      <td>0</td>\n",
       "      <td>0</td>\n",
       "      <td>0</td>\n",
       "      <td>0</td>\n",
       "      <td>2016</td>\n",
       "    </tr>\n",
       "  </tbody>\n",
       "</table>\n",
       "<p>136 rows × 14 columns</p>\n",
       "</div>"
      ],
      "text/plain": [
       "                            names matches innings notouts runs balls  \\\n",
       "0     \\n\\n\\n\\nVirat Kohli\\n\\n\\n\\n      16      16       4  973   640   \n",
       "1      \\n\\n\\n\\nDavid Warner\\n\\n\\n      17      17       3  848   560   \n",
       "2    \\n\\n\\n\\nAB de Villiers\\n\\n\\n      16      16       3  687   407   \n",
       "3    \\n\\n\\n\\nShikhar Dhawan\\n\\n\\n      17      17       4  501   429   \n",
       "4    \\n\\n\\n\\nGautam Gambhir\\n\\n\\n      15      15       2  501   411   \n",
       "..                            ...     ...     ...     ...  ...   ...   \n",
       "131      \\n\\n\\nMurugan Ashwin\\n\\n      10       1       0    0     1   \n",
       "132      \\n\\n\\nShivil Kaushik\\n\\n       7       2       1    0     1   \n",
       "133   \\n\\n\\n\\nSwapnil Singh\\n\\n\\n       1       1       0    0     1   \n",
       "134          \\n\\n\\nAdam Zampa\\n\\n       5       1       0    0     1   \n",
       "135    \\n\\n\\n\\nUnmukt Chand\\n\\n\\n       1       1       0    0     4   \n",
       "\n",
       "    high_score    avg strike_rate fours sixes fiftys hundreds  season  \n",
       "0          113  81.08      152.03    83    38      4        7    2016  \n",
       "1           93  60.57      151.42    88    31      0        9    2016  \n",
       "2          129  52.84      168.79    57    37      1        6    2016  \n",
       "3           82  38.53      116.78    51     8      0        4    2016  \n",
       "4           90  38.53      121.89    54     6      0        5    2016  \n",
       "..         ...    ...         ...   ...   ...    ...      ...     ...  \n",
       "131          0   0.00        0.00     0     0      0        0    2016  \n",
       "132          0   0.00        0.00     0     0      0        0    2016  \n",
       "133          0   0.00        0.00     0     0      0        0    2016  \n",
       "134          0   0.00        0.00     0     0      0        0    2016  \n",
       "135          0   0.00        0.00     0     0      0        0    2016  \n",
       "\n",
       "[136 rows x 14 columns]"
      ]
     },
     "execution_count": 20,
     "metadata": {},
     "output_type": "execute_result"
    }
   ],
   "source": [
    "df_2016"
   ]
  },
  {
   "cell_type": "code",
   "execution_count": 21,
   "id": "f95c5762",
   "metadata": {},
   "outputs": [],
   "source": [
    "df_2016.to_csv('df_2016ipl.csv')"
   ]
  }
 ],
 "metadata": {
  "kernelspec": {
   "display_name": "Python 3 (ipykernel)",
   "language": "python",
   "name": "python3"
  },
  "language_info": {
   "codemirror_mode": {
    "name": "ipython",
    "version": 3
   },
   "file_extension": ".py",
   "mimetype": "text/x-python",
   "name": "python",
   "nbconvert_exporter": "python",
   "pygments_lexer": "ipython3",
   "version": "3.8.12"
  }
 },
 "nbformat": 4,
 "nbformat_minor": 5
}
