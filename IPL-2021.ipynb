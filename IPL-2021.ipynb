{
 "cells": [
  {
   "cell_type": "code",
   "execution_count": 1,
   "id": "e23b9bc8",
   "metadata": {},
   "outputs": [],
   "source": [
    "import matplotlib as plt\n",
    "import matplotlib.pyplot as plt\n",
    "import seaborn as sns\n",
    "from bs4 import BeautifulSoup \n",
    "import pandas as pd\n",
    "import numpy as np\n",
    "import requests"
   ]
  },
  {
   "cell_type": "code",
   "execution_count": 2,
   "id": "8b7c717f",
   "metadata": {},
   "outputs": [],
   "source": [
    "page=requests.get(\"https://www.iplt20.com/stats/2021\")\n",
    "\n",
    "soup=BeautifulSoup(page.text)\n"
   ]
  },
  {
   "cell_type": "code",
   "execution_count": 3,
   "id": "9c53a6ba",
   "metadata": {},
   "outputs": [],
   "source": [
    "columns = []\n",
    "for i in soup.findAll('th')[:14]:\n",
    "    columns.append(i.text)"
   ]
  },
  {
   "cell_type": "code",
   "execution_count": 4,
   "id": "1962fd08",
   "metadata": {},
   "outputs": [
    {
     "data": {
      "text/plain": [
       "['POS',\n",
       " 'Player',\n",
       " 'Mat',\n",
       " 'Inns',\n",
       " 'NO',\n",
       " 'Runs',\n",
       " 'HS',\n",
       " 'Avg',\n",
       " 'BF',\n",
       " 'SR',\n",
       " '100',\n",
       " '50',\n",
       " '4s',\n",
       " '6s']"
      ]
     },
     "execution_count": 4,
     "metadata": {},
     "output_type": "execute_result"
    }
   ],
   "source": [
    "columns\n"
   ]
  },
  {
   "cell_type": "code",
   "execution_count": 5,
   "id": "7f1174d6",
   "metadata": {},
   "outputs": [],
   "source": [
    "table=[]\n",
    "for val in soup.findAll('td'):\n",
    "    table.append(val.text)"
   ]
  },
  {
   "cell_type": "code",
   "execution_count": 6,
   "id": "543ac9f1",
   "metadata": {},
   "outputs": [],
   "source": [
    "Name=[]\n",
    "matches=[]\n",
    "innings=[]\n",
    "notouts=[]\n",
    "runs=[]\n",
    "hs=[]\n",
    "Avge=[]\n",
    "bf=[]\n",
    "sr=[]\n",
    "f=[]\n",
    "h=[]\n",
    "fours=[]\n",
    "sixes=[]\n",
    "\n",
    "season = []\n",
    "\n",
    "for val in table[1::14]:\n",
    "       Name.append(val)\n",
    "        \n",
    "\n",
    "for i in table[2::14]:\n",
    "        matches.append(i)\n",
    "    \n",
    "for i in table[3::14]:\n",
    "       innings.append(i)\n",
    "\n",
    "for i in table[4::14]:\n",
    "        notouts.append(i)\n",
    "\n",
    "for i in table[5::14]:\n",
    "        runs.append(i)\n",
    "\n",
    "for i in table[6::14]:\n",
    "        hs.append(i)\n",
    "\n",
    "for i in table[7::14]:\n",
    "        Avge.append(i)\n",
    "\n",
    "for i in table[8::14]:\n",
    "        bf.append(i)\n",
    "\n",
    "for i in table[9::14]:\n",
    "        sr.append(i)\n",
    "\n",
    "for i in table[10::14]:\n",
    "        f.append(i)\n",
    "\n",
    "for i in table[11::14]:\n",
    "        h.append(i)\n",
    "\n",
    "for i in table[12::14]:\n",
    "        fours.append(i)\n",
    "\n",
    "for i in table[13::14]:\n",
    "    if i == ' ':\n",
    "        sixes.append(np.NaN)\n",
    "    else:\n",
    "        sixes.append(i)\n",
    "        \n",
    "        season.append(2021)\n",
    "        "
   ]
  },
  {
   "cell_type": "code",
   "execution_count": 7,
   "id": "cf281adc",
   "metadata": {},
   "outputs": [
    {
     "data": {
      "text/plain": [
       "150"
      ]
     },
     "execution_count": 7,
     "metadata": {},
     "output_type": "execute_result"
    }
   ],
   "source": [
    "len(Name)"
   ]
  },
  {
   "cell_type": "code",
   "execution_count": 8,
   "id": "71c3ab16",
   "metadata": {},
   "outputs": [
    {
     "data": {
      "text/plain": [
       "150"
      ]
     },
     "execution_count": 8,
     "metadata": {},
     "output_type": "execute_result"
    }
   ],
   "source": [
    "len(matches)"
   ]
  },
  {
   "cell_type": "code",
   "execution_count": 9,
   "id": "16505b67",
   "metadata": {},
   "outputs": [
    {
     "data": {
      "text/plain": [
       "150"
      ]
     },
     "execution_count": 9,
     "metadata": {},
     "output_type": "execute_result"
    }
   ],
   "source": [
    "len(innings)"
   ]
  },
  {
   "cell_type": "code",
   "execution_count": 10,
   "id": "1939481f",
   "metadata": {},
   "outputs": [
    {
     "data": {
      "text/plain": [
       "150"
      ]
     },
     "execution_count": 10,
     "metadata": {},
     "output_type": "execute_result"
    }
   ],
   "source": [
    "\n",
    "len(notouts)\n"
   ]
  },
  {
   "cell_type": "code",
   "execution_count": 11,
   "id": "6f500b7b",
   "metadata": {},
   "outputs": [
    {
     "data": {
      "text/plain": [
       "150"
      ]
     },
     "execution_count": 11,
     "metadata": {},
     "output_type": "execute_result"
    }
   ],
   "source": [
    "len(runs)\n"
   ]
  },
  {
   "cell_type": "code",
   "execution_count": 12,
   "id": "8a3e5631",
   "metadata": {},
   "outputs": [
    {
     "data": {
      "text/plain": [
       "150"
      ]
     },
     "execution_count": 12,
     "metadata": {},
     "output_type": "execute_result"
    }
   ],
   "source": [
    "len(bf)"
   ]
  },
  {
   "cell_type": "code",
   "execution_count": 13,
   "id": "619169fb",
   "metadata": {},
   "outputs": [
    {
     "data": {
      "text/plain": [
       "150"
      ]
     },
     "execution_count": 13,
     "metadata": {},
     "output_type": "execute_result"
    }
   ],
   "source": [
    "len(hs)\n"
   ]
  },
  {
   "cell_type": "code",
   "execution_count": 14,
   "id": "00de4b92",
   "metadata": {},
   "outputs": [
    {
     "data": {
      "text/plain": [
       "150"
      ]
     },
     "execution_count": 14,
     "metadata": {},
     "output_type": "execute_result"
    }
   ],
   "source": [
    "len(Avge)\n"
   ]
  },
  {
   "cell_type": "code",
   "execution_count": 15,
   "id": "ee99c104",
   "metadata": {},
   "outputs": [
    {
     "data": {
      "text/plain": [
       "149"
      ]
     },
     "execution_count": 15,
     "metadata": {},
     "output_type": "execute_result"
    }
   ],
   "source": [
    "len(sr)\n"
   ]
  },
  {
   "cell_type": "code",
   "execution_count": 16,
   "id": "54863527",
   "metadata": {},
   "outputs": [
    {
     "data": {
      "text/plain": [
       "149"
      ]
     },
     "execution_count": 16,
     "metadata": {},
     "output_type": "execute_result"
    }
   ],
   "source": [
    "len(fours)\n"
   ]
  },
  {
   "cell_type": "code",
   "execution_count": 17,
   "id": "0bb3caee",
   "metadata": {},
   "outputs": [
    {
     "data": {
      "text/plain": [
       "149"
      ]
     },
     "execution_count": 17,
     "metadata": {},
     "output_type": "execute_result"
    }
   ],
   "source": [
    "\n",
    "len(sixes)"
   ]
  },
  {
   "cell_type": "code",
   "execution_count": 18,
   "id": "18158e2c",
   "metadata": {},
   "outputs": [
    {
     "data": {
      "text/plain": [
       "149"
      ]
     },
     "execution_count": 18,
     "metadata": {},
     "output_type": "execute_result"
    }
   ],
   "source": [
    "len(f)\n"
   ]
  },
  {
   "cell_type": "code",
   "execution_count": 19,
   "id": "d21d846e",
   "metadata": {},
   "outputs": [
    {
     "data": {
      "text/plain": [
       "149"
      ]
     },
     "execution_count": 19,
     "metadata": {},
     "output_type": "execute_result"
    }
   ],
   "source": [
    "len(h)\n"
   ]
  },
  {
   "cell_type": "code",
   "execution_count": null,
   "id": "9eb0f828",
   "metadata": {},
   "outputs": [],
   "source": []
  },
  {
   "cell_type": "code",
   "execution_count": 20,
   "id": "c2a316e9",
   "metadata": {},
   "outputs": [],
   "source": [
    "df_2021=pd.DataFrame({\n",
    "    'names':Name[:149],\n",
    "    'matches':matches[:149],\n",
    "    'innings':innings[:149],\n",
    "    'notouts':notouts[:149],\n",
    "    'runs':runs[:149],\n",
    "    'balls':bf[:149],\n",
    "    'high_score':hs[:149],\n",
    "    'avg':Avge[:149],\n",
    "    'strike_rate':sr,\n",
    "    'fours':fours,\n",
    "    'sixes':sixes,\n",
    "    'fiftys':f,\n",
    "    'hundreds':h,\n",
    "    'season':season\n",
    "})"
   ]
  },
  {
   "cell_type": "code",
   "execution_count": 21,
   "id": "77ed3cea",
   "metadata": {},
   "outputs": [
    {
     "data": {
      "text/html": [
       "<div>\n",
       "<style scoped>\n",
       "    .dataframe tbody tr th:only-of-type {\n",
       "        vertical-align: middle;\n",
       "    }\n",
       "\n",
       "    .dataframe tbody tr th {\n",
       "        vertical-align: top;\n",
       "    }\n",
       "\n",
       "    .dataframe thead th {\n",
       "        text-align: right;\n",
       "    }\n",
       "</style>\n",
       "<table border=\"1\" class=\"dataframe\">\n",
       "  <thead>\n",
       "    <tr style=\"text-align: right;\">\n",
       "      <th></th>\n",
       "      <th>names</th>\n",
       "      <th>matches</th>\n",
       "      <th>innings</th>\n",
       "      <th>notouts</th>\n",
       "      <th>runs</th>\n",
       "      <th>balls</th>\n",
       "      <th>high_score</th>\n",
       "      <th>avg</th>\n",
       "      <th>strike_rate</th>\n",
       "      <th>fours</th>\n",
       "      <th>sixes</th>\n",
       "      <th>fiftys</th>\n",
       "      <th>hundreds</th>\n",
       "      <th>season</th>\n",
       "    </tr>\n",
       "  </thead>\n",
       "  <tbody>\n",
       "    <tr>\n",
       "      <th>0</th>\n",
       "      <td>\\n\\n\\n\\nRuturaj Gaikwad\\n\\n\\n\\n</td>\n",
       "      <td>16</td>\n",
       "      <td>16</td>\n",
       "      <td>2</td>\n",
       "      <td>635</td>\n",
       "      <td>466</td>\n",
       "      <td>101</td>\n",
       "      <td>45.35</td>\n",
       "      <td>136.26</td>\n",
       "      <td>64</td>\n",
       "      <td>23</td>\n",
       "      <td>1</td>\n",
       "      <td>4</td>\n",
       "      <td>2021</td>\n",
       "    </tr>\n",
       "    <tr>\n",
       "      <th>1</th>\n",
       "      <td>\\n\\n\\n\\nFaf du Plessis\\n\\n\\n</td>\n",
       "      <td>16</td>\n",
       "      <td>16</td>\n",
       "      <td>2</td>\n",
       "      <td>633</td>\n",
       "      <td>458</td>\n",
       "      <td>95</td>\n",
       "      <td>45.21</td>\n",
       "      <td>138.20</td>\n",
       "      <td>60</td>\n",
       "      <td>23</td>\n",
       "      <td>0</td>\n",
       "      <td>6</td>\n",
       "      <td>2021</td>\n",
       "    </tr>\n",
       "    <tr>\n",
       "      <th>2</th>\n",
       "      <td>\\n\\n\\n\\nKL Rahul\\n\\n\\n</td>\n",
       "      <td>13</td>\n",
       "      <td>13</td>\n",
       "      <td>3</td>\n",
       "      <td>626</td>\n",
       "      <td>451</td>\n",
       "      <td>98</td>\n",
       "      <td>62.60</td>\n",
       "      <td>138.80</td>\n",
       "      <td>48</td>\n",
       "      <td>30</td>\n",
       "      <td>0</td>\n",
       "      <td>6</td>\n",
       "      <td>2021</td>\n",
       "    </tr>\n",
       "    <tr>\n",
       "      <th>3</th>\n",
       "      <td>\\n\\n\\n\\nShikhar Dhawan\\n\\n\\n</td>\n",
       "      <td>16</td>\n",
       "      <td>16</td>\n",
       "      <td>1</td>\n",
       "      <td>587</td>\n",
       "      <td>471</td>\n",
       "      <td>92</td>\n",
       "      <td>39.13</td>\n",
       "      <td>124.62</td>\n",
       "      <td>63</td>\n",
       "      <td>16</td>\n",
       "      <td>0</td>\n",
       "      <td>3</td>\n",
       "      <td>2021</td>\n",
       "    </tr>\n",
       "    <tr>\n",
       "      <th>4</th>\n",
       "      <td>\\n\\n\\n\\nGlenn Maxwell\\n\\n\\n</td>\n",
       "      <td>15</td>\n",
       "      <td>14</td>\n",
       "      <td>2</td>\n",
       "      <td>513</td>\n",
       "      <td>356</td>\n",
       "      <td>78</td>\n",
       "      <td>42.75</td>\n",
       "      <td>144.10</td>\n",
       "      <td>48</td>\n",
       "      <td>21</td>\n",
       "      <td>0</td>\n",
       "      <td>6</td>\n",
       "      <td>2021</td>\n",
       "    </tr>\n",
       "    <tr>\n",
       "      <th>...</th>\n",
       "      <td>...</td>\n",
       "      <td>...</td>\n",
       "      <td>...</td>\n",
       "      <td>...</td>\n",
       "      <td>...</td>\n",
       "      <td>...</td>\n",
       "      <td>...</td>\n",
       "      <td>...</td>\n",
       "      <td>...</td>\n",
       "      <td>...</td>\n",
       "      <td>...</td>\n",
       "      <td>...</td>\n",
       "      <td>...</td>\n",
       "      <td>...</td>\n",
       "    </tr>\n",
       "    <tr>\n",
       "      <th>144</th>\n",
       "      <td>\\n\\n\\n\\nKuldip Yadav\\n\\n\\n</td>\n",
       "      <td>1</td>\n",
       "      <td>1</td>\n",
       "      <td>1</td>\n",
       "      <td>0</td>\n",
       "      <td>4</td>\n",
       "      <td>0</td>\n",
       "      <td>0.00</td>\n",
       "      <td>0.00</td>\n",
       "      <td>0</td>\n",
       "      <td>0</td>\n",
       "      <td>0</td>\n",
       "      <td>0</td>\n",
       "      <td>2021</td>\n",
       "    </tr>\n",
       "    <tr>\n",
       "      <th>145</th>\n",
       "      <td>\\n\\n\\n\\nSarfaraz Khan\\n\\n\\n</td>\n",
       "      <td>2</td>\n",
       "      <td>2</td>\n",
       "      <td>0</td>\n",
       "      <td>0</td>\n",
       "      <td>4</td>\n",
       "      <td>0</td>\n",
       "      <td>0.00</td>\n",
       "      <td>0.00</td>\n",
       "      <td>0</td>\n",
       "      <td>0</td>\n",
       "      <td>0</td>\n",
       "      <td>0</td>\n",
       "      <td>2021</td>\n",
       "    </tr>\n",
       "    <tr>\n",
       "      <th>146</th>\n",
       "      <td>\\n\\n\\n\\nAnuj Rawat\\n\\n\\n</td>\n",
       "      <td>2</td>\n",
       "      <td>1</td>\n",
       "      <td>0</td>\n",
       "      <td>0</td>\n",
       "      <td>1</td>\n",
       "      <td>0</td>\n",
       "      <td>0.00</td>\n",
       "      <td>0.00</td>\n",
       "      <td>0</td>\n",
       "      <td>0</td>\n",
       "      <td>0</td>\n",
       "      <td>0</td>\n",
       "      <td>2021</td>\n",
       "    </tr>\n",
       "    <tr>\n",
       "      <th>147</th>\n",
       "      <td>\\n\\n\\n\\nJimmy Neesham\\n\\n\\n</td>\n",
       "      <td>3</td>\n",
       "      <td>2</td>\n",
       "      <td>0</td>\n",
       "      <td>0</td>\n",
       "      <td>2</td>\n",
       "      <td>0</td>\n",
       "      <td>0.00</td>\n",
       "      <td>0.00</td>\n",
       "      <td>0</td>\n",
       "      <td>0</td>\n",
       "      <td>0</td>\n",
       "      <td>0</td>\n",
       "      <td>2021</td>\n",
       "    </tr>\n",
       "    <tr>\n",
       "      <th>148</th>\n",
       "      <td>\\n\\n\\n\\nPiyush Chawla\\n\\n\\n</td>\n",
       "      <td>1</td>\n",
       "      <td>1</td>\n",
       "      <td>0</td>\n",
       "      <td>0</td>\n",
       "      <td>2</td>\n",
       "      <td>0</td>\n",
       "      <td>0.00</td>\n",
       "      <td>0.00</td>\n",
       "      <td>0</td>\n",
       "      <td>0</td>\n",
       "      <td>0</td>\n",
       "      <td>0</td>\n",
       "      <td>2021</td>\n",
       "    </tr>\n",
       "  </tbody>\n",
       "</table>\n",
       "<p>149 rows × 14 columns</p>\n",
       "</div>"
      ],
      "text/plain": [
       "                               names matches innings notouts runs balls  \\\n",
       "0    \\n\\n\\n\\nRuturaj Gaikwad\\n\\n\\n\\n      16      16       2  635   466   \n",
       "1       \\n\\n\\n\\nFaf du Plessis\\n\\n\\n      16      16       2  633   458   \n",
       "2             \\n\\n\\n\\nKL Rahul\\n\\n\\n      13      13       3  626   451   \n",
       "3       \\n\\n\\n\\nShikhar Dhawan\\n\\n\\n      16      16       1  587   471   \n",
       "4        \\n\\n\\n\\nGlenn Maxwell\\n\\n\\n      15      14       2  513   356   \n",
       "..                               ...     ...     ...     ...  ...   ...   \n",
       "144       \\n\\n\\n\\nKuldip Yadav\\n\\n\\n       1       1       1    0     4   \n",
       "145      \\n\\n\\n\\nSarfaraz Khan\\n\\n\\n       2       2       0    0     4   \n",
       "146         \\n\\n\\n\\nAnuj Rawat\\n\\n\\n       2       1       0    0     1   \n",
       "147      \\n\\n\\n\\nJimmy Neesham\\n\\n\\n       3       2       0    0     2   \n",
       "148      \\n\\n\\n\\nPiyush Chawla\\n\\n\\n       1       1       0    0     2   \n",
       "\n",
       "    high_score    avg strike_rate fours sixes fiftys hundreds  season  \n",
       "0          101  45.35      136.26    64    23      1        4    2021  \n",
       "1           95  45.21      138.20    60    23      0        6    2021  \n",
       "2           98  62.60      138.80    48    30      0        6    2021  \n",
       "3           92  39.13      124.62    63    16      0        3    2021  \n",
       "4           78  42.75      144.10    48    21      0        6    2021  \n",
       "..         ...    ...         ...   ...   ...    ...      ...     ...  \n",
       "144          0   0.00        0.00     0     0      0        0    2021  \n",
       "145          0   0.00        0.00     0     0      0        0    2021  \n",
       "146          0   0.00        0.00     0     0      0        0    2021  \n",
       "147          0   0.00        0.00     0     0      0        0    2021  \n",
       "148          0   0.00        0.00     0     0      0        0    2021  \n",
       "\n",
       "[149 rows x 14 columns]"
      ]
     },
     "execution_count": 21,
     "metadata": {},
     "output_type": "execute_result"
    }
   ],
   "source": [
    "df_2021"
   ]
  },
  {
   "cell_type": "code",
   "execution_count": 22,
   "id": "f95c5762",
   "metadata": {},
   "outputs": [
    {
     "name": "stdout",
     "output_type": "stream",
     "text": [
      "<class 'pandas.core.frame.DataFrame'>\n",
      "RangeIndex: 149 entries, 0 to 148\n",
      "Data columns (total 14 columns):\n",
      " #   Column       Non-Null Count  Dtype \n",
      "---  ------       --------------  ----- \n",
      " 0   names        149 non-null    object\n",
      " 1   matches      149 non-null    object\n",
      " 2   innings      149 non-null    object\n",
      " 3   notouts      149 non-null    object\n",
      " 4   runs         149 non-null    object\n",
      " 5   balls        149 non-null    object\n",
      " 6   high_score   149 non-null    object\n",
      " 7   avg          149 non-null    object\n",
      " 8   strike_rate  149 non-null    object\n",
      " 9   fours        149 non-null    object\n",
      " 10  sixes        149 non-null    object\n",
      " 11  fiftys       149 non-null    object\n",
      " 12  hundreds     149 non-null    object\n",
      " 13  season       149 non-null    int64 \n",
      "dtypes: int64(1), object(13)\n",
      "memory usage: 16.4+ KB\n"
     ]
    }
   ],
   "source": [
    "df_2021.info()"
   ]
  },
  {
   "cell_type": "code",
   "execution_count": 23,
   "id": "895806e7",
   "metadata": {},
   "outputs": [],
   "source": [
    "df_2021.to_csv('df_2021ipl.csv')"
   ]
  },
  {
   "cell_type": "code",
   "execution_count": null,
   "id": "b6e52e7d",
   "metadata": {},
   "outputs": [],
   "source": []
  },
  {
   "cell_type": "code",
   "execution_count": null,
   "id": "3ed17dc2",
   "metadata": {},
   "outputs": [],
   "source": []
  },
  {
   "cell_type": "code",
   "execution_count": null,
   "id": "5c97359e",
   "metadata": {},
   "outputs": [],
   "source": []
  }
 ],
 "metadata": {
  "kernelspec": {
   "display_name": "Python 3 (ipykernel)",
   "language": "python",
   "name": "python3"
  },
  "language_info": {
   "codemirror_mode": {
    "name": "ipython",
    "version": 3
   },
   "file_extension": ".py",
   "mimetype": "text/x-python",
   "name": "python",
   "nbconvert_exporter": "python",
   "pygments_lexer": "ipython3",
   "version": "3.8.12"
  }
 },
 "nbformat": 4,
 "nbformat_minor": 5
}
