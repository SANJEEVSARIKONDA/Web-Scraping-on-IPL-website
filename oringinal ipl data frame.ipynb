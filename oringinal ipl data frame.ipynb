{
 "cells": [
  {
   "cell_type": "code",
   "execution_count": 1,
   "id": "c62a6f13",
   "metadata": {},
   "outputs": [],
   "source": [
    "import numpy as np\n",
    "import pandas as pd"
   ]
  },
  {
   "cell_type": "code",
   "execution_count": 2,
   "id": "c80c1b80",
   "metadata": {},
   "outputs": [],
   "source": [
    "df_2015 = pd.read_csv('df_2015ipl.csv')\n",
    "df_2016 = pd.read_csv('df_2016ipl.csv')\n",
    "df_2017 = pd.read_csv('df_2017ipl.csv')\n",
    "df_2018 = pd.read_csv('df_2018ipl.csv')\n",
    "df_2019 = pd.read_csv('df_2019ipl.csv')\n",
    "df_2020 = pd.read_csv('df_2020ipl.csv')\n",
    "df_2021 = pd.read_csv('df_2021ipl.csv')\n"
   ]
  },
  {
   "cell_type": "code",
   "execution_count": 3,
   "id": "5463e940",
   "metadata": {},
   "outputs": [],
   "source": [
    "df = pd.concat([df_2015,df_2016,df_2017,df_2018,df_2019,df_2020,df_2021],axis = 0)"
   ]
  },
  {
   "cell_type": "code",
   "execution_count": 4,
   "id": "5873268c",
   "metadata": {},
   "outputs": [
    {
     "name": "stdout",
     "output_type": "stream",
     "text": [
      "<class 'pandas.core.frame.DataFrame'>\n",
      "Int64Index: 972 entries, 0 to 148\n",
      "Data columns (total 15 columns):\n",
      " #   Column       Non-Null Count  Dtype  \n",
      "---  ------       --------------  -----  \n",
      " 0   Unnamed: 0   972 non-null    int64  \n",
      " 1   names        972 non-null    object \n",
      " 2   matches      972 non-null    int64  \n",
      " 3   innings      972 non-null    int64  \n",
      " 4   notouts      972 non-null    int64  \n",
      " 5   runs         972 non-null    int64  \n",
      " 6   balls        972 non-null    int64  \n",
      " 7   high_score   972 non-null    int64  \n",
      " 8   avg          972 non-null    float64\n",
      " 9   strike_rate  972 non-null    float64\n",
      " 10  fours        972 non-null    int64  \n",
      " 11  sixes        972 non-null    int64  \n",
      " 12  fiftys       972 non-null    int64  \n",
      " 13  hundreds     972 non-null    int64  \n",
      " 14  season       972 non-null    int64  \n",
      "dtypes: float64(2), int64(12), object(1)\n",
      "memory usage: 121.5+ KB\n"
     ]
    }
   ],
   "source": [
    "df.info()"
   ]
  },
  {
   "cell_type": "code",
   "execution_count": 5,
   "id": "b7ea6449",
   "metadata": {},
   "outputs": [],
   "source": [
    "df.reset_index(inplace = True)"
   ]
  },
  {
   "cell_type": "code",
   "execution_count": 6,
   "id": "ca8be063",
   "metadata": {},
   "outputs": [
    {
     "data": {
      "text/html": [
       "<div>\n",
       "<style scoped>\n",
       "    .dataframe tbody tr th:only-of-type {\n",
       "        vertical-align: middle;\n",
       "    }\n",
       "\n",
       "    .dataframe tbody tr th {\n",
       "        vertical-align: top;\n",
       "    }\n",
       "\n",
       "    .dataframe thead th {\n",
       "        text-align: right;\n",
       "    }\n",
       "</style>\n",
       "<table border=\"1\" class=\"dataframe\">\n",
       "  <thead>\n",
       "    <tr style=\"text-align: right;\">\n",
       "      <th></th>\n",
       "      <th>index</th>\n",
       "      <th>Unnamed: 0</th>\n",
       "      <th>names</th>\n",
       "      <th>matches</th>\n",
       "      <th>innings</th>\n",
       "      <th>notouts</th>\n",
       "      <th>runs</th>\n",
       "      <th>balls</th>\n",
       "      <th>high_score</th>\n",
       "      <th>avg</th>\n",
       "      <th>strike_rate</th>\n",
       "      <th>fours</th>\n",
       "      <th>sixes</th>\n",
       "      <th>fiftys</th>\n",
       "      <th>hundreds</th>\n",
       "      <th>season</th>\n",
       "    </tr>\n",
       "  </thead>\n",
       "  <tbody>\n",
       "    <tr>\n",
       "      <th>0</th>\n",
       "      <td>0</td>\n",
       "      <td>0</td>\n",
       "      <td>\\n\\n\\n\\nDavid Warner\\n\\n\\n\\n</td>\n",
       "      <td>14</td>\n",
       "      <td>14</td>\n",
       "      <td>1</td>\n",
       "      <td>562</td>\n",
       "      <td>359</td>\n",
       "      <td>91</td>\n",
       "      <td>43.23</td>\n",
       "      <td>156.54</td>\n",
       "      <td>65</td>\n",
       "      <td>21</td>\n",
       "      <td>0</td>\n",
       "      <td>7</td>\n",
       "      <td>2015</td>\n",
       "    </tr>\n",
       "    <tr>\n",
       "      <th>1</th>\n",
       "      <td>1</td>\n",
       "      <td>1</td>\n",
       "      <td>\\n\\n\\n\\nLendl Simmons\\n\\n\\n</td>\n",
       "      <td>13</td>\n",
       "      <td>13</td>\n",
       "      <td>1</td>\n",
       "      <td>540</td>\n",
       "      <td>441</td>\n",
       "      <td>71</td>\n",
       "      <td>45.00</td>\n",
       "      <td>122.44</td>\n",
       "      <td>56</td>\n",
       "      <td>21</td>\n",
       "      <td>0</td>\n",
       "      <td>6</td>\n",
       "      <td>2015</td>\n",
       "    </tr>\n",
       "    <tr>\n",
       "      <th>2</th>\n",
       "      <td>2</td>\n",
       "      <td>2</td>\n",
       "      <td>\\n\\n\\n\\nAjinkya Rahane\\n\\n\\n</td>\n",
       "      <td>14</td>\n",
       "      <td>13</td>\n",
       "      <td>2</td>\n",
       "      <td>540</td>\n",
       "      <td>413</td>\n",
       "      <td>91</td>\n",
       "      <td>49.09</td>\n",
       "      <td>130.75</td>\n",
       "      <td>53</td>\n",
       "      <td>13</td>\n",
       "      <td>0</td>\n",
       "      <td>4</td>\n",
       "      <td>2015</td>\n",
       "    </tr>\n",
       "    <tr>\n",
       "      <th>3</th>\n",
       "      <td>3</td>\n",
       "      <td>3</td>\n",
       "      <td>\\n\\n\\n\\nAB de Villiers\\n\\n\\n</td>\n",
       "      <td>16</td>\n",
       "      <td>14</td>\n",
       "      <td>3</td>\n",
       "      <td>513</td>\n",
       "      <td>293</td>\n",
       "      <td>133</td>\n",
       "      <td>46.63</td>\n",
       "      <td>175.08</td>\n",
       "      <td>60</td>\n",
       "      <td>22</td>\n",
       "      <td>1</td>\n",
       "      <td>2</td>\n",
       "      <td>2015</td>\n",
       "    </tr>\n",
       "    <tr>\n",
       "      <th>4</th>\n",
       "      <td>4</td>\n",
       "      <td>4</td>\n",
       "      <td>\\n\\n\\n\\nVirat Kohli\\n\\n\\n</td>\n",
       "      <td>16</td>\n",
       "      <td>16</td>\n",
       "      <td>5</td>\n",
       "      <td>505</td>\n",
       "      <td>386</td>\n",
       "      <td>82</td>\n",
       "      <td>45.90</td>\n",
       "      <td>130.82</td>\n",
       "      <td>35</td>\n",
       "      <td>23</td>\n",
       "      <td>0</td>\n",
       "      <td>3</td>\n",
       "      <td>2015</td>\n",
       "    </tr>\n",
       "    <tr>\n",
       "      <th>...</th>\n",
       "      <td>...</td>\n",
       "      <td>...</td>\n",
       "      <td>...</td>\n",
       "      <td>...</td>\n",
       "      <td>...</td>\n",
       "      <td>...</td>\n",
       "      <td>...</td>\n",
       "      <td>...</td>\n",
       "      <td>...</td>\n",
       "      <td>...</td>\n",
       "      <td>...</td>\n",
       "      <td>...</td>\n",
       "      <td>...</td>\n",
       "      <td>...</td>\n",
       "      <td>...</td>\n",
       "      <td>...</td>\n",
       "    </tr>\n",
       "    <tr>\n",
       "      <th>967</th>\n",
       "      <td>144</td>\n",
       "      <td>144</td>\n",
       "      <td>\\n\\n\\n\\nKuldip Yadav\\n\\n\\n</td>\n",
       "      <td>1</td>\n",
       "      <td>1</td>\n",
       "      <td>1</td>\n",
       "      <td>0</td>\n",
       "      <td>4</td>\n",
       "      <td>0</td>\n",
       "      <td>0.00</td>\n",
       "      <td>0.00</td>\n",
       "      <td>0</td>\n",
       "      <td>0</td>\n",
       "      <td>0</td>\n",
       "      <td>0</td>\n",
       "      <td>2021</td>\n",
       "    </tr>\n",
       "    <tr>\n",
       "      <th>968</th>\n",
       "      <td>145</td>\n",
       "      <td>145</td>\n",
       "      <td>\\n\\n\\n\\nSarfaraz Khan\\n\\n\\n</td>\n",
       "      <td>2</td>\n",
       "      <td>2</td>\n",
       "      <td>0</td>\n",
       "      <td>0</td>\n",
       "      <td>4</td>\n",
       "      <td>0</td>\n",
       "      <td>0.00</td>\n",
       "      <td>0.00</td>\n",
       "      <td>0</td>\n",
       "      <td>0</td>\n",
       "      <td>0</td>\n",
       "      <td>0</td>\n",
       "      <td>2021</td>\n",
       "    </tr>\n",
       "    <tr>\n",
       "      <th>969</th>\n",
       "      <td>146</td>\n",
       "      <td>146</td>\n",
       "      <td>\\n\\n\\n\\nAnuj Rawat\\n\\n\\n</td>\n",
       "      <td>2</td>\n",
       "      <td>1</td>\n",
       "      <td>0</td>\n",
       "      <td>0</td>\n",
       "      <td>1</td>\n",
       "      <td>0</td>\n",
       "      <td>0.00</td>\n",
       "      <td>0.00</td>\n",
       "      <td>0</td>\n",
       "      <td>0</td>\n",
       "      <td>0</td>\n",
       "      <td>0</td>\n",
       "      <td>2021</td>\n",
       "    </tr>\n",
       "    <tr>\n",
       "      <th>970</th>\n",
       "      <td>147</td>\n",
       "      <td>147</td>\n",
       "      <td>\\n\\n\\n\\nJimmy Neesham\\n\\n\\n</td>\n",
       "      <td>3</td>\n",
       "      <td>2</td>\n",
       "      <td>0</td>\n",
       "      <td>0</td>\n",
       "      <td>2</td>\n",
       "      <td>0</td>\n",
       "      <td>0.00</td>\n",
       "      <td>0.00</td>\n",
       "      <td>0</td>\n",
       "      <td>0</td>\n",
       "      <td>0</td>\n",
       "      <td>0</td>\n",
       "      <td>2021</td>\n",
       "    </tr>\n",
       "    <tr>\n",
       "      <th>971</th>\n",
       "      <td>148</td>\n",
       "      <td>148</td>\n",
       "      <td>\\n\\n\\n\\nPiyush Chawla\\n\\n\\n</td>\n",
       "      <td>1</td>\n",
       "      <td>1</td>\n",
       "      <td>0</td>\n",
       "      <td>0</td>\n",
       "      <td>2</td>\n",
       "      <td>0</td>\n",
       "      <td>0.00</td>\n",
       "      <td>0.00</td>\n",
       "      <td>0</td>\n",
       "      <td>0</td>\n",
       "      <td>0</td>\n",
       "      <td>0</td>\n",
       "      <td>2021</td>\n",
       "    </tr>\n",
       "  </tbody>\n",
       "</table>\n",
       "<p>972 rows × 16 columns</p>\n",
       "</div>"
      ],
      "text/plain": [
       "     index  Unnamed: 0                         names  matches  innings  \\\n",
       "0        0           0  \\n\\n\\n\\nDavid Warner\\n\\n\\n\\n       14       14   \n",
       "1        1           1   \\n\\n\\n\\nLendl Simmons\\n\\n\\n       13       13   \n",
       "2        2           2  \\n\\n\\n\\nAjinkya Rahane\\n\\n\\n       14       13   \n",
       "3        3           3  \\n\\n\\n\\nAB de Villiers\\n\\n\\n       16       14   \n",
       "4        4           4     \\n\\n\\n\\nVirat Kohli\\n\\n\\n       16       16   \n",
       "..     ...         ...                           ...      ...      ...   \n",
       "967    144         144    \\n\\n\\n\\nKuldip Yadav\\n\\n\\n        1        1   \n",
       "968    145         145   \\n\\n\\n\\nSarfaraz Khan\\n\\n\\n        2        2   \n",
       "969    146         146      \\n\\n\\n\\nAnuj Rawat\\n\\n\\n        2        1   \n",
       "970    147         147   \\n\\n\\n\\nJimmy Neesham\\n\\n\\n        3        2   \n",
       "971    148         148   \\n\\n\\n\\nPiyush Chawla\\n\\n\\n        1        1   \n",
       "\n",
       "     notouts  runs  balls  high_score    avg  strike_rate  fours  sixes  \\\n",
       "0          1   562    359          91  43.23       156.54     65     21   \n",
       "1          1   540    441          71  45.00       122.44     56     21   \n",
       "2          2   540    413          91  49.09       130.75     53     13   \n",
       "3          3   513    293         133  46.63       175.08     60     22   \n",
       "4          5   505    386          82  45.90       130.82     35     23   \n",
       "..       ...   ...    ...         ...    ...          ...    ...    ...   \n",
       "967        1     0      4           0   0.00         0.00      0      0   \n",
       "968        0     0      4           0   0.00         0.00      0      0   \n",
       "969        0     0      1           0   0.00         0.00      0      0   \n",
       "970        0     0      2           0   0.00         0.00      0      0   \n",
       "971        0     0      2           0   0.00         0.00      0      0   \n",
       "\n",
       "     fiftys  hundreds  season  \n",
       "0         0         7    2015  \n",
       "1         0         6    2015  \n",
       "2         0         4    2015  \n",
       "3         1         2    2015  \n",
       "4         0         3    2015  \n",
       "..      ...       ...     ...  \n",
       "967       0         0    2021  \n",
       "968       0         0    2021  \n",
       "969       0         0    2021  \n",
       "970       0         0    2021  \n",
       "971       0         0    2021  \n",
       "\n",
       "[972 rows x 16 columns]"
      ]
     },
     "execution_count": 6,
     "metadata": {},
     "output_type": "execute_result"
    }
   ],
   "source": [
    "df"
   ]
  },
  {
   "cell_type": "code",
   "execution_count": 7,
   "id": "e31fb5ea",
   "metadata": {},
   "outputs": [
    {
     "data": {
      "text/html": [
       "<div>\n",
       "<style scoped>\n",
       "    .dataframe tbody tr th:only-of-type {\n",
       "        vertical-align: middle;\n",
       "    }\n",
       "\n",
       "    .dataframe tbody tr th {\n",
       "        vertical-align: top;\n",
       "    }\n",
       "\n",
       "    .dataframe thead th {\n",
       "        text-align: right;\n",
       "    }\n",
       "</style>\n",
       "<table border=\"1\" class=\"dataframe\">\n",
       "  <thead>\n",
       "    <tr style=\"text-align: right;\">\n",
       "      <th></th>\n",
       "      <th>index</th>\n",
       "      <th>Unnamed: 0</th>\n",
       "      <th>names</th>\n",
       "      <th>matches</th>\n",
       "      <th>innings</th>\n",
       "      <th>notouts</th>\n",
       "      <th>runs</th>\n",
       "      <th>balls</th>\n",
       "      <th>high_score</th>\n",
       "      <th>avg</th>\n",
       "      <th>strike_rate</th>\n",
       "      <th>fours</th>\n",
       "      <th>sixes</th>\n",
       "      <th>fiftys</th>\n",
       "      <th>hundreds</th>\n",
       "      <th>season</th>\n",
       "    </tr>\n",
       "  </thead>\n",
       "  <tbody>\n",
       "    <tr>\n",
       "      <th>0</th>\n",
       "      <td>0</td>\n",
       "      <td>0</td>\n",
       "      <td>\\n\\n\\n\\nDavid Warner\\n\\n\\n\\n</td>\n",
       "      <td>14</td>\n",
       "      <td>14</td>\n",
       "      <td>1</td>\n",
       "      <td>562</td>\n",
       "      <td>359</td>\n",
       "      <td>91</td>\n",
       "      <td>43.23</td>\n",
       "      <td>156.54</td>\n",
       "      <td>65</td>\n",
       "      <td>21</td>\n",
       "      <td>0</td>\n",
       "      <td>7</td>\n",
       "      <td>2015</td>\n",
       "    </tr>\n",
       "    <tr>\n",
       "      <th>1</th>\n",
       "      <td>1</td>\n",
       "      <td>1</td>\n",
       "      <td>\\n\\n\\n\\nLendl Simmons\\n\\n\\n</td>\n",
       "      <td>13</td>\n",
       "      <td>13</td>\n",
       "      <td>1</td>\n",
       "      <td>540</td>\n",
       "      <td>441</td>\n",
       "      <td>71</td>\n",
       "      <td>45.00</td>\n",
       "      <td>122.44</td>\n",
       "      <td>56</td>\n",
       "      <td>21</td>\n",
       "      <td>0</td>\n",
       "      <td>6</td>\n",
       "      <td>2015</td>\n",
       "    </tr>\n",
       "    <tr>\n",
       "      <th>2</th>\n",
       "      <td>2</td>\n",
       "      <td>2</td>\n",
       "      <td>\\n\\n\\n\\nAjinkya Rahane\\n\\n\\n</td>\n",
       "      <td>14</td>\n",
       "      <td>13</td>\n",
       "      <td>2</td>\n",
       "      <td>540</td>\n",
       "      <td>413</td>\n",
       "      <td>91</td>\n",
       "      <td>49.09</td>\n",
       "      <td>130.75</td>\n",
       "      <td>53</td>\n",
       "      <td>13</td>\n",
       "      <td>0</td>\n",
       "      <td>4</td>\n",
       "      <td>2015</td>\n",
       "    </tr>\n",
       "    <tr>\n",
       "      <th>3</th>\n",
       "      <td>3</td>\n",
       "      <td>3</td>\n",
       "      <td>\\n\\n\\n\\nAB de Villiers\\n\\n\\n</td>\n",
       "      <td>16</td>\n",
       "      <td>14</td>\n",
       "      <td>3</td>\n",
       "      <td>513</td>\n",
       "      <td>293</td>\n",
       "      <td>133</td>\n",
       "      <td>46.63</td>\n",
       "      <td>175.08</td>\n",
       "      <td>60</td>\n",
       "      <td>22</td>\n",
       "      <td>1</td>\n",
       "      <td>2</td>\n",
       "      <td>2015</td>\n",
       "    </tr>\n",
       "    <tr>\n",
       "      <th>4</th>\n",
       "      <td>4</td>\n",
       "      <td>4</td>\n",
       "      <td>\\n\\n\\n\\nVirat Kohli\\n\\n\\n</td>\n",
       "      <td>16</td>\n",
       "      <td>16</td>\n",
       "      <td>5</td>\n",
       "      <td>505</td>\n",
       "      <td>386</td>\n",
       "      <td>82</td>\n",
       "      <td>45.90</td>\n",
       "      <td>130.82</td>\n",
       "      <td>35</td>\n",
       "      <td>23</td>\n",
       "      <td>0</td>\n",
       "      <td>3</td>\n",
       "      <td>2015</td>\n",
       "    </tr>\n",
       "    <tr>\n",
       "      <th>...</th>\n",
       "      <td>...</td>\n",
       "      <td>...</td>\n",
       "      <td>...</td>\n",
       "      <td>...</td>\n",
       "      <td>...</td>\n",
       "      <td>...</td>\n",
       "      <td>...</td>\n",
       "      <td>...</td>\n",
       "      <td>...</td>\n",
       "      <td>...</td>\n",
       "      <td>...</td>\n",
       "      <td>...</td>\n",
       "      <td>...</td>\n",
       "      <td>...</td>\n",
       "      <td>...</td>\n",
       "      <td>...</td>\n",
       "    </tr>\n",
       "    <tr>\n",
       "      <th>967</th>\n",
       "      <td>144</td>\n",
       "      <td>144</td>\n",
       "      <td>\\n\\n\\n\\nKuldip Yadav\\n\\n\\n</td>\n",
       "      <td>1</td>\n",
       "      <td>1</td>\n",
       "      <td>1</td>\n",
       "      <td>0</td>\n",
       "      <td>4</td>\n",
       "      <td>0</td>\n",
       "      <td>0.00</td>\n",
       "      <td>0.00</td>\n",
       "      <td>0</td>\n",
       "      <td>0</td>\n",
       "      <td>0</td>\n",
       "      <td>0</td>\n",
       "      <td>2021</td>\n",
       "    </tr>\n",
       "    <tr>\n",
       "      <th>968</th>\n",
       "      <td>145</td>\n",
       "      <td>145</td>\n",
       "      <td>\\n\\n\\n\\nSarfaraz Khan\\n\\n\\n</td>\n",
       "      <td>2</td>\n",
       "      <td>2</td>\n",
       "      <td>0</td>\n",
       "      <td>0</td>\n",
       "      <td>4</td>\n",
       "      <td>0</td>\n",
       "      <td>0.00</td>\n",
       "      <td>0.00</td>\n",
       "      <td>0</td>\n",
       "      <td>0</td>\n",
       "      <td>0</td>\n",
       "      <td>0</td>\n",
       "      <td>2021</td>\n",
       "    </tr>\n",
       "    <tr>\n",
       "      <th>969</th>\n",
       "      <td>146</td>\n",
       "      <td>146</td>\n",
       "      <td>\\n\\n\\n\\nAnuj Rawat\\n\\n\\n</td>\n",
       "      <td>2</td>\n",
       "      <td>1</td>\n",
       "      <td>0</td>\n",
       "      <td>0</td>\n",
       "      <td>1</td>\n",
       "      <td>0</td>\n",
       "      <td>0.00</td>\n",
       "      <td>0.00</td>\n",
       "      <td>0</td>\n",
       "      <td>0</td>\n",
       "      <td>0</td>\n",
       "      <td>0</td>\n",
       "      <td>2021</td>\n",
       "    </tr>\n",
       "    <tr>\n",
       "      <th>970</th>\n",
       "      <td>147</td>\n",
       "      <td>147</td>\n",
       "      <td>\\n\\n\\n\\nJimmy Neesham\\n\\n\\n</td>\n",
       "      <td>3</td>\n",
       "      <td>2</td>\n",
       "      <td>0</td>\n",
       "      <td>0</td>\n",
       "      <td>2</td>\n",
       "      <td>0</td>\n",
       "      <td>0.00</td>\n",
       "      <td>0.00</td>\n",
       "      <td>0</td>\n",
       "      <td>0</td>\n",
       "      <td>0</td>\n",
       "      <td>0</td>\n",
       "      <td>2021</td>\n",
       "    </tr>\n",
       "    <tr>\n",
       "      <th>971</th>\n",
       "      <td>148</td>\n",
       "      <td>148</td>\n",
       "      <td>\\n\\n\\n\\nPiyush Chawla\\n\\n\\n</td>\n",
       "      <td>1</td>\n",
       "      <td>1</td>\n",
       "      <td>0</td>\n",
       "      <td>0</td>\n",
       "      <td>2</td>\n",
       "      <td>0</td>\n",
       "      <td>0.00</td>\n",
       "      <td>0.00</td>\n",
       "      <td>0</td>\n",
       "      <td>0</td>\n",
       "      <td>0</td>\n",
       "      <td>0</td>\n",
       "      <td>2021</td>\n",
       "    </tr>\n",
       "  </tbody>\n",
       "</table>\n",
       "<p>972 rows × 16 columns</p>\n",
       "</div>"
      ],
      "text/plain": [
       "     index  Unnamed: 0                         names  matches  innings  \\\n",
       "0        0           0  \\n\\n\\n\\nDavid Warner\\n\\n\\n\\n       14       14   \n",
       "1        1           1   \\n\\n\\n\\nLendl Simmons\\n\\n\\n       13       13   \n",
       "2        2           2  \\n\\n\\n\\nAjinkya Rahane\\n\\n\\n       14       13   \n",
       "3        3           3  \\n\\n\\n\\nAB de Villiers\\n\\n\\n       16       14   \n",
       "4        4           4     \\n\\n\\n\\nVirat Kohli\\n\\n\\n       16       16   \n",
       "..     ...         ...                           ...      ...      ...   \n",
       "967    144         144    \\n\\n\\n\\nKuldip Yadav\\n\\n\\n        1        1   \n",
       "968    145         145   \\n\\n\\n\\nSarfaraz Khan\\n\\n\\n        2        2   \n",
       "969    146         146      \\n\\n\\n\\nAnuj Rawat\\n\\n\\n        2        1   \n",
       "970    147         147   \\n\\n\\n\\nJimmy Neesham\\n\\n\\n        3        2   \n",
       "971    148         148   \\n\\n\\n\\nPiyush Chawla\\n\\n\\n        1        1   \n",
       "\n",
       "     notouts  runs  balls  high_score    avg  strike_rate  fours  sixes  \\\n",
       "0          1   562    359          91  43.23       156.54     65     21   \n",
       "1          1   540    441          71  45.00       122.44     56     21   \n",
       "2          2   540    413          91  49.09       130.75     53     13   \n",
       "3          3   513    293         133  46.63       175.08     60     22   \n",
       "4          5   505    386          82  45.90       130.82     35     23   \n",
       "..       ...   ...    ...         ...    ...          ...    ...    ...   \n",
       "967        1     0      4           0   0.00         0.00      0      0   \n",
       "968        0     0      4           0   0.00         0.00      0      0   \n",
       "969        0     0      1           0   0.00         0.00      0      0   \n",
       "970        0     0      2           0   0.00         0.00      0      0   \n",
       "971        0     0      2           0   0.00         0.00      0      0   \n",
       "\n",
       "     fiftys  hundreds  season  \n",
       "0         0         7    2015  \n",
       "1         0         6    2015  \n",
       "2         0         4    2015  \n",
       "3         1         2    2015  \n",
       "4         0         3    2015  \n",
       "..      ...       ...     ...  \n",
       "967       0         0    2021  \n",
       "968       0         0    2021  \n",
       "969       0         0    2021  \n",
       "970       0         0    2021  \n",
       "971       0         0    2021  \n",
       "\n",
       "[972 rows x 16 columns]"
      ]
     },
     "execution_count": 7,
     "metadata": {},
     "output_type": "execute_result"
    }
   ],
   "source": [
    "df "
   ]
  },
  {
   "cell_type": "code",
   "execution_count": 8,
   "id": "a2730e89",
   "metadata": {},
   "outputs": [],
   "source": [
    "df = df.drop('Unnamed: 0',axis=1)"
   ]
  },
  {
   "cell_type": "code",
   "execution_count": 9,
   "id": "4d8dc416",
   "metadata": {},
   "outputs": [
    {
     "data": {
      "text/html": [
       "<div>\n",
       "<style scoped>\n",
       "    .dataframe tbody tr th:only-of-type {\n",
       "        vertical-align: middle;\n",
       "    }\n",
       "\n",
       "    .dataframe tbody tr th {\n",
       "        vertical-align: top;\n",
       "    }\n",
       "\n",
       "    .dataframe thead th {\n",
       "        text-align: right;\n",
       "    }\n",
       "</style>\n",
       "<table border=\"1\" class=\"dataframe\">\n",
       "  <thead>\n",
       "    <tr style=\"text-align: right;\">\n",
       "      <th></th>\n",
       "      <th>index</th>\n",
       "      <th>names</th>\n",
       "      <th>matches</th>\n",
       "      <th>innings</th>\n",
       "      <th>notouts</th>\n",
       "      <th>runs</th>\n",
       "      <th>balls</th>\n",
       "      <th>high_score</th>\n",
       "      <th>avg</th>\n",
       "      <th>strike_rate</th>\n",
       "      <th>fours</th>\n",
       "      <th>sixes</th>\n",
       "      <th>fiftys</th>\n",
       "      <th>hundreds</th>\n",
       "      <th>season</th>\n",
       "    </tr>\n",
       "  </thead>\n",
       "  <tbody>\n",
       "    <tr>\n",
       "      <th>0</th>\n",
       "      <td>0</td>\n",
       "      <td>\\n\\n\\n\\nDavid Warner\\n\\n\\n\\n</td>\n",
       "      <td>14</td>\n",
       "      <td>14</td>\n",
       "      <td>1</td>\n",
       "      <td>562</td>\n",
       "      <td>359</td>\n",
       "      <td>91</td>\n",
       "      <td>43.23</td>\n",
       "      <td>156.54</td>\n",
       "      <td>65</td>\n",
       "      <td>21</td>\n",
       "      <td>0</td>\n",
       "      <td>7</td>\n",
       "      <td>2015</td>\n",
       "    </tr>\n",
       "    <tr>\n",
       "      <th>1</th>\n",
       "      <td>1</td>\n",
       "      <td>\\n\\n\\n\\nLendl Simmons\\n\\n\\n</td>\n",
       "      <td>13</td>\n",
       "      <td>13</td>\n",
       "      <td>1</td>\n",
       "      <td>540</td>\n",
       "      <td>441</td>\n",
       "      <td>71</td>\n",
       "      <td>45.00</td>\n",
       "      <td>122.44</td>\n",
       "      <td>56</td>\n",
       "      <td>21</td>\n",
       "      <td>0</td>\n",
       "      <td>6</td>\n",
       "      <td>2015</td>\n",
       "    </tr>\n",
       "    <tr>\n",
       "      <th>2</th>\n",
       "      <td>2</td>\n",
       "      <td>\\n\\n\\n\\nAjinkya Rahane\\n\\n\\n</td>\n",
       "      <td>14</td>\n",
       "      <td>13</td>\n",
       "      <td>2</td>\n",
       "      <td>540</td>\n",
       "      <td>413</td>\n",
       "      <td>91</td>\n",
       "      <td>49.09</td>\n",
       "      <td>130.75</td>\n",
       "      <td>53</td>\n",
       "      <td>13</td>\n",
       "      <td>0</td>\n",
       "      <td>4</td>\n",
       "      <td>2015</td>\n",
       "    </tr>\n",
       "    <tr>\n",
       "      <th>3</th>\n",
       "      <td>3</td>\n",
       "      <td>\\n\\n\\n\\nAB de Villiers\\n\\n\\n</td>\n",
       "      <td>16</td>\n",
       "      <td>14</td>\n",
       "      <td>3</td>\n",
       "      <td>513</td>\n",
       "      <td>293</td>\n",
       "      <td>133</td>\n",
       "      <td>46.63</td>\n",
       "      <td>175.08</td>\n",
       "      <td>60</td>\n",
       "      <td>22</td>\n",
       "      <td>1</td>\n",
       "      <td>2</td>\n",
       "      <td>2015</td>\n",
       "    </tr>\n",
       "    <tr>\n",
       "      <th>4</th>\n",
       "      <td>4</td>\n",
       "      <td>\\n\\n\\n\\nVirat Kohli\\n\\n\\n</td>\n",
       "      <td>16</td>\n",
       "      <td>16</td>\n",
       "      <td>5</td>\n",
       "      <td>505</td>\n",
       "      <td>386</td>\n",
       "      <td>82</td>\n",
       "      <td>45.90</td>\n",
       "      <td>130.82</td>\n",
       "      <td>35</td>\n",
       "      <td>23</td>\n",
       "      <td>0</td>\n",
       "      <td>3</td>\n",
       "      <td>2015</td>\n",
       "    </tr>\n",
       "    <tr>\n",
       "      <th>...</th>\n",
       "      <td>...</td>\n",
       "      <td>...</td>\n",
       "      <td>...</td>\n",
       "      <td>...</td>\n",
       "      <td>...</td>\n",
       "      <td>...</td>\n",
       "      <td>...</td>\n",
       "      <td>...</td>\n",
       "      <td>...</td>\n",
       "      <td>...</td>\n",
       "      <td>...</td>\n",
       "      <td>...</td>\n",
       "      <td>...</td>\n",
       "      <td>...</td>\n",
       "      <td>...</td>\n",
       "    </tr>\n",
       "    <tr>\n",
       "      <th>967</th>\n",
       "      <td>144</td>\n",
       "      <td>\\n\\n\\n\\nKuldip Yadav\\n\\n\\n</td>\n",
       "      <td>1</td>\n",
       "      <td>1</td>\n",
       "      <td>1</td>\n",
       "      <td>0</td>\n",
       "      <td>4</td>\n",
       "      <td>0</td>\n",
       "      <td>0.00</td>\n",
       "      <td>0.00</td>\n",
       "      <td>0</td>\n",
       "      <td>0</td>\n",
       "      <td>0</td>\n",
       "      <td>0</td>\n",
       "      <td>2021</td>\n",
       "    </tr>\n",
       "    <tr>\n",
       "      <th>968</th>\n",
       "      <td>145</td>\n",
       "      <td>\\n\\n\\n\\nSarfaraz Khan\\n\\n\\n</td>\n",
       "      <td>2</td>\n",
       "      <td>2</td>\n",
       "      <td>0</td>\n",
       "      <td>0</td>\n",
       "      <td>4</td>\n",
       "      <td>0</td>\n",
       "      <td>0.00</td>\n",
       "      <td>0.00</td>\n",
       "      <td>0</td>\n",
       "      <td>0</td>\n",
       "      <td>0</td>\n",
       "      <td>0</td>\n",
       "      <td>2021</td>\n",
       "    </tr>\n",
       "    <tr>\n",
       "      <th>969</th>\n",
       "      <td>146</td>\n",
       "      <td>\\n\\n\\n\\nAnuj Rawat\\n\\n\\n</td>\n",
       "      <td>2</td>\n",
       "      <td>1</td>\n",
       "      <td>0</td>\n",
       "      <td>0</td>\n",
       "      <td>1</td>\n",
       "      <td>0</td>\n",
       "      <td>0.00</td>\n",
       "      <td>0.00</td>\n",
       "      <td>0</td>\n",
       "      <td>0</td>\n",
       "      <td>0</td>\n",
       "      <td>0</td>\n",
       "      <td>2021</td>\n",
       "    </tr>\n",
       "    <tr>\n",
       "      <th>970</th>\n",
       "      <td>147</td>\n",
       "      <td>\\n\\n\\n\\nJimmy Neesham\\n\\n\\n</td>\n",
       "      <td>3</td>\n",
       "      <td>2</td>\n",
       "      <td>0</td>\n",
       "      <td>0</td>\n",
       "      <td>2</td>\n",
       "      <td>0</td>\n",
       "      <td>0.00</td>\n",
       "      <td>0.00</td>\n",
       "      <td>0</td>\n",
       "      <td>0</td>\n",
       "      <td>0</td>\n",
       "      <td>0</td>\n",
       "      <td>2021</td>\n",
       "    </tr>\n",
       "    <tr>\n",
       "      <th>971</th>\n",
       "      <td>148</td>\n",
       "      <td>\\n\\n\\n\\nPiyush Chawla\\n\\n\\n</td>\n",
       "      <td>1</td>\n",
       "      <td>1</td>\n",
       "      <td>0</td>\n",
       "      <td>0</td>\n",
       "      <td>2</td>\n",
       "      <td>0</td>\n",
       "      <td>0.00</td>\n",
       "      <td>0.00</td>\n",
       "      <td>0</td>\n",
       "      <td>0</td>\n",
       "      <td>0</td>\n",
       "      <td>0</td>\n",
       "      <td>2021</td>\n",
       "    </tr>\n",
       "  </tbody>\n",
       "</table>\n",
       "<p>972 rows × 15 columns</p>\n",
       "</div>"
      ],
      "text/plain": [
       "     index                         names  matches  innings  notouts  runs  \\\n",
       "0        0  \\n\\n\\n\\nDavid Warner\\n\\n\\n\\n       14       14        1   562   \n",
       "1        1   \\n\\n\\n\\nLendl Simmons\\n\\n\\n       13       13        1   540   \n",
       "2        2  \\n\\n\\n\\nAjinkya Rahane\\n\\n\\n       14       13        2   540   \n",
       "3        3  \\n\\n\\n\\nAB de Villiers\\n\\n\\n       16       14        3   513   \n",
       "4        4     \\n\\n\\n\\nVirat Kohli\\n\\n\\n       16       16        5   505   \n",
       "..     ...                           ...      ...      ...      ...   ...   \n",
       "967    144    \\n\\n\\n\\nKuldip Yadav\\n\\n\\n        1        1        1     0   \n",
       "968    145   \\n\\n\\n\\nSarfaraz Khan\\n\\n\\n        2        2        0     0   \n",
       "969    146      \\n\\n\\n\\nAnuj Rawat\\n\\n\\n        2        1        0     0   \n",
       "970    147   \\n\\n\\n\\nJimmy Neesham\\n\\n\\n        3        2        0     0   \n",
       "971    148   \\n\\n\\n\\nPiyush Chawla\\n\\n\\n        1        1        0     0   \n",
       "\n",
       "     balls  high_score    avg  strike_rate  fours  sixes  fiftys  hundreds  \\\n",
       "0      359          91  43.23       156.54     65     21       0         7   \n",
       "1      441          71  45.00       122.44     56     21       0         6   \n",
       "2      413          91  49.09       130.75     53     13       0         4   \n",
       "3      293         133  46.63       175.08     60     22       1         2   \n",
       "4      386          82  45.90       130.82     35     23       0         3   \n",
       "..     ...         ...    ...          ...    ...    ...     ...       ...   \n",
       "967      4           0   0.00         0.00      0      0       0         0   \n",
       "968      4           0   0.00         0.00      0      0       0         0   \n",
       "969      1           0   0.00         0.00      0      0       0         0   \n",
       "970      2           0   0.00         0.00      0      0       0         0   \n",
       "971      2           0   0.00         0.00      0      0       0         0   \n",
       "\n",
       "     season  \n",
       "0      2015  \n",
       "1      2015  \n",
       "2      2015  \n",
       "3      2015  \n",
       "4      2015  \n",
       "..      ...  \n",
       "967    2021  \n",
       "968    2021  \n",
       "969    2021  \n",
       "970    2021  \n",
       "971    2021  \n",
       "\n",
       "[972 rows x 15 columns]"
      ]
     },
     "execution_count": 9,
     "metadata": {},
     "output_type": "execute_result"
    }
   ],
   "source": [
    "df"
   ]
  },
  {
   "cell_type": "code",
   "execution_count": 10,
   "id": "7b0528d9",
   "metadata": {},
   "outputs": [],
   "source": [
    "regex = r'\\S+'\n",
    "import re"
   ]
  },
  {
   "cell_type": "code",
   "execution_count": 11,
   "id": "a68d62f7",
   "metadata": {},
   "outputs": [],
   "source": [
    "df.names = df.names.apply(lambda x: re.findall(regex,x))"
   ]
  },
  {
   "cell_type": "code",
   "execution_count": 12,
   "id": "aaf9d609",
   "metadata": {},
   "outputs": [],
   "source": [
    "df.names= df.names.apply(lambda x: \" \".join(x))"
   ]
  },
  {
   "cell_type": "code",
   "execution_count": 13,
   "id": "afa41724",
   "metadata": {},
   "outputs": [],
   "source": [
    "# df.drop('sanjeev',axis =1)"
   ]
  },
  {
   "cell_type": "code",
   "execution_count": 14,
   "id": "29d11ae2",
   "metadata": {},
   "outputs": [
    {
     "data": {
      "text/html": [
       "<div>\n",
       "<style scoped>\n",
       "    .dataframe tbody tr th:only-of-type {\n",
       "        vertical-align: middle;\n",
       "    }\n",
       "\n",
       "    .dataframe tbody tr th {\n",
       "        vertical-align: top;\n",
       "    }\n",
       "\n",
       "    .dataframe thead th {\n",
       "        text-align: right;\n",
       "    }\n",
       "</style>\n",
       "<table border=\"1\" class=\"dataframe\">\n",
       "  <thead>\n",
       "    <tr style=\"text-align: right;\">\n",
       "      <th></th>\n",
       "      <th>index</th>\n",
       "      <th>names</th>\n",
       "      <th>matches</th>\n",
       "      <th>innings</th>\n",
       "      <th>notouts</th>\n",
       "      <th>runs</th>\n",
       "      <th>balls</th>\n",
       "      <th>high_score</th>\n",
       "      <th>avg</th>\n",
       "      <th>strike_rate</th>\n",
       "      <th>fours</th>\n",
       "      <th>sixes</th>\n",
       "      <th>fiftys</th>\n",
       "      <th>hundreds</th>\n",
       "      <th>season</th>\n",
       "    </tr>\n",
       "  </thead>\n",
       "  <tbody>\n",
       "    <tr>\n",
       "      <th>0</th>\n",
       "      <td>0</td>\n",
       "      <td>David Warner</td>\n",
       "      <td>14</td>\n",
       "      <td>14</td>\n",
       "      <td>1</td>\n",
       "      <td>562</td>\n",
       "      <td>359</td>\n",
       "      <td>91</td>\n",
       "      <td>43.23</td>\n",
       "      <td>156.54</td>\n",
       "      <td>65</td>\n",
       "      <td>21</td>\n",
       "      <td>0</td>\n",
       "      <td>7</td>\n",
       "      <td>2015</td>\n",
       "    </tr>\n",
       "    <tr>\n",
       "      <th>1</th>\n",
       "      <td>1</td>\n",
       "      <td>Lendl Simmons</td>\n",
       "      <td>13</td>\n",
       "      <td>13</td>\n",
       "      <td>1</td>\n",
       "      <td>540</td>\n",
       "      <td>441</td>\n",
       "      <td>71</td>\n",
       "      <td>45.00</td>\n",
       "      <td>122.44</td>\n",
       "      <td>56</td>\n",
       "      <td>21</td>\n",
       "      <td>0</td>\n",
       "      <td>6</td>\n",
       "      <td>2015</td>\n",
       "    </tr>\n",
       "    <tr>\n",
       "      <th>2</th>\n",
       "      <td>2</td>\n",
       "      <td>Ajinkya Rahane</td>\n",
       "      <td>14</td>\n",
       "      <td>13</td>\n",
       "      <td>2</td>\n",
       "      <td>540</td>\n",
       "      <td>413</td>\n",
       "      <td>91</td>\n",
       "      <td>49.09</td>\n",
       "      <td>130.75</td>\n",
       "      <td>53</td>\n",
       "      <td>13</td>\n",
       "      <td>0</td>\n",
       "      <td>4</td>\n",
       "      <td>2015</td>\n",
       "    </tr>\n",
       "    <tr>\n",
       "      <th>3</th>\n",
       "      <td>3</td>\n",
       "      <td>AB de Villiers</td>\n",
       "      <td>16</td>\n",
       "      <td>14</td>\n",
       "      <td>3</td>\n",
       "      <td>513</td>\n",
       "      <td>293</td>\n",
       "      <td>133</td>\n",
       "      <td>46.63</td>\n",
       "      <td>175.08</td>\n",
       "      <td>60</td>\n",
       "      <td>22</td>\n",
       "      <td>1</td>\n",
       "      <td>2</td>\n",
       "      <td>2015</td>\n",
       "    </tr>\n",
       "    <tr>\n",
       "      <th>4</th>\n",
       "      <td>4</td>\n",
       "      <td>Virat Kohli</td>\n",
       "      <td>16</td>\n",
       "      <td>16</td>\n",
       "      <td>5</td>\n",
       "      <td>505</td>\n",
       "      <td>386</td>\n",
       "      <td>82</td>\n",
       "      <td>45.90</td>\n",
       "      <td>130.82</td>\n",
       "      <td>35</td>\n",
       "      <td>23</td>\n",
       "      <td>0</td>\n",
       "      <td>3</td>\n",
       "      <td>2015</td>\n",
       "    </tr>\n",
       "  </tbody>\n",
       "</table>\n",
       "</div>"
      ],
      "text/plain": [
       "   index           names  matches  innings  notouts  runs  balls  high_score  \\\n",
       "0      0    David Warner       14       14        1   562    359          91   \n",
       "1      1   Lendl Simmons       13       13        1   540    441          71   \n",
       "2      2  Ajinkya Rahane       14       13        2   540    413          91   \n",
       "3      3  AB de Villiers       16       14        3   513    293         133   \n",
       "4      4     Virat Kohli       16       16        5   505    386          82   \n",
       "\n",
       "     avg  strike_rate  fours  sixes  fiftys  hundreds  season  \n",
       "0  43.23       156.54     65     21       0         7    2015  \n",
       "1  45.00       122.44     56     21       0         6    2015  \n",
       "2  49.09       130.75     53     13       0         4    2015  \n",
       "3  46.63       175.08     60     22       1         2    2015  \n",
       "4  45.90       130.82     35     23       0         3    2015  "
      ]
     },
     "execution_count": 14,
     "metadata": {},
     "output_type": "execute_result"
    }
   ],
   "source": [
    "df.head()"
   ]
  },
  {
   "cell_type": "code",
   "execution_count": 15,
   "id": "fb08b2dd",
   "metadata": {},
   "outputs": [
    {
     "data": {
      "text/html": [
       "<div>\n",
       "<style scoped>\n",
       "    .dataframe tbody tr th:only-of-type {\n",
       "        vertical-align: middle;\n",
       "    }\n",
       "\n",
       "    .dataframe tbody tr th {\n",
       "        vertical-align: top;\n",
       "    }\n",
       "\n",
       "    .dataframe thead th {\n",
       "        text-align: right;\n",
       "    }\n",
       "</style>\n",
       "<table border=\"1\" class=\"dataframe\">\n",
       "  <thead>\n",
       "    <tr style=\"text-align: right;\">\n",
       "      <th></th>\n",
       "      <th>index</th>\n",
       "      <th>names</th>\n",
       "      <th>matches</th>\n",
       "      <th>innings</th>\n",
       "      <th>notouts</th>\n",
       "      <th>runs</th>\n",
       "      <th>balls</th>\n",
       "      <th>high_score</th>\n",
       "      <th>avg</th>\n",
       "      <th>strike_rate</th>\n",
       "      <th>fours</th>\n",
       "      <th>sixes</th>\n",
       "      <th>fiftys</th>\n",
       "      <th>hundreds</th>\n",
       "      <th>season</th>\n",
       "    </tr>\n",
       "  </thead>\n",
       "  <tbody>\n",
       "    <tr>\n",
       "      <th>0</th>\n",
       "      <td>0</td>\n",
       "      <td>David Warner</td>\n",
       "      <td>14</td>\n",
       "      <td>14</td>\n",
       "      <td>1</td>\n",
       "      <td>562</td>\n",
       "      <td>359</td>\n",
       "      <td>91</td>\n",
       "      <td>43.23</td>\n",
       "      <td>156.54</td>\n",
       "      <td>65</td>\n",
       "      <td>21</td>\n",
       "      <td>0</td>\n",
       "      <td>7</td>\n",
       "      <td>2015</td>\n",
       "    </tr>\n",
       "    <tr>\n",
       "      <th>1</th>\n",
       "      <td>1</td>\n",
       "      <td>Lendl Simmons</td>\n",
       "      <td>13</td>\n",
       "      <td>13</td>\n",
       "      <td>1</td>\n",
       "      <td>540</td>\n",
       "      <td>441</td>\n",
       "      <td>71</td>\n",
       "      <td>45.00</td>\n",
       "      <td>122.44</td>\n",
       "      <td>56</td>\n",
       "      <td>21</td>\n",
       "      <td>0</td>\n",
       "      <td>6</td>\n",
       "      <td>2015</td>\n",
       "    </tr>\n",
       "    <tr>\n",
       "      <th>2</th>\n",
       "      <td>2</td>\n",
       "      <td>Ajinkya Rahane</td>\n",
       "      <td>14</td>\n",
       "      <td>13</td>\n",
       "      <td>2</td>\n",
       "      <td>540</td>\n",
       "      <td>413</td>\n",
       "      <td>91</td>\n",
       "      <td>49.09</td>\n",
       "      <td>130.75</td>\n",
       "      <td>53</td>\n",
       "      <td>13</td>\n",
       "      <td>0</td>\n",
       "      <td>4</td>\n",
       "      <td>2015</td>\n",
       "    </tr>\n",
       "    <tr>\n",
       "      <th>3</th>\n",
       "      <td>3</td>\n",
       "      <td>AB de Villiers</td>\n",
       "      <td>16</td>\n",
       "      <td>14</td>\n",
       "      <td>3</td>\n",
       "      <td>513</td>\n",
       "      <td>293</td>\n",
       "      <td>133</td>\n",
       "      <td>46.63</td>\n",
       "      <td>175.08</td>\n",
       "      <td>60</td>\n",
       "      <td>22</td>\n",
       "      <td>1</td>\n",
       "      <td>2</td>\n",
       "      <td>2015</td>\n",
       "    </tr>\n",
       "    <tr>\n",
       "      <th>4</th>\n",
       "      <td>4</td>\n",
       "      <td>Virat Kohli</td>\n",
       "      <td>16</td>\n",
       "      <td>16</td>\n",
       "      <td>5</td>\n",
       "      <td>505</td>\n",
       "      <td>386</td>\n",
       "      <td>82</td>\n",
       "      <td>45.90</td>\n",
       "      <td>130.82</td>\n",
       "      <td>35</td>\n",
       "      <td>23</td>\n",
       "      <td>0</td>\n",
       "      <td>3</td>\n",
       "      <td>2015</td>\n",
       "    </tr>\n",
       "    <tr>\n",
       "      <th>...</th>\n",
       "      <td>...</td>\n",
       "      <td>...</td>\n",
       "      <td>...</td>\n",
       "      <td>...</td>\n",
       "      <td>...</td>\n",
       "      <td>...</td>\n",
       "      <td>...</td>\n",
       "      <td>...</td>\n",
       "      <td>...</td>\n",
       "      <td>...</td>\n",
       "      <td>...</td>\n",
       "      <td>...</td>\n",
       "      <td>...</td>\n",
       "      <td>...</td>\n",
       "      <td>...</td>\n",
       "    </tr>\n",
       "    <tr>\n",
       "      <th>967</th>\n",
       "      <td>144</td>\n",
       "      <td>Kuldip Yadav</td>\n",
       "      <td>1</td>\n",
       "      <td>1</td>\n",
       "      <td>1</td>\n",
       "      <td>0</td>\n",
       "      <td>4</td>\n",
       "      <td>0</td>\n",
       "      <td>0.00</td>\n",
       "      <td>0.00</td>\n",
       "      <td>0</td>\n",
       "      <td>0</td>\n",
       "      <td>0</td>\n",
       "      <td>0</td>\n",
       "      <td>2021</td>\n",
       "    </tr>\n",
       "    <tr>\n",
       "      <th>968</th>\n",
       "      <td>145</td>\n",
       "      <td>Sarfaraz Khan</td>\n",
       "      <td>2</td>\n",
       "      <td>2</td>\n",
       "      <td>0</td>\n",
       "      <td>0</td>\n",
       "      <td>4</td>\n",
       "      <td>0</td>\n",
       "      <td>0.00</td>\n",
       "      <td>0.00</td>\n",
       "      <td>0</td>\n",
       "      <td>0</td>\n",
       "      <td>0</td>\n",
       "      <td>0</td>\n",
       "      <td>2021</td>\n",
       "    </tr>\n",
       "    <tr>\n",
       "      <th>969</th>\n",
       "      <td>146</td>\n",
       "      <td>Anuj Rawat</td>\n",
       "      <td>2</td>\n",
       "      <td>1</td>\n",
       "      <td>0</td>\n",
       "      <td>0</td>\n",
       "      <td>1</td>\n",
       "      <td>0</td>\n",
       "      <td>0.00</td>\n",
       "      <td>0.00</td>\n",
       "      <td>0</td>\n",
       "      <td>0</td>\n",
       "      <td>0</td>\n",
       "      <td>0</td>\n",
       "      <td>2021</td>\n",
       "    </tr>\n",
       "    <tr>\n",
       "      <th>970</th>\n",
       "      <td>147</td>\n",
       "      <td>Jimmy Neesham</td>\n",
       "      <td>3</td>\n",
       "      <td>2</td>\n",
       "      <td>0</td>\n",
       "      <td>0</td>\n",
       "      <td>2</td>\n",
       "      <td>0</td>\n",
       "      <td>0.00</td>\n",
       "      <td>0.00</td>\n",
       "      <td>0</td>\n",
       "      <td>0</td>\n",
       "      <td>0</td>\n",
       "      <td>0</td>\n",
       "      <td>2021</td>\n",
       "    </tr>\n",
       "    <tr>\n",
       "      <th>971</th>\n",
       "      <td>148</td>\n",
       "      <td>Piyush Chawla</td>\n",
       "      <td>1</td>\n",
       "      <td>1</td>\n",
       "      <td>0</td>\n",
       "      <td>0</td>\n",
       "      <td>2</td>\n",
       "      <td>0</td>\n",
       "      <td>0.00</td>\n",
       "      <td>0.00</td>\n",
       "      <td>0</td>\n",
       "      <td>0</td>\n",
       "      <td>0</td>\n",
       "      <td>0</td>\n",
       "      <td>2021</td>\n",
       "    </tr>\n",
       "  </tbody>\n",
       "</table>\n",
       "<p>972 rows × 15 columns</p>\n",
       "</div>"
      ],
      "text/plain": [
       "     index           names  matches  innings  notouts  runs  balls  \\\n",
       "0        0    David Warner       14       14        1   562    359   \n",
       "1        1   Lendl Simmons       13       13        1   540    441   \n",
       "2        2  Ajinkya Rahane       14       13        2   540    413   \n",
       "3        3  AB de Villiers       16       14        3   513    293   \n",
       "4        4     Virat Kohli       16       16        5   505    386   \n",
       "..     ...             ...      ...      ...      ...   ...    ...   \n",
       "967    144    Kuldip Yadav        1        1        1     0      4   \n",
       "968    145   Sarfaraz Khan        2        2        0     0      4   \n",
       "969    146      Anuj Rawat        2        1        0     0      1   \n",
       "970    147   Jimmy Neesham        3        2        0     0      2   \n",
       "971    148   Piyush Chawla        1        1        0     0      2   \n",
       "\n",
       "     high_score    avg  strike_rate  fours  sixes  fiftys  hundreds  season  \n",
       "0            91  43.23       156.54     65     21       0         7    2015  \n",
       "1            71  45.00       122.44     56     21       0         6    2015  \n",
       "2            91  49.09       130.75     53     13       0         4    2015  \n",
       "3           133  46.63       175.08     60     22       1         2    2015  \n",
       "4            82  45.90       130.82     35     23       0         3    2015  \n",
       "..          ...    ...          ...    ...    ...     ...       ...     ...  \n",
       "967           0   0.00         0.00      0      0       0         0    2021  \n",
       "968           0   0.00         0.00      0      0       0         0    2021  \n",
       "969           0   0.00         0.00      0      0       0         0    2021  \n",
       "970           0   0.00         0.00      0      0       0         0    2021  \n",
       "971           0   0.00         0.00      0      0       0         0    2021  \n",
       "\n",
       "[972 rows x 15 columns]"
      ]
     },
     "execution_count": 15,
     "metadata": {},
     "output_type": "execute_result"
    }
   ],
   "source": [
    "df"
   ]
  },
  {
   "cell_type": "code",
   "execution_count": 16,
   "id": "db46c071",
   "metadata": {},
   "outputs": [
    {
     "name": "stdout",
     "output_type": "stream",
     "text": [
      "<class 'pandas.core.frame.DataFrame'>\n",
      "RangeIndex: 972 entries, 0 to 971\n",
      "Data columns (total 15 columns):\n",
      " #   Column       Non-Null Count  Dtype  \n",
      "---  ------       --------------  -----  \n",
      " 0   index        972 non-null    int64  \n",
      " 1   names        972 non-null    object \n",
      " 2   matches      972 non-null    int64  \n",
      " 3   innings      972 non-null    int64  \n",
      " 4   notouts      972 non-null    int64  \n",
      " 5   runs         972 non-null    int64  \n",
      " 6   balls        972 non-null    int64  \n",
      " 7   high_score   972 non-null    int64  \n",
      " 8   avg          972 non-null    float64\n",
      " 9   strike_rate  972 non-null    float64\n",
      " 10  fours        972 non-null    int64  \n",
      " 11  sixes        972 non-null    int64  \n",
      " 12  fiftys       972 non-null    int64  \n",
      " 13  hundreds     972 non-null    int64  \n",
      " 14  season       972 non-null    int64  \n",
      "dtypes: float64(2), int64(12), object(1)\n",
      "memory usage: 114.0+ KB\n"
     ]
    }
   ],
   "source": [
    "df.info()"
   ]
  },
  {
   "cell_type": "markdown",
   "id": "a77e1777",
   "metadata": {},
   "source": [
    "# Matches\n"
   ]
  },
  {
   "cell_type": "code",
   "execution_count": 17,
   "id": "52f8b456",
   "metadata": {},
   "outputs": [
    {
     "data": {
      "text/plain": [
       "14    129\n",
       "1      65\n",
       "3      64\n",
       "4      63\n",
       "16     60\n",
       "12     59\n",
       "13     57\n",
       "5      57\n",
       "7      55\n",
       "2      51\n",
       "15     50\n",
       "11     49\n",
       "6      49\n",
       "10     47\n",
       "8      43\n",
       "9      42\n",
       "17     32\n",
       "Name: matches, dtype: int64"
      ]
     },
     "execution_count": 17,
     "metadata": {},
     "output_type": "execute_result"
    }
   ],
   "source": [
    "df.matches.value_counts()"
   ]
  },
  {
   "cell_type": "code",
   "execution_count": 18,
   "id": "d435103e",
   "metadata": {},
   "outputs": [
    {
     "data": {
      "text/plain": [
       "0"
      ]
     },
     "execution_count": 18,
     "metadata": {},
     "output_type": "execute_result"
    }
   ],
   "source": [
    "df['matches'].isnull().sum()"
   ]
  },
  {
   "cell_type": "code",
   "execution_count": 19,
   "id": "426c4c88",
   "metadata": {},
   "outputs": [
    {
     "data": {
      "text/plain": [
       "0      14\n",
       "1      13\n",
       "2      14\n",
       "3      16\n",
       "4      16\n",
       "       ..\n",
       "967     1\n",
       "968     2\n",
       "969     2\n",
       "970     3\n",
       "971     1\n",
       "Name: matches, Length: 972, dtype: int64"
      ]
     },
     "execution_count": 19,
     "metadata": {},
     "output_type": "execute_result"
    }
   ],
   "source": [
    "df['matches']"
   ]
  },
  {
   "cell_type": "code",
   "execution_count": 20,
   "id": "b723cc06",
   "metadata": {},
   "outputs": [
    {
     "data": {
      "text/plain": [
       "0        David Warner\n",
       "1       Lendl Simmons\n",
       "2      Ajinkya Rahane\n",
       "3      AB de Villiers\n",
       "4         Virat Kohli\n",
       "            ...      \n",
       "967      Kuldip Yadav\n",
       "968     Sarfaraz Khan\n",
       "969        Anuj Rawat\n",
       "970     Jimmy Neesham\n",
       "971     Piyush Chawla\n",
       "Name: names, Length: 972, dtype: object"
      ]
     },
     "execution_count": 20,
     "metadata": {},
     "output_type": "execute_result"
    }
   ],
   "source": [
    "df['names'] = df['names'].apply(lambda x: x.replace('\\n','').strip().replace('                           ',''))\n",
    "df['names']"
   ]
  },
  {
   "cell_type": "code",
   "execution_count": 21,
   "id": "756795f6",
   "metadata": {},
   "outputs": [
    {
     "data": {
      "text/plain": [
       "Kane Williamson     7\n",
       "Shikhar Dhawan      7\n",
       "Ravindra Jadeja     7\n",
       "Deepak Hooda        7\n",
       "Suryakumar Yadav    7\n",
       "                   ..\n",
       "Mark Wood           1\n",
       "Akila Dananjaya     1\n",
       "Billy Stanlake      1\n",
       "Javon Searles       1\n",
       "Anuj Rawat          1\n",
       "Name: names, Length: 311, dtype: int64"
      ]
     },
     "execution_count": 21,
     "metadata": {},
     "output_type": "execute_result"
    }
   ],
   "source": [
    "df['names'].value_counts()"
   ]
  },
  {
   "cell_type": "code",
   "execution_count": 22,
   "id": "09e827d8",
   "metadata": {},
   "outputs": [
    {
     "data": {
      "text/plain": [
       "0"
      ]
     },
     "execution_count": 22,
     "metadata": {},
     "output_type": "execute_result"
    }
   ],
   "source": [
    "df['names'].isnull().sum()"
   ]
  },
  {
   "cell_type": "code",
   "execution_count": 23,
   "id": "d34dc228",
   "metadata": {},
   "outputs": [
    {
     "data": {
      "text/plain": [
       "0        David Warner\n",
       "1       Lendl Simmons\n",
       "2      Ajinkya Rahane\n",
       "3      AB de Villiers\n",
       "4         Virat Kohli\n",
       "            ...      \n",
       "967      Kuldip Yadav\n",
       "968     Sarfaraz Khan\n",
       "969        Anuj Rawat\n",
       "970     Jimmy Neesham\n",
       "971     Piyush Chawla\n",
       "Name: names, Length: 972, dtype: object"
      ]
     },
     "execution_count": 23,
     "metadata": {},
     "output_type": "execute_result"
    }
   ],
   "source": [
    "df['names']"
   ]
  },
  {
   "cell_type": "markdown",
   "id": "797289a2",
   "metadata": {},
   "source": [
    "# Innings"
   ]
  },
  {
   "cell_type": "code",
   "execution_count": 24,
   "id": "e58f2bd7",
   "metadata": {},
   "outputs": [
    {
     "data": {
      "text/plain": [
       "0      14\n",
       "1      13\n",
       "2      13\n",
       "3      14\n",
       "4      16\n",
       "       ..\n",
       "967     1\n",
       "968     2\n",
       "969     1\n",
       "970     2\n",
       "971     1\n",
       "Name: innings, Length: 972, dtype: int64"
      ]
     },
     "execution_count": 24,
     "metadata": {},
     "output_type": "execute_result"
    }
   ],
   "source": [
    "df['innings']"
   ]
  },
  {
   "cell_type": "code",
   "execution_count": 25,
   "id": "0a229f5b",
   "metadata": {},
   "outputs": [
    {
     "data": {
      "text/plain": [
       "1     158\n",
       "2     118\n",
       "3     104\n",
       "4      76\n",
       "5      56\n",
       "13     51\n",
       "7      51\n",
       "14     50\n",
       "6      48\n",
       "11     45\n",
       "12     40\n",
       "10     36\n",
       "8      35\n",
       "9      32\n",
       "16     32\n",
       "15     28\n",
       "17     12\n",
       "Name: innings, dtype: int64"
      ]
     },
     "execution_count": 25,
     "metadata": {},
     "output_type": "execute_result"
    }
   ],
   "source": [
    "df['innings'].value_counts()"
   ]
  },
  {
   "cell_type": "code",
   "execution_count": 26,
   "id": "403a7d0e",
   "metadata": {},
   "outputs": [
    {
     "data": {
      "text/plain": [
       "0"
      ]
     },
     "execution_count": 26,
     "metadata": {},
     "output_type": "execute_result"
    }
   ],
   "source": [
    "df['innings'].isnull().sum()"
   ]
  },
  {
   "cell_type": "markdown",
   "id": "9de6419b",
   "metadata": {},
   "source": [
    "# Notouts"
   ]
  },
  {
   "cell_type": "code",
   "execution_count": 27,
   "id": "42e50376",
   "metadata": {},
   "outputs": [
    {
     "data": {
      "text/plain": [
       "0      1\n",
       "1      1\n",
       "2      2\n",
       "3      3\n",
       "4      5\n",
       "      ..\n",
       "967    1\n",
       "968    0\n",
       "969    0\n",
       "970    0\n",
       "971    0\n",
       "Name: notouts, Length: 972, dtype: int64"
      ]
     },
     "execution_count": 27,
     "metadata": {},
     "output_type": "execute_result"
    }
   ],
   "source": [
    "df['notouts']"
   ]
  },
  {
   "cell_type": "code",
   "execution_count": 28,
   "id": "14acda69",
   "metadata": {},
   "outputs": [
    {
     "data": {
      "text/plain": [
       "0    293\n",
       "1    290\n",
       "2    165\n",
       "3    113\n",
       "4     58\n",
       "5     31\n",
       "6     14\n",
       "9      3\n",
       "7      3\n",
       "8      2\n",
       "Name: notouts, dtype: int64"
      ]
     },
     "execution_count": 28,
     "metadata": {},
     "output_type": "execute_result"
    }
   ],
   "source": [
    "df['notouts'].value_counts()"
   ]
  },
  {
   "cell_type": "code",
   "execution_count": 29,
   "id": "5454186d",
   "metadata": {},
   "outputs": [
    {
     "data": {
      "text/plain": [
       "0"
      ]
     },
     "execution_count": 29,
     "metadata": {},
     "output_type": "execute_result"
    }
   ],
   "source": [
    "df['notouts'].isnull().sum()"
   ]
  },
  {
   "cell_type": "markdown",
   "id": "45696604",
   "metadata": {},
   "source": [
    "# Runs"
   ]
  },
  {
   "cell_type": "code",
   "execution_count": 30,
   "id": "dec8e86c",
   "metadata": {},
   "outputs": [
    {
     "data": {
      "text/plain": [
       "0      562\n",
       "1      540\n",
       "2      540\n",
       "3      513\n",
       "4      505\n",
       "      ... \n",
       "967      0\n",
       "968      0\n",
       "969      0\n",
       "970      0\n",
       "971      0\n",
       "Name: runs, Length: 972, dtype: int64"
      ]
     },
     "execution_count": 30,
     "metadata": {},
     "output_type": "execute_result"
    }
   ],
   "source": [
    "df['runs']"
   ]
  },
  {
   "cell_type": "code",
   "execution_count": 31,
   "id": "80b45e1d",
   "metadata": {},
   "outputs": [
    {
     "data": {
      "text/plain": [
       "0      52\n",
       "1      44\n",
       "7      25\n",
       "2      24\n",
       "4      18\n",
       "       ..\n",
       "216     1\n",
       "158     1\n",
       "154     1\n",
       "138     1\n",
       "58      1\n",
       "Name: runs, Length: 361, dtype: int64"
      ]
     },
     "execution_count": 31,
     "metadata": {},
     "output_type": "execute_result"
    }
   ],
   "source": [
    "df['runs'].value_counts()"
   ]
  },
  {
   "cell_type": "code",
   "execution_count": 32,
   "id": "62e41777",
   "metadata": {},
   "outputs": [
    {
     "data": {
      "text/plain": [
       "0"
      ]
     },
     "execution_count": 32,
     "metadata": {},
     "output_type": "execute_result"
    }
   ],
   "source": [
    "df['runs'].isnull().sum()"
   ]
  },
  {
   "cell_type": "markdown",
   "id": "c2c9bc69",
   "metadata": {},
   "source": [
    "# Balls"
   ]
  },
  {
   "cell_type": "code",
   "execution_count": 33,
   "id": "5a8915e9",
   "metadata": {},
   "outputs": [
    {
     "data": {
      "text/plain": [
       "0      359\n",
       "1      441\n",
       "2      413\n",
       "3      293\n",
       "4      386\n",
       "      ... \n",
       "967      4\n",
       "968      4\n",
       "969      1\n",
       "970      2\n",
       "971      2\n",
       "Name: balls, Length: 972, dtype: int64"
      ]
     },
     "execution_count": 33,
     "metadata": {},
     "output_type": "execute_result"
    }
   ],
   "source": [
    "df['balls']"
   ]
  },
  {
   "cell_type": "code",
   "execution_count": 34,
   "id": "c5c5bf3b",
   "metadata": {},
   "outputs": [
    {
     "data": {
      "text/plain": [
       "2      34\n",
       "3      34\n",
       "4      33\n",
       "1      33\n",
       "6      22\n",
       "       ..\n",
       "416     1\n",
       "394     1\n",
       "516     1\n",
       "560     1\n",
       "42      1\n",
       "Name: balls, Length: 303, dtype: int64"
      ]
     },
     "execution_count": 34,
     "metadata": {},
     "output_type": "execute_result"
    }
   ],
   "source": [
    "df['balls'].value_counts()"
   ]
  },
  {
   "cell_type": "code",
   "execution_count": 35,
   "id": "f1fa5fb9",
   "metadata": {},
   "outputs": [
    {
     "data": {
      "text/plain": [
       "0"
      ]
     },
     "execution_count": 35,
     "metadata": {},
     "output_type": "execute_result"
    }
   ],
   "source": [
    "df['balls'].isnull().sum()"
   ]
  },
  {
   "cell_type": "markdown",
   "id": "9ff60972",
   "metadata": {},
   "source": [
    "# high_score"
   ]
  },
  {
   "cell_type": "code",
   "execution_count": 36,
   "id": "0bddc698",
   "metadata": {},
   "outputs": [
    {
     "data": {
      "text/plain": [
       "0       91\n",
       "1       71\n",
       "2       91\n",
       "3      133\n",
       "4       82\n",
       "      ... \n",
       "967      0\n",
       "968      0\n",
       "969      0\n",
       "970      0\n",
       "971      0\n",
       "Name: high_score, Length: 972, dtype: int32"
      ]
     },
     "execution_count": 36,
     "metadata": {},
     "output_type": "execute_result"
    }
   ],
   "source": [
    "df['high_score'].astype(int)"
   ]
  },
  {
   "cell_type": "code",
   "execution_count": 37,
   "id": "007d6bd1",
   "metadata": {},
   "outputs": [
    {
     "data": {
      "text/plain": [
       "0      52\n",
       "1      50\n",
       "7      35\n",
       "2      29\n",
       "5      27\n",
       "       ..\n",
       "128     1\n",
       "113     1\n",
       "103     1\n",
       "126     1\n",
       "124     1\n",
       "Name: high_score, Length: 119, dtype: int64"
      ]
     },
     "execution_count": 37,
     "metadata": {},
     "output_type": "execute_result"
    }
   ],
   "source": [
    "df['high_score'].value_counts()"
   ]
  },
  {
   "cell_type": "code",
   "execution_count": 38,
   "id": "3065ba11",
   "metadata": {},
   "outputs": [
    {
     "data": {
      "text/plain": [
       "0      52\n",
       "1      50\n",
       "7      35\n",
       "2      29\n",
       "5      27\n",
       "       ..\n",
       "128     1\n",
       "113     1\n",
       "103     1\n",
       "126     1\n",
       "124     1\n",
       "Name: high_score, Length: 119, dtype: int64"
      ]
     },
     "execution_count": 38,
     "metadata": {},
     "output_type": "execute_result"
    }
   ],
   "source": [
    "df['high_score'].value_counts()"
   ]
  },
  {
   "cell_type": "code",
   "execution_count": 39,
   "id": "8a754e28",
   "metadata": {},
   "outputs": [
    {
     "data": {
      "text/plain": [
       "133"
      ]
     },
     "execution_count": 39,
     "metadata": {},
     "output_type": "execute_result"
    }
   ],
   "source": [
    "df['high_score'].max()"
   ]
  },
  {
   "cell_type": "code",
   "execution_count": 40,
   "id": "e1d67e74",
   "metadata": {},
   "outputs": [
    {
     "data": {
      "text/html": [
       "<div>\n",
       "<style scoped>\n",
       "    .dataframe tbody tr th:only-of-type {\n",
       "        vertical-align: middle;\n",
       "    }\n",
       "\n",
       "    .dataframe tbody tr th {\n",
       "        vertical-align: top;\n",
       "    }\n",
       "\n",
       "    .dataframe thead th {\n",
       "        text-align: right;\n",
       "    }\n",
       "</style>\n",
       "<table border=\"1\" class=\"dataframe\">\n",
       "  <thead>\n",
       "    <tr style=\"text-align: right;\">\n",
       "      <th></th>\n",
       "      <th>index</th>\n",
       "      <th>names</th>\n",
       "      <th>matches</th>\n",
       "      <th>innings</th>\n",
       "      <th>notouts</th>\n",
       "      <th>runs</th>\n",
       "      <th>balls</th>\n",
       "      <th>high_score</th>\n",
       "      <th>avg</th>\n",
       "      <th>strike_rate</th>\n",
       "      <th>fours</th>\n",
       "      <th>sixes</th>\n",
       "      <th>fiftys</th>\n",
       "      <th>hundreds</th>\n",
       "      <th>season</th>\n",
       "    </tr>\n",
       "  </thead>\n",
       "  <tbody>\n",
       "    <tr>\n",
       "      <th>0</th>\n",
       "      <td>0</td>\n",
       "      <td>David Warner</td>\n",
       "      <td>14</td>\n",
       "      <td>14</td>\n",
       "      <td>1</td>\n",
       "      <td>562</td>\n",
       "      <td>359</td>\n",
       "      <td>91</td>\n",
       "      <td>43.23</td>\n",
       "      <td>156.54</td>\n",
       "      <td>65</td>\n",
       "      <td>21</td>\n",
       "      <td>0</td>\n",
       "      <td>7</td>\n",
       "      <td>2015</td>\n",
       "    </tr>\n",
       "    <tr>\n",
       "      <th>1</th>\n",
       "      <td>1</td>\n",
       "      <td>Lendl Simmons</td>\n",
       "      <td>13</td>\n",
       "      <td>13</td>\n",
       "      <td>1</td>\n",
       "      <td>540</td>\n",
       "      <td>441</td>\n",
       "      <td>71</td>\n",
       "      <td>45.00</td>\n",
       "      <td>122.44</td>\n",
       "      <td>56</td>\n",
       "      <td>21</td>\n",
       "      <td>0</td>\n",
       "      <td>6</td>\n",
       "      <td>2015</td>\n",
       "    </tr>\n",
       "    <tr>\n",
       "      <th>2</th>\n",
       "      <td>2</td>\n",
       "      <td>Ajinkya Rahane</td>\n",
       "      <td>14</td>\n",
       "      <td>13</td>\n",
       "      <td>2</td>\n",
       "      <td>540</td>\n",
       "      <td>413</td>\n",
       "      <td>91</td>\n",
       "      <td>49.09</td>\n",
       "      <td>130.75</td>\n",
       "      <td>53</td>\n",
       "      <td>13</td>\n",
       "      <td>0</td>\n",
       "      <td>4</td>\n",
       "      <td>2015</td>\n",
       "    </tr>\n",
       "    <tr>\n",
       "      <th>3</th>\n",
       "      <td>3</td>\n",
       "      <td>AB de Villiers</td>\n",
       "      <td>16</td>\n",
       "      <td>14</td>\n",
       "      <td>3</td>\n",
       "      <td>513</td>\n",
       "      <td>293</td>\n",
       "      <td>133</td>\n",
       "      <td>46.63</td>\n",
       "      <td>175.08</td>\n",
       "      <td>60</td>\n",
       "      <td>22</td>\n",
       "      <td>1</td>\n",
       "      <td>2</td>\n",
       "      <td>2015</td>\n",
       "    </tr>\n",
       "    <tr>\n",
       "      <th>4</th>\n",
       "      <td>4</td>\n",
       "      <td>Virat Kohli</td>\n",
       "      <td>16</td>\n",
       "      <td>16</td>\n",
       "      <td>5</td>\n",
       "      <td>505</td>\n",
       "      <td>386</td>\n",
       "      <td>82</td>\n",
       "      <td>45.90</td>\n",
       "      <td>130.82</td>\n",
       "      <td>35</td>\n",
       "      <td>23</td>\n",
       "      <td>0</td>\n",
       "      <td>3</td>\n",
       "      <td>2015</td>\n",
       "    </tr>\n",
       "    <tr>\n",
       "      <th>...</th>\n",
       "      <td>...</td>\n",
       "      <td>...</td>\n",
       "      <td>...</td>\n",
       "      <td>...</td>\n",
       "      <td>...</td>\n",
       "      <td>...</td>\n",
       "      <td>...</td>\n",
       "      <td>...</td>\n",
       "      <td>...</td>\n",
       "      <td>...</td>\n",
       "      <td>...</td>\n",
       "      <td>...</td>\n",
       "      <td>...</td>\n",
       "      <td>...</td>\n",
       "      <td>...</td>\n",
       "    </tr>\n",
       "    <tr>\n",
       "      <th>967</th>\n",
       "      <td>144</td>\n",
       "      <td>Kuldip Yadav</td>\n",
       "      <td>1</td>\n",
       "      <td>1</td>\n",
       "      <td>1</td>\n",
       "      <td>0</td>\n",
       "      <td>4</td>\n",
       "      <td>0</td>\n",
       "      <td>0.00</td>\n",
       "      <td>0.00</td>\n",
       "      <td>0</td>\n",
       "      <td>0</td>\n",
       "      <td>0</td>\n",
       "      <td>0</td>\n",
       "      <td>2021</td>\n",
       "    </tr>\n",
       "    <tr>\n",
       "      <th>968</th>\n",
       "      <td>145</td>\n",
       "      <td>Sarfaraz Khan</td>\n",
       "      <td>2</td>\n",
       "      <td>2</td>\n",
       "      <td>0</td>\n",
       "      <td>0</td>\n",
       "      <td>4</td>\n",
       "      <td>0</td>\n",
       "      <td>0.00</td>\n",
       "      <td>0.00</td>\n",
       "      <td>0</td>\n",
       "      <td>0</td>\n",
       "      <td>0</td>\n",
       "      <td>0</td>\n",
       "      <td>2021</td>\n",
       "    </tr>\n",
       "    <tr>\n",
       "      <th>969</th>\n",
       "      <td>146</td>\n",
       "      <td>Anuj Rawat</td>\n",
       "      <td>2</td>\n",
       "      <td>1</td>\n",
       "      <td>0</td>\n",
       "      <td>0</td>\n",
       "      <td>1</td>\n",
       "      <td>0</td>\n",
       "      <td>0.00</td>\n",
       "      <td>0.00</td>\n",
       "      <td>0</td>\n",
       "      <td>0</td>\n",
       "      <td>0</td>\n",
       "      <td>0</td>\n",
       "      <td>2021</td>\n",
       "    </tr>\n",
       "    <tr>\n",
       "      <th>970</th>\n",
       "      <td>147</td>\n",
       "      <td>Jimmy Neesham</td>\n",
       "      <td>3</td>\n",
       "      <td>2</td>\n",
       "      <td>0</td>\n",
       "      <td>0</td>\n",
       "      <td>2</td>\n",
       "      <td>0</td>\n",
       "      <td>0.00</td>\n",
       "      <td>0.00</td>\n",
       "      <td>0</td>\n",
       "      <td>0</td>\n",
       "      <td>0</td>\n",
       "      <td>0</td>\n",
       "      <td>2021</td>\n",
       "    </tr>\n",
       "    <tr>\n",
       "      <th>971</th>\n",
       "      <td>148</td>\n",
       "      <td>Piyush Chawla</td>\n",
       "      <td>1</td>\n",
       "      <td>1</td>\n",
       "      <td>0</td>\n",
       "      <td>0</td>\n",
       "      <td>2</td>\n",
       "      <td>0</td>\n",
       "      <td>0.00</td>\n",
       "      <td>0.00</td>\n",
       "      <td>0</td>\n",
       "      <td>0</td>\n",
       "      <td>0</td>\n",
       "      <td>0</td>\n",
       "      <td>2021</td>\n",
       "    </tr>\n",
       "  </tbody>\n",
       "</table>\n",
       "<p>972 rows × 15 columns</p>\n",
       "</div>"
      ],
      "text/plain": [
       "     index           names  matches  innings  notouts  runs  balls  \\\n",
       "0        0    David Warner       14       14        1   562    359   \n",
       "1        1   Lendl Simmons       13       13        1   540    441   \n",
       "2        2  Ajinkya Rahane       14       13        2   540    413   \n",
       "3        3  AB de Villiers       16       14        3   513    293   \n",
       "4        4     Virat Kohli       16       16        5   505    386   \n",
       "..     ...             ...      ...      ...      ...   ...    ...   \n",
       "967    144    Kuldip Yadav        1        1        1     0      4   \n",
       "968    145   Sarfaraz Khan        2        2        0     0      4   \n",
       "969    146      Anuj Rawat        2        1        0     0      1   \n",
       "970    147   Jimmy Neesham        3        2        0     0      2   \n",
       "971    148   Piyush Chawla        1        1        0     0      2   \n",
       "\n",
       "     high_score    avg  strike_rate  fours  sixes  fiftys  hundreds  season  \n",
       "0            91  43.23       156.54     65     21       0         7    2015  \n",
       "1            71  45.00       122.44     56     21       0         6    2015  \n",
       "2            91  49.09       130.75     53     13       0         4    2015  \n",
       "3           133  46.63       175.08     60     22       1         2    2015  \n",
       "4            82  45.90       130.82     35     23       0         3    2015  \n",
       "..          ...    ...          ...    ...    ...     ...       ...     ...  \n",
       "967           0   0.00         0.00      0      0       0         0    2021  \n",
       "968           0   0.00         0.00      0      0       0         0    2021  \n",
       "969           0   0.00         0.00      0      0       0         0    2021  \n",
       "970           0   0.00         0.00      0      0       0         0    2021  \n",
       "971           0   0.00         0.00      0      0       0         0    2021  \n",
       "\n",
       "[972 rows x 15 columns]"
      ]
     },
     "execution_count": 40,
     "metadata": {},
     "output_type": "execute_result"
    }
   ],
   "source": [
    "df"
   ]
  },
  {
   "cell_type": "markdown",
   "id": "e6e9c3e2",
   "metadata": {},
   "source": [
    "# avg"
   ]
  },
  {
   "cell_type": "code",
   "execution_count": 41,
   "id": "4835d679",
   "metadata": {},
   "outputs": [
    {
     "data": {
      "text/plain": [
       "0      43.23\n",
       "1      45.00\n",
       "2      49.09\n",
       "3      46.63\n",
       "4      45.90\n",
       "       ...  \n",
       "967     0.00\n",
       "968     0.00\n",
       "969     0.00\n",
       "970     0.00\n",
       "971     0.00\n",
       "Name: avg, Length: 972, dtype: float64"
      ]
     },
     "execution_count": 41,
     "metadata": {},
     "output_type": "execute_result"
    }
   ],
   "source": [
    "df['avg']"
   ]
  },
  {
   "cell_type": "code",
   "execution_count": 42,
   "id": "8866ec9b",
   "metadata": {},
   "outputs": [
    {
     "data": {
      "text/plain": [
       "0"
      ]
     },
     "execution_count": 42,
     "metadata": {},
     "output_type": "execute_result"
    }
   ],
   "source": [
    "df['avg'].isnull().sum()"
   ]
  },
  {
   "cell_type": "code",
   "execution_count": 43,
   "id": "5b1218d8",
   "metadata": {},
   "outputs": [
    {
     "data": {
      "text/plain": [
       "0.00     142\n",
       "1.00      27\n",
       "7.00      22\n",
       "6.00      19\n",
       "8.00      18\n",
       "        ... \n",
       "35.71      1\n",
       "42.66      1\n",
       "27.20      1\n",
       "27.70      1\n",
       "2.33       1\n",
       "Name: avg, Length: 490, dtype: int64"
      ]
     },
     "execution_count": 43,
     "metadata": {},
     "output_type": "execute_result"
    }
   ],
   "source": [
    "df['avg'].value_counts()"
   ]
  },
  {
   "cell_type": "code",
   "execution_count": 44,
   "id": "33e7b949",
   "metadata": {},
   "outputs": [],
   "source": [
    "df['avg'].replace('-',0,inplace=True)"
   ]
  },
  {
   "cell_type": "code",
   "execution_count": 45,
   "id": "c53310ff",
   "metadata": {},
   "outputs": [
    {
     "data": {
      "text/plain": [
       "0.00     142\n",
       "1.00      27\n",
       "7.00      22\n",
       "6.00      19\n",
       "8.00      18\n",
       "        ... \n",
       "35.71      1\n",
       "42.66      1\n",
       "27.20      1\n",
       "27.70      1\n",
       "2.33       1\n",
       "Name: avg, Length: 490, dtype: int64"
      ]
     },
     "execution_count": 45,
     "metadata": {},
     "output_type": "execute_result"
    }
   ],
   "source": [
    "df['avg'].value_counts()"
   ]
  },
  {
   "cell_type": "code",
   "execution_count": 46,
   "id": "600d6302",
   "metadata": {},
   "outputs": [],
   "source": [
    "df['avg'].replace('-',0,inplace=True)"
   ]
  },
  {
   "cell_type": "code",
   "execution_count": 47,
   "id": "8066c304",
   "metadata": {},
   "outputs": [
    {
     "data": {
      "text/plain": [
       "0.00     142\n",
       "1.00      27\n",
       "7.00      22\n",
       "6.00      19\n",
       "8.00      18\n",
       "        ... \n",
       "35.71      1\n",
       "42.66      1\n",
       "27.20      1\n",
       "27.70      1\n",
       "2.33       1\n",
       "Name: avg, Length: 490, dtype: int64"
      ]
     },
     "execution_count": 47,
     "metadata": {},
     "output_type": "execute_result"
    }
   ],
   "source": [
    "df['avg'].value_counts()"
   ]
  },
  {
   "cell_type": "code",
   "execution_count": 48,
   "id": "70167749",
   "metadata": {},
   "outputs": [
    {
     "data": {
      "text/plain": [
       "0      43.23\n",
       "1      45.00\n",
       "2      49.09\n",
       "3      46.63\n",
       "4      45.90\n",
       "       ...  \n",
       "967     0.00\n",
       "968     0.00\n",
       "969     0.00\n",
       "970     0.00\n",
       "971     0.00\n",
       "Name: avg, Length: 972, dtype: float64"
      ]
     },
     "execution_count": 48,
     "metadata": {},
     "output_type": "execute_result"
    }
   ],
   "source": [
    "df['avg']=df['avg'].astype(float)\n",
    "df['avg']"
   ]
  },
  {
   "cell_type": "code",
   "execution_count": 49,
   "id": "4457b82c",
   "metadata": {},
   "outputs": [
    {
     "data": {
      "text/html": [
       "<div>\n",
       "<style scoped>\n",
       "    .dataframe tbody tr th:only-of-type {\n",
       "        vertical-align: middle;\n",
       "    }\n",
       "\n",
       "    .dataframe tbody tr th {\n",
       "        vertical-align: top;\n",
       "    }\n",
       "\n",
       "    .dataframe thead th {\n",
       "        text-align: right;\n",
       "    }\n",
       "</style>\n",
       "<table border=\"1\" class=\"dataframe\">\n",
       "  <thead>\n",
       "    <tr style=\"text-align: right;\">\n",
       "      <th></th>\n",
       "      <th>index</th>\n",
       "      <th>names</th>\n",
       "      <th>matches</th>\n",
       "      <th>innings</th>\n",
       "      <th>notouts</th>\n",
       "      <th>runs</th>\n",
       "      <th>balls</th>\n",
       "      <th>high_score</th>\n",
       "      <th>avg</th>\n",
       "      <th>strike_rate</th>\n",
       "      <th>fours</th>\n",
       "      <th>sixes</th>\n",
       "      <th>fiftys</th>\n",
       "      <th>hundreds</th>\n",
       "      <th>season</th>\n",
       "    </tr>\n",
       "  </thead>\n",
       "  <tbody>\n",
       "    <tr>\n",
       "      <th>0</th>\n",
       "      <td>0</td>\n",
       "      <td>David Warner</td>\n",
       "      <td>14</td>\n",
       "      <td>14</td>\n",
       "      <td>1</td>\n",
       "      <td>562</td>\n",
       "      <td>359</td>\n",
       "      <td>91</td>\n",
       "      <td>43.23</td>\n",
       "      <td>156.54</td>\n",
       "      <td>65</td>\n",
       "      <td>21</td>\n",
       "      <td>0</td>\n",
       "      <td>7</td>\n",
       "      <td>2015</td>\n",
       "    </tr>\n",
       "    <tr>\n",
       "      <th>1</th>\n",
       "      <td>1</td>\n",
       "      <td>Lendl Simmons</td>\n",
       "      <td>13</td>\n",
       "      <td>13</td>\n",
       "      <td>1</td>\n",
       "      <td>540</td>\n",
       "      <td>441</td>\n",
       "      <td>71</td>\n",
       "      <td>45.00</td>\n",
       "      <td>122.44</td>\n",
       "      <td>56</td>\n",
       "      <td>21</td>\n",
       "      <td>0</td>\n",
       "      <td>6</td>\n",
       "      <td>2015</td>\n",
       "    </tr>\n",
       "    <tr>\n",
       "      <th>2</th>\n",
       "      <td>2</td>\n",
       "      <td>Ajinkya Rahane</td>\n",
       "      <td>14</td>\n",
       "      <td>13</td>\n",
       "      <td>2</td>\n",
       "      <td>540</td>\n",
       "      <td>413</td>\n",
       "      <td>91</td>\n",
       "      <td>49.09</td>\n",
       "      <td>130.75</td>\n",
       "      <td>53</td>\n",
       "      <td>13</td>\n",
       "      <td>0</td>\n",
       "      <td>4</td>\n",
       "      <td>2015</td>\n",
       "    </tr>\n",
       "    <tr>\n",
       "      <th>3</th>\n",
       "      <td>3</td>\n",
       "      <td>AB de Villiers</td>\n",
       "      <td>16</td>\n",
       "      <td>14</td>\n",
       "      <td>3</td>\n",
       "      <td>513</td>\n",
       "      <td>293</td>\n",
       "      <td>133</td>\n",
       "      <td>46.63</td>\n",
       "      <td>175.08</td>\n",
       "      <td>60</td>\n",
       "      <td>22</td>\n",
       "      <td>1</td>\n",
       "      <td>2</td>\n",
       "      <td>2015</td>\n",
       "    </tr>\n",
       "    <tr>\n",
       "      <th>4</th>\n",
       "      <td>4</td>\n",
       "      <td>Virat Kohli</td>\n",
       "      <td>16</td>\n",
       "      <td>16</td>\n",
       "      <td>5</td>\n",
       "      <td>505</td>\n",
       "      <td>386</td>\n",
       "      <td>82</td>\n",
       "      <td>45.90</td>\n",
       "      <td>130.82</td>\n",
       "      <td>35</td>\n",
       "      <td>23</td>\n",
       "      <td>0</td>\n",
       "      <td>3</td>\n",
       "      <td>2015</td>\n",
       "    </tr>\n",
       "    <tr>\n",
       "      <th>...</th>\n",
       "      <td>...</td>\n",
       "      <td>...</td>\n",
       "      <td>...</td>\n",
       "      <td>...</td>\n",
       "      <td>...</td>\n",
       "      <td>...</td>\n",
       "      <td>...</td>\n",
       "      <td>...</td>\n",
       "      <td>...</td>\n",
       "      <td>...</td>\n",
       "      <td>...</td>\n",
       "      <td>...</td>\n",
       "      <td>...</td>\n",
       "      <td>...</td>\n",
       "      <td>...</td>\n",
       "    </tr>\n",
       "    <tr>\n",
       "      <th>967</th>\n",
       "      <td>144</td>\n",
       "      <td>Kuldip Yadav</td>\n",
       "      <td>1</td>\n",
       "      <td>1</td>\n",
       "      <td>1</td>\n",
       "      <td>0</td>\n",
       "      <td>4</td>\n",
       "      <td>0</td>\n",
       "      <td>0.00</td>\n",
       "      <td>0.00</td>\n",
       "      <td>0</td>\n",
       "      <td>0</td>\n",
       "      <td>0</td>\n",
       "      <td>0</td>\n",
       "      <td>2021</td>\n",
       "    </tr>\n",
       "    <tr>\n",
       "      <th>968</th>\n",
       "      <td>145</td>\n",
       "      <td>Sarfaraz Khan</td>\n",
       "      <td>2</td>\n",
       "      <td>2</td>\n",
       "      <td>0</td>\n",
       "      <td>0</td>\n",
       "      <td>4</td>\n",
       "      <td>0</td>\n",
       "      <td>0.00</td>\n",
       "      <td>0.00</td>\n",
       "      <td>0</td>\n",
       "      <td>0</td>\n",
       "      <td>0</td>\n",
       "      <td>0</td>\n",
       "      <td>2021</td>\n",
       "    </tr>\n",
       "    <tr>\n",
       "      <th>969</th>\n",
       "      <td>146</td>\n",
       "      <td>Anuj Rawat</td>\n",
       "      <td>2</td>\n",
       "      <td>1</td>\n",
       "      <td>0</td>\n",
       "      <td>0</td>\n",
       "      <td>1</td>\n",
       "      <td>0</td>\n",
       "      <td>0.00</td>\n",
       "      <td>0.00</td>\n",
       "      <td>0</td>\n",
       "      <td>0</td>\n",
       "      <td>0</td>\n",
       "      <td>0</td>\n",
       "      <td>2021</td>\n",
       "    </tr>\n",
       "    <tr>\n",
       "      <th>970</th>\n",
       "      <td>147</td>\n",
       "      <td>Jimmy Neesham</td>\n",
       "      <td>3</td>\n",
       "      <td>2</td>\n",
       "      <td>0</td>\n",
       "      <td>0</td>\n",
       "      <td>2</td>\n",
       "      <td>0</td>\n",
       "      <td>0.00</td>\n",
       "      <td>0.00</td>\n",
       "      <td>0</td>\n",
       "      <td>0</td>\n",
       "      <td>0</td>\n",
       "      <td>0</td>\n",
       "      <td>2021</td>\n",
       "    </tr>\n",
       "    <tr>\n",
       "      <th>971</th>\n",
       "      <td>148</td>\n",
       "      <td>Piyush Chawla</td>\n",
       "      <td>1</td>\n",
       "      <td>1</td>\n",
       "      <td>0</td>\n",
       "      <td>0</td>\n",
       "      <td>2</td>\n",
       "      <td>0</td>\n",
       "      <td>0.00</td>\n",
       "      <td>0.00</td>\n",
       "      <td>0</td>\n",
       "      <td>0</td>\n",
       "      <td>0</td>\n",
       "      <td>0</td>\n",
       "      <td>2021</td>\n",
       "    </tr>\n",
       "  </tbody>\n",
       "</table>\n",
       "<p>972 rows × 15 columns</p>\n",
       "</div>"
      ],
      "text/plain": [
       "     index           names  matches  innings  notouts  runs  balls  \\\n",
       "0        0    David Warner       14       14        1   562    359   \n",
       "1        1   Lendl Simmons       13       13        1   540    441   \n",
       "2        2  Ajinkya Rahane       14       13        2   540    413   \n",
       "3        3  AB de Villiers       16       14        3   513    293   \n",
       "4        4     Virat Kohli       16       16        5   505    386   \n",
       "..     ...             ...      ...      ...      ...   ...    ...   \n",
       "967    144    Kuldip Yadav        1        1        1     0      4   \n",
       "968    145   Sarfaraz Khan        2        2        0     0      4   \n",
       "969    146      Anuj Rawat        2        1        0     0      1   \n",
       "970    147   Jimmy Neesham        3        2        0     0      2   \n",
       "971    148   Piyush Chawla        1        1        0     0      2   \n",
       "\n",
       "     high_score    avg  strike_rate  fours  sixes  fiftys  hundreds  season  \n",
       "0            91  43.23       156.54     65     21       0         7    2015  \n",
       "1            71  45.00       122.44     56     21       0         6    2015  \n",
       "2            91  49.09       130.75     53     13       0         4    2015  \n",
       "3           133  46.63       175.08     60     22       1         2    2015  \n",
       "4            82  45.90       130.82     35     23       0         3    2015  \n",
       "..          ...    ...          ...    ...    ...     ...       ...     ...  \n",
       "967           0   0.00         0.00      0      0       0         0    2021  \n",
       "968           0   0.00         0.00      0      0       0         0    2021  \n",
       "969           0   0.00         0.00      0      0       0         0    2021  \n",
       "970           0   0.00         0.00      0      0       0         0    2021  \n",
       "971           0   0.00         0.00      0      0       0         0    2021  \n",
       "\n",
       "[972 rows x 15 columns]"
      ]
     },
     "execution_count": 49,
     "metadata": {},
     "output_type": "execute_result"
    }
   ],
   "source": [
    "df"
   ]
  },
  {
   "cell_type": "markdown",
   "id": "e7850e3e",
   "metadata": {},
   "source": [
    "# strikerate"
   ]
  },
  {
   "cell_type": "code",
   "execution_count": 50,
   "id": "930bc8df",
   "metadata": {},
   "outputs": [
    {
     "data": {
      "text/plain": [
       "0      156.54\n",
       "1      122.44\n",
       "2      130.75\n",
       "3      175.08\n",
       "4      130.82\n",
       "        ...  \n",
       "967      0.00\n",
       "968      0.00\n",
       "969      0.00\n",
       "970      0.00\n",
       "971      0.00\n",
       "Name: strike_rate, Length: 972, dtype: float64"
      ]
     },
     "execution_count": 50,
     "metadata": {},
     "output_type": "execute_result"
    }
   ],
   "source": [
    "df['strike_rate']"
   ]
  },
  {
   "cell_type": "code",
   "execution_count": 51,
   "id": "d0aa7310",
   "metadata": {},
   "outputs": [
    {
     "data": {
      "text/plain": [
       "0.00      52\n",
       "100.00    41\n",
       "50.00     28\n",
       "33.33     12\n",
       "116.66    10\n",
       "          ..\n",
       "137.28     1\n",
       "126.13     1\n",
       "139.09     1\n",
       "139.38     1\n",
       "41.17      1\n",
       "Name: strike_rate, Length: 641, dtype: int64"
      ]
     },
     "execution_count": 51,
     "metadata": {},
     "output_type": "execute_result"
    }
   ],
   "source": [
    "df['strike_rate'].value_counts()"
   ]
  },
  {
   "cell_type": "code",
   "execution_count": 52,
   "id": "d3dac7bc",
   "metadata": {},
   "outputs": [
    {
     "data": {
      "text/plain": [
       "0"
      ]
     },
     "execution_count": 52,
     "metadata": {},
     "output_type": "execute_result"
    }
   ],
   "source": [
    "df['strike_rate'].isnull().sum()"
   ]
  },
  {
   "cell_type": "markdown",
   "id": "f0ada4c3",
   "metadata": {},
   "source": [
    "# fours"
   ]
  },
  {
   "cell_type": "code",
   "execution_count": 53,
   "id": "a5051b5f",
   "metadata": {},
   "outputs": [
    {
     "data": {
      "text/plain": [
       "0      65\n",
       "1      56\n",
       "2      53\n",
       "3      60\n",
       "4      35\n",
       "       ..\n",
       "967     0\n",
       "968     0\n",
       "969     0\n",
       "970     0\n",
       "971     0\n",
       "Name: fours, Length: 972, dtype: int64"
      ]
     },
     "execution_count": 53,
     "metadata": {},
     "output_type": "execute_result"
    }
   ],
   "source": [
    "df['fours']"
   ]
  },
  {
   "cell_type": "code",
   "execution_count": 54,
   "id": "59b5f3a7",
   "metadata": {},
   "outputs": [
    {
     "data": {
      "text/plain": [
       "0     243\n",
       "1     108\n",
       "2      73\n",
       "3      46\n",
       "4      37\n",
       "     ... \n",
       "68      1\n",
       "88      1\n",
       "83      1\n",
       "47      1\n",
       "67      1\n",
       "Name: fours, Length: 69, dtype: int64"
      ]
     },
     "execution_count": 54,
     "metadata": {},
     "output_type": "execute_result"
    }
   ],
   "source": [
    "df['fours'].value_counts()"
   ]
  },
  {
   "cell_type": "code",
   "execution_count": 55,
   "id": "c9267550",
   "metadata": {},
   "outputs": [
    {
     "data": {
      "text/plain": [
       "0"
      ]
     },
     "execution_count": 55,
     "metadata": {},
     "output_type": "execute_result"
    }
   ],
   "source": [
    "df['fours'].isnull().sum()"
   ]
  },
  {
   "cell_type": "markdown",
   "id": "10172502",
   "metadata": {},
   "source": [
    "# sixes"
   ]
  },
  {
   "cell_type": "code",
   "execution_count": 56,
   "id": "514038b2",
   "metadata": {},
   "outputs": [
    {
     "data": {
      "text/plain": [
       "0      21\n",
       "1      21\n",
       "2      13\n",
       "3      22\n",
       "4      23\n",
       "       ..\n",
       "967     0\n",
       "968     0\n",
       "969     0\n",
       "970     0\n",
       "971     0\n",
       "Name: sixes, Length: 972, dtype: int64"
      ]
     },
     "execution_count": 56,
     "metadata": {},
     "output_type": "execute_result"
    }
   ],
   "source": [
    "df['sixes']"
   ]
  },
  {
   "cell_type": "code",
   "execution_count": 57,
   "id": "2964e694",
   "metadata": {},
   "outputs": [
    {
     "data": {
      "text/plain": [
       "0     338\n",
       "1     126\n",
       "2      57\n",
       "4      47\n",
       "3      45\n",
       "5      44\n",
       "8      34\n",
       "6      33\n",
       "10     28\n",
       "9      24\n",
       "7      22\n",
       "11     18\n",
       "16     18\n",
       "14     16\n",
       "12     16\n",
       "13     14\n",
       "21     13\n",
       "17     10\n",
       "23      9\n",
       "19      7\n",
       "18      7\n",
       "15      6\n",
       "22      6\n",
       "25      4\n",
       "30      4\n",
       "26      4\n",
       "24      3\n",
       "20      3\n",
       "37      2\n",
       "31      2\n",
       "38      2\n",
       "34      2\n",
       "28      2\n",
       "27      2\n",
       "32      1\n",
       "35      1\n",
       "52      1\n",
       "29      1\n",
       "Name: sixes, dtype: int64"
      ]
     },
     "execution_count": 57,
     "metadata": {},
     "output_type": "execute_result"
    }
   ],
   "source": [
    "df['sixes'].value_counts()"
   ]
  },
  {
   "cell_type": "code",
   "execution_count": 58,
   "id": "4844698f",
   "metadata": {},
   "outputs": [
    {
     "data": {
      "text/plain": [
       "0"
      ]
     },
     "execution_count": 58,
     "metadata": {},
     "output_type": "execute_result"
    }
   ],
   "source": [
    "df['sixes'].isnull().sum()"
   ]
  },
  {
   "cell_type": "markdown",
   "id": "bd7440c3",
   "metadata": {},
   "source": [
    "# fifty"
   ]
  },
  {
   "cell_type": "code",
   "execution_count": 59,
   "id": "1b35744c",
   "metadata": {},
   "outputs": [
    {
     "data": {
      "text/plain": [
       "0      0\n",
       "1      0\n",
       "2      0\n",
       "3      1\n",
       "4      0\n",
       "      ..\n",
       "967    0\n",
       "968    0\n",
       "969    0\n",
       "970    0\n",
       "971    0\n",
       "Name: fiftys, Length: 972, dtype: int64"
      ]
     },
     "execution_count": 59,
     "metadata": {},
     "output_type": "execute_result"
    }
   ],
   "source": [
    "df['fiftys']"
   ]
  },
  {
   "cell_type": "code",
   "execution_count": 60,
   "id": "48de2136",
   "metadata": {},
   "outputs": [
    {
     "data": {
      "text/plain": [
       "0    942\n",
       "1     26\n",
       "2      3\n",
       "4      1\n",
       "Name: fiftys, dtype: int64"
      ]
     },
     "execution_count": 60,
     "metadata": {},
     "output_type": "execute_result"
    }
   ],
   "source": [
    "df['fiftys'].value_counts()"
   ]
  },
  {
   "cell_type": "code",
   "execution_count": 61,
   "id": "61aa7bf3",
   "metadata": {},
   "outputs": [
    {
     "data": {
      "text/plain": [
       "0"
      ]
     },
     "execution_count": 61,
     "metadata": {},
     "output_type": "execute_result"
    }
   ],
   "source": [
    "df['fiftys'].isnull().sum()"
   ]
  },
  {
   "cell_type": "markdown",
   "id": "35794414",
   "metadata": {},
   "source": [
    "# hundred"
   ]
  },
  {
   "cell_type": "code",
   "execution_count": 62,
   "id": "f00e8e93",
   "metadata": {},
   "outputs": [
    {
     "data": {
      "text/plain": [
       "0      7\n",
       "1      6\n",
       "2      4\n",
       "3      2\n",
       "4      3\n",
       "      ..\n",
       "967    0\n",
       "968    0\n",
       "969    0\n",
       "970    0\n",
       "971    0\n",
       "Name: hundreds, Length: 972, dtype: int64"
      ]
     },
     "execution_count": 62,
     "metadata": {},
     "output_type": "execute_result"
    }
   ],
   "source": [
    "df['hundreds']"
   ]
  },
  {
   "cell_type": "code",
   "execution_count": 63,
   "id": "2c840030",
   "metadata": {},
   "outputs": [
    {
     "data": {
      "text/plain": [
       "0    663\n",
       "1    128\n",
       "2     73\n",
       "3     55\n",
       "4     27\n",
       "5     12\n",
       "6      9\n",
       "7      2\n",
       "8      2\n",
       "9      1\n",
       "Name: hundreds, dtype: int64"
      ]
     },
     "execution_count": 63,
     "metadata": {},
     "output_type": "execute_result"
    }
   ],
   "source": [
    "df['hundreds'].value_counts()"
   ]
  },
  {
   "cell_type": "code",
   "execution_count": 64,
   "id": "b13e8eac",
   "metadata": {},
   "outputs": [
    {
     "data": {
      "text/plain": [
       "0"
      ]
     },
     "execution_count": 64,
     "metadata": {},
     "output_type": "execute_result"
    }
   ],
   "source": [
    "df['hundreds'].isnull().sum()"
   ]
  },
  {
   "cell_type": "code",
   "execution_count": 65,
   "id": "331d2bac",
   "metadata": {},
   "outputs": [
    {
     "data": {
      "text/html": [
       "<div>\n",
       "<style scoped>\n",
       "    .dataframe tbody tr th:only-of-type {\n",
       "        vertical-align: middle;\n",
       "    }\n",
       "\n",
       "    .dataframe tbody tr th {\n",
       "        vertical-align: top;\n",
       "    }\n",
       "\n",
       "    .dataframe thead th {\n",
       "        text-align: right;\n",
       "    }\n",
       "</style>\n",
       "<table border=\"1\" class=\"dataframe\">\n",
       "  <thead>\n",
       "    <tr style=\"text-align: right;\">\n",
       "      <th></th>\n",
       "      <th>index</th>\n",
       "      <th>names</th>\n",
       "      <th>matches</th>\n",
       "      <th>innings</th>\n",
       "      <th>notouts</th>\n",
       "      <th>runs</th>\n",
       "      <th>balls</th>\n",
       "      <th>high_score</th>\n",
       "      <th>avg</th>\n",
       "      <th>strike_rate</th>\n",
       "      <th>fours</th>\n",
       "      <th>sixes</th>\n",
       "      <th>fiftys</th>\n",
       "      <th>hundreds</th>\n",
       "      <th>season</th>\n",
       "    </tr>\n",
       "  </thead>\n",
       "  <tbody>\n",
       "    <tr>\n",
       "      <th>0</th>\n",
       "      <td>0</td>\n",
       "      <td>David Warner</td>\n",
       "      <td>14</td>\n",
       "      <td>14</td>\n",
       "      <td>1</td>\n",
       "      <td>562</td>\n",
       "      <td>359</td>\n",
       "      <td>91</td>\n",
       "      <td>43.23</td>\n",
       "      <td>156.54</td>\n",
       "      <td>65</td>\n",
       "      <td>21</td>\n",
       "      <td>0</td>\n",
       "      <td>7</td>\n",
       "      <td>2015</td>\n",
       "    </tr>\n",
       "    <tr>\n",
       "      <th>1</th>\n",
       "      <td>1</td>\n",
       "      <td>Lendl Simmons</td>\n",
       "      <td>13</td>\n",
       "      <td>13</td>\n",
       "      <td>1</td>\n",
       "      <td>540</td>\n",
       "      <td>441</td>\n",
       "      <td>71</td>\n",
       "      <td>45.00</td>\n",
       "      <td>122.44</td>\n",
       "      <td>56</td>\n",
       "      <td>21</td>\n",
       "      <td>0</td>\n",
       "      <td>6</td>\n",
       "      <td>2015</td>\n",
       "    </tr>\n",
       "    <tr>\n",
       "      <th>2</th>\n",
       "      <td>2</td>\n",
       "      <td>Ajinkya Rahane</td>\n",
       "      <td>14</td>\n",
       "      <td>13</td>\n",
       "      <td>2</td>\n",
       "      <td>540</td>\n",
       "      <td>413</td>\n",
       "      <td>91</td>\n",
       "      <td>49.09</td>\n",
       "      <td>130.75</td>\n",
       "      <td>53</td>\n",
       "      <td>13</td>\n",
       "      <td>0</td>\n",
       "      <td>4</td>\n",
       "      <td>2015</td>\n",
       "    </tr>\n",
       "    <tr>\n",
       "      <th>3</th>\n",
       "      <td>3</td>\n",
       "      <td>AB de Villiers</td>\n",
       "      <td>16</td>\n",
       "      <td>14</td>\n",
       "      <td>3</td>\n",
       "      <td>513</td>\n",
       "      <td>293</td>\n",
       "      <td>133</td>\n",
       "      <td>46.63</td>\n",
       "      <td>175.08</td>\n",
       "      <td>60</td>\n",
       "      <td>22</td>\n",
       "      <td>1</td>\n",
       "      <td>2</td>\n",
       "      <td>2015</td>\n",
       "    </tr>\n",
       "    <tr>\n",
       "      <th>4</th>\n",
       "      <td>4</td>\n",
       "      <td>Virat Kohli</td>\n",
       "      <td>16</td>\n",
       "      <td>16</td>\n",
       "      <td>5</td>\n",
       "      <td>505</td>\n",
       "      <td>386</td>\n",
       "      <td>82</td>\n",
       "      <td>45.90</td>\n",
       "      <td>130.82</td>\n",
       "      <td>35</td>\n",
       "      <td>23</td>\n",
       "      <td>0</td>\n",
       "      <td>3</td>\n",
       "      <td>2015</td>\n",
       "    </tr>\n",
       "    <tr>\n",
       "      <th>...</th>\n",
       "      <td>...</td>\n",
       "      <td>...</td>\n",
       "      <td>...</td>\n",
       "      <td>...</td>\n",
       "      <td>...</td>\n",
       "      <td>...</td>\n",
       "      <td>...</td>\n",
       "      <td>...</td>\n",
       "      <td>...</td>\n",
       "      <td>...</td>\n",
       "      <td>...</td>\n",
       "      <td>...</td>\n",
       "      <td>...</td>\n",
       "      <td>...</td>\n",
       "      <td>...</td>\n",
       "    </tr>\n",
       "    <tr>\n",
       "      <th>967</th>\n",
       "      <td>144</td>\n",
       "      <td>Kuldip Yadav</td>\n",
       "      <td>1</td>\n",
       "      <td>1</td>\n",
       "      <td>1</td>\n",
       "      <td>0</td>\n",
       "      <td>4</td>\n",
       "      <td>0</td>\n",
       "      <td>0.00</td>\n",
       "      <td>0.00</td>\n",
       "      <td>0</td>\n",
       "      <td>0</td>\n",
       "      <td>0</td>\n",
       "      <td>0</td>\n",
       "      <td>2021</td>\n",
       "    </tr>\n",
       "    <tr>\n",
       "      <th>968</th>\n",
       "      <td>145</td>\n",
       "      <td>Sarfaraz Khan</td>\n",
       "      <td>2</td>\n",
       "      <td>2</td>\n",
       "      <td>0</td>\n",
       "      <td>0</td>\n",
       "      <td>4</td>\n",
       "      <td>0</td>\n",
       "      <td>0.00</td>\n",
       "      <td>0.00</td>\n",
       "      <td>0</td>\n",
       "      <td>0</td>\n",
       "      <td>0</td>\n",
       "      <td>0</td>\n",
       "      <td>2021</td>\n",
       "    </tr>\n",
       "    <tr>\n",
       "      <th>969</th>\n",
       "      <td>146</td>\n",
       "      <td>Anuj Rawat</td>\n",
       "      <td>2</td>\n",
       "      <td>1</td>\n",
       "      <td>0</td>\n",
       "      <td>0</td>\n",
       "      <td>1</td>\n",
       "      <td>0</td>\n",
       "      <td>0.00</td>\n",
       "      <td>0.00</td>\n",
       "      <td>0</td>\n",
       "      <td>0</td>\n",
       "      <td>0</td>\n",
       "      <td>0</td>\n",
       "      <td>2021</td>\n",
       "    </tr>\n",
       "    <tr>\n",
       "      <th>970</th>\n",
       "      <td>147</td>\n",
       "      <td>Jimmy Neesham</td>\n",
       "      <td>3</td>\n",
       "      <td>2</td>\n",
       "      <td>0</td>\n",
       "      <td>0</td>\n",
       "      <td>2</td>\n",
       "      <td>0</td>\n",
       "      <td>0.00</td>\n",
       "      <td>0.00</td>\n",
       "      <td>0</td>\n",
       "      <td>0</td>\n",
       "      <td>0</td>\n",
       "      <td>0</td>\n",
       "      <td>2021</td>\n",
       "    </tr>\n",
       "    <tr>\n",
       "      <th>971</th>\n",
       "      <td>148</td>\n",
       "      <td>Piyush Chawla</td>\n",
       "      <td>1</td>\n",
       "      <td>1</td>\n",
       "      <td>0</td>\n",
       "      <td>0</td>\n",
       "      <td>2</td>\n",
       "      <td>0</td>\n",
       "      <td>0.00</td>\n",
       "      <td>0.00</td>\n",
       "      <td>0</td>\n",
       "      <td>0</td>\n",
       "      <td>0</td>\n",
       "      <td>0</td>\n",
       "      <td>2021</td>\n",
       "    </tr>\n",
       "  </tbody>\n",
       "</table>\n",
       "<p>972 rows × 15 columns</p>\n",
       "</div>"
      ],
      "text/plain": [
       "     index           names  matches  innings  notouts  runs  balls  \\\n",
       "0        0    David Warner       14       14        1   562    359   \n",
       "1        1   Lendl Simmons       13       13        1   540    441   \n",
       "2        2  Ajinkya Rahane       14       13        2   540    413   \n",
       "3        3  AB de Villiers       16       14        3   513    293   \n",
       "4        4     Virat Kohli       16       16        5   505    386   \n",
       "..     ...             ...      ...      ...      ...   ...    ...   \n",
       "967    144    Kuldip Yadav        1        1        1     0      4   \n",
       "968    145   Sarfaraz Khan        2        2        0     0      4   \n",
       "969    146      Anuj Rawat        2        1        0     0      1   \n",
       "970    147   Jimmy Neesham        3        2        0     0      2   \n",
       "971    148   Piyush Chawla        1        1        0     0      2   \n",
       "\n",
       "     high_score    avg  strike_rate  fours  sixes  fiftys  hundreds  season  \n",
       "0            91  43.23       156.54     65     21       0         7    2015  \n",
       "1            71  45.00       122.44     56     21       0         6    2015  \n",
       "2            91  49.09       130.75     53     13       0         4    2015  \n",
       "3           133  46.63       175.08     60     22       1         2    2015  \n",
       "4            82  45.90       130.82     35     23       0         3    2015  \n",
       "..          ...    ...          ...    ...    ...     ...       ...     ...  \n",
       "967           0   0.00         0.00      0      0       0         0    2021  \n",
       "968           0   0.00         0.00      0      0       0         0    2021  \n",
       "969           0   0.00         0.00      0      0       0         0    2021  \n",
       "970           0   0.00         0.00      0      0       0         0    2021  \n",
       "971           0   0.00         0.00      0      0       0         0    2021  \n",
       "\n",
       "[972 rows x 15 columns]"
      ]
     },
     "execution_count": 65,
     "metadata": {},
     "output_type": "execute_result"
    }
   ],
   "source": [
    "df\n"
   ]
  },
  {
   "cell_type": "code",
   "execution_count": 66,
   "id": "c9bd31eb",
   "metadata": {},
   "outputs": [],
   "source": [
    "df.drop('index',axis=1,inplace=True)"
   ]
  },
  {
   "cell_type": "code",
   "execution_count": 67,
   "id": "9da53e9d",
   "metadata": {},
   "outputs": [
    {
     "data": {
      "text/html": [
       "<div>\n",
       "<style scoped>\n",
       "    .dataframe tbody tr th:only-of-type {\n",
       "        vertical-align: middle;\n",
       "    }\n",
       "\n",
       "    .dataframe tbody tr th {\n",
       "        vertical-align: top;\n",
       "    }\n",
       "\n",
       "    .dataframe thead th {\n",
       "        text-align: right;\n",
       "    }\n",
       "</style>\n",
       "<table border=\"1\" class=\"dataframe\">\n",
       "  <thead>\n",
       "    <tr style=\"text-align: right;\">\n",
       "      <th></th>\n",
       "      <th>names</th>\n",
       "      <th>matches</th>\n",
       "      <th>innings</th>\n",
       "      <th>notouts</th>\n",
       "      <th>runs</th>\n",
       "      <th>balls</th>\n",
       "      <th>high_score</th>\n",
       "      <th>avg</th>\n",
       "      <th>strike_rate</th>\n",
       "      <th>fours</th>\n",
       "      <th>sixes</th>\n",
       "      <th>fiftys</th>\n",
       "      <th>hundreds</th>\n",
       "      <th>season</th>\n",
       "    </tr>\n",
       "  </thead>\n",
       "  <tbody>\n",
       "    <tr>\n",
       "      <th>0</th>\n",
       "      <td>David Warner</td>\n",
       "      <td>14</td>\n",
       "      <td>14</td>\n",
       "      <td>1</td>\n",
       "      <td>562</td>\n",
       "      <td>359</td>\n",
       "      <td>91</td>\n",
       "      <td>43.23</td>\n",
       "      <td>156.54</td>\n",
       "      <td>65</td>\n",
       "      <td>21</td>\n",
       "      <td>0</td>\n",
       "      <td>7</td>\n",
       "      <td>2015</td>\n",
       "    </tr>\n",
       "    <tr>\n",
       "      <th>1</th>\n",
       "      <td>Lendl Simmons</td>\n",
       "      <td>13</td>\n",
       "      <td>13</td>\n",
       "      <td>1</td>\n",
       "      <td>540</td>\n",
       "      <td>441</td>\n",
       "      <td>71</td>\n",
       "      <td>45.00</td>\n",
       "      <td>122.44</td>\n",
       "      <td>56</td>\n",
       "      <td>21</td>\n",
       "      <td>0</td>\n",
       "      <td>6</td>\n",
       "      <td>2015</td>\n",
       "    </tr>\n",
       "    <tr>\n",
       "      <th>2</th>\n",
       "      <td>Ajinkya Rahane</td>\n",
       "      <td>14</td>\n",
       "      <td>13</td>\n",
       "      <td>2</td>\n",
       "      <td>540</td>\n",
       "      <td>413</td>\n",
       "      <td>91</td>\n",
       "      <td>49.09</td>\n",
       "      <td>130.75</td>\n",
       "      <td>53</td>\n",
       "      <td>13</td>\n",
       "      <td>0</td>\n",
       "      <td>4</td>\n",
       "      <td>2015</td>\n",
       "    </tr>\n",
       "    <tr>\n",
       "      <th>3</th>\n",
       "      <td>AB de Villiers</td>\n",
       "      <td>16</td>\n",
       "      <td>14</td>\n",
       "      <td>3</td>\n",
       "      <td>513</td>\n",
       "      <td>293</td>\n",
       "      <td>133</td>\n",
       "      <td>46.63</td>\n",
       "      <td>175.08</td>\n",
       "      <td>60</td>\n",
       "      <td>22</td>\n",
       "      <td>1</td>\n",
       "      <td>2</td>\n",
       "      <td>2015</td>\n",
       "    </tr>\n",
       "    <tr>\n",
       "      <th>4</th>\n",
       "      <td>Virat Kohli</td>\n",
       "      <td>16</td>\n",
       "      <td>16</td>\n",
       "      <td>5</td>\n",
       "      <td>505</td>\n",
       "      <td>386</td>\n",
       "      <td>82</td>\n",
       "      <td>45.90</td>\n",
       "      <td>130.82</td>\n",
       "      <td>35</td>\n",
       "      <td>23</td>\n",
       "      <td>0</td>\n",
       "      <td>3</td>\n",
       "      <td>2015</td>\n",
       "    </tr>\n",
       "    <tr>\n",
       "      <th>...</th>\n",
       "      <td>...</td>\n",
       "      <td>...</td>\n",
       "      <td>...</td>\n",
       "      <td>...</td>\n",
       "      <td>...</td>\n",
       "      <td>...</td>\n",
       "      <td>...</td>\n",
       "      <td>...</td>\n",
       "      <td>...</td>\n",
       "      <td>...</td>\n",
       "      <td>...</td>\n",
       "      <td>...</td>\n",
       "      <td>...</td>\n",
       "      <td>...</td>\n",
       "    </tr>\n",
       "    <tr>\n",
       "      <th>967</th>\n",
       "      <td>Kuldip Yadav</td>\n",
       "      <td>1</td>\n",
       "      <td>1</td>\n",
       "      <td>1</td>\n",
       "      <td>0</td>\n",
       "      <td>4</td>\n",
       "      <td>0</td>\n",
       "      <td>0.00</td>\n",
       "      <td>0.00</td>\n",
       "      <td>0</td>\n",
       "      <td>0</td>\n",
       "      <td>0</td>\n",
       "      <td>0</td>\n",
       "      <td>2021</td>\n",
       "    </tr>\n",
       "    <tr>\n",
       "      <th>968</th>\n",
       "      <td>Sarfaraz Khan</td>\n",
       "      <td>2</td>\n",
       "      <td>2</td>\n",
       "      <td>0</td>\n",
       "      <td>0</td>\n",
       "      <td>4</td>\n",
       "      <td>0</td>\n",
       "      <td>0.00</td>\n",
       "      <td>0.00</td>\n",
       "      <td>0</td>\n",
       "      <td>0</td>\n",
       "      <td>0</td>\n",
       "      <td>0</td>\n",
       "      <td>2021</td>\n",
       "    </tr>\n",
       "    <tr>\n",
       "      <th>969</th>\n",
       "      <td>Anuj Rawat</td>\n",
       "      <td>2</td>\n",
       "      <td>1</td>\n",
       "      <td>0</td>\n",
       "      <td>0</td>\n",
       "      <td>1</td>\n",
       "      <td>0</td>\n",
       "      <td>0.00</td>\n",
       "      <td>0.00</td>\n",
       "      <td>0</td>\n",
       "      <td>0</td>\n",
       "      <td>0</td>\n",
       "      <td>0</td>\n",
       "      <td>2021</td>\n",
       "    </tr>\n",
       "    <tr>\n",
       "      <th>970</th>\n",
       "      <td>Jimmy Neesham</td>\n",
       "      <td>3</td>\n",
       "      <td>2</td>\n",
       "      <td>0</td>\n",
       "      <td>0</td>\n",
       "      <td>2</td>\n",
       "      <td>0</td>\n",
       "      <td>0.00</td>\n",
       "      <td>0.00</td>\n",
       "      <td>0</td>\n",
       "      <td>0</td>\n",
       "      <td>0</td>\n",
       "      <td>0</td>\n",
       "      <td>2021</td>\n",
       "    </tr>\n",
       "    <tr>\n",
       "      <th>971</th>\n",
       "      <td>Piyush Chawla</td>\n",
       "      <td>1</td>\n",
       "      <td>1</td>\n",
       "      <td>0</td>\n",
       "      <td>0</td>\n",
       "      <td>2</td>\n",
       "      <td>0</td>\n",
       "      <td>0.00</td>\n",
       "      <td>0.00</td>\n",
       "      <td>0</td>\n",
       "      <td>0</td>\n",
       "      <td>0</td>\n",
       "      <td>0</td>\n",
       "      <td>2021</td>\n",
       "    </tr>\n",
       "  </tbody>\n",
       "</table>\n",
       "<p>972 rows × 14 columns</p>\n",
       "</div>"
      ],
      "text/plain": [
       "              names  matches  innings  notouts  runs  balls  high_score  \\\n",
       "0      David Warner       14       14        1   562    359          91   \n",
       "1     Lendl Simmons       13       13        1   540    441          71   \n",
       "2    Ajinkya Rahane       14       13        2   540    413          91   \n",
       "3    AB de Villiers       16       14        3   513    293         133   \n",
       "4       Virat Kohli       16       16        5   505    386          82   \n",
       "..              ...      ...      ...      ...   ...    ...         ...   \n",
       "967    Kuldip Yadav        1        1        1     0      4           0   \n",
       "968   Sarfaraz Khan        2        2        0     0      4           0   \n",
       "969      Anuj Rawat        2        1        0     0      1           0   \n",
       "970   Jimmy Neesham        3        2        0     0      2           0   \n",
       "971   Piyush Chawla        1        1        0     0      2           0   \n",
       "\n",
       "       avg  strike_rate  fours  sixes  fiftys  hundreds  season  \n",
       "0    43.23       156.54     65     21       0         7    2015  \n",
       "1    45.00       122.44     56     21       0         6    2015  \n",
       "2    49.09       130.75     53     13       0         4    2015  \n",
       "3    46.63       175.08     60     22       1         2    2015  \n",
       "4    45.90       130.82     35     23       0         3    2015  \n",
       "..     ...          ...    ...    ...     ...       ...     ...  \n",
       "967   0.00         0.00      0      0       0         0    2021  \n",
       "968   0.00         0.00      0      0       0         0    2021  \n",
       "969   0.00         0.00      0      0       0         0    2021  \n",
       "970   0.00         0.00      0      0       0         0    2021  \n",
       "971   0.00         0.00      0      0       0         0    2021  \n",
       "\n",
       "[972 rows x 14 columns]"
      ]
     },
     "execution_count": 67,
     "metadata": {},
     "output_type": "execute_result"
    }
   ],
   "source": [
    "df"
   ]
  },
  {
   "cell_type": "code",
   "execution_count": 68,
   "id": "a57e4ef0",
   "metadata": {},
   "outputs": [
    {
     "name": "stdout",
     "output_type": "stream",
     "text": [
      "<class 'pandas.core.frame.DataFrame'>\n",
      "RangeIndex: 972 entries, 0 to 971\n",
      "Data columns (total 14 columns):\n",
      " #   Column       Non-Null Count  Dtype  \n",
      "---  ------       --------------  -----  \n",
      " 0   names        972 non-null    object \n",
      " 1   matches      972 non-null    int64  \n",
      " 2   innings      972 non-null    int64  \n",
      " 3   notouts      972 non-null    int64  \n",
      " 4   runs         972 non-null    int64  \n",
      " 5   balls        972 non-null    int64  \n",
      " 6   high_score   972 non-null    int64  \n",
      " 7   avg          972 non-null    float64\n",
      " 8   strike_rate  972 non-null    float64\n",
      " 9   fours        972 non-null    int64  \n",
      " 10  sixes        972 non-null    int64  \n",
      " 11  fiftys       972 non-null    int64  \n",
      " 12  hundreds     972 non-null    int64  \n",
      " 13  season       972 non-null    int64  \n",
      "dtypes: float64(2), int64(11), object(1)\n",
      "memory usage: 106.4+ KB\n"
     ]
    }
   ],
   "source": [
    "df.info()"
   ]
  },
  {
   "cell_type": "code",
   "execution_count": 69,
   "id": "64a2ed18",
   "metadata": {},
   "outputs": [],
   "source": [
    "df_ipl=df.to_csv('df_clean.csv')"
   ]
  },
  {
   "cell_type": "markdown",
   "id": "c3b741ed",
   "metadata": {},
   "source": [
    "# Data Visualization"
   ]
  },
  {
   "cell_type": "code",
   "execution_count": 70,
   "id": "676d449d",
   "metadata": {},
   "outputs": [],
   "source": [
    "import matplotlib as plt\n",
    "import seaborn as sns\n",
    "import matplotlib.pyplot as plt\n",
    "%matplotlib inline"
   ]
  },
  {
   "cell_type": "code",
   "execution_count": 71,
   "id": "d7c3dce1",
   "metadata": {},
   "outputs": [],
   "source": [
    "df_ipl=pd.read_csv('df_clean.csv')"
   ]
  },
  {
   "cell_type": "code",
   "execution_count": 72,
   "id": "59970397",
   "metadata": {},
   "outputs": [
    {
     "data": {
      "text/html": [
       "<div>\n",
       "<style scoped>\n",
       "    .dataframe tbody tr th:only-of-type {\n",
       "        vertical-align: middle;\n",
       "    }\n",
       "\n",
       "    .dataframe tbody tr th {\n",
       "        vertical-align: top;\n",
       "    }\n",
       "\n",
       "    .dataframe thead th {\n",
       "        text-align: right;\n",
       "    }\n",
       "</style>\n",
       "<table border=\"1\" class=\"dataframe\">\n",
       "  <thead>\n",
       "    <tr style=\"text-align: right;\">\n",
       "      <th></th>\n",
       "      <th>Unnamed: 0</th>\n",
       "      <th>names</th>\n",
       "      <th>matches</th>\n",
       "      <th>innings</th>\n",
       "      <th>notouts</th>\n",
       "      <th>runs</th>\n",
       "      <th>balls</th>\n",
       "      <th>high_score</th>\n",
       "      <th>avg</th>\n",
       "      <th>strike_rate</th>\n",
       "      <th>fours</th>\n",
       "      <th>sixes</th>\n",
       "      <th>fiftys</th>\n",
       "      <th>hundreds</th>\n",
       "      <th>season</th>\n",
       "    </tr>\n",
       "  </thead>\n",
       "  <tbody>\n",
       "    <tr>\n",
       "      <th>0</th>\n",
       "      <td>0</td>\n",
       "      <td>David Warner</td>\n",
       "      <td>14</td>\n",
       "      <td>14</td>\n",
       "      <td>1</td>\n",
       "      <td>562</td>\n",
       "      <td>359</td>\n",
       "      <td>91</td>\n",
       "      <td>43.23</td>\n",
       "      <td>156.54</td>\n",
       "      <td>65</td>\n",
       "      <td>21</td>\n",
       "      <td>0</td>\n",
       "      <td>7</td>\n",
       "      <td>2015</td>\n",
       "    </tr>\n",
       "    <tr>\n",
       "      <th>1</th>\n",
       "      <td>1</td>\n",
       "      <td>Lendl Simmons</td>\n",
       "      <td>13</td>\n",
       "      <td>13</td>\n",
       "      <td>1</td>\n",
       "      <td>540</td>\n",
       "      <td>441</td>\n",
       "      <td>71</td>\n",
       "      <td>45.00</td>\n",
       "      <td>122.44</td>\n",
       "      <td>56</td>\n",
       "      <td>21</td>\n",
       "      <td>0</td>\n",
       "      <td>6</td>\n",
       "      <td>2015</td>\n",
       "    </tr>\n",
       "    <tr>\n",
       "      <th>2</th>\n",
       "      <td>2</td>\n",
       "      <td>Ajinkya Rahane</td>\n",
       "      <td>14</td>\n",
       "      <td>13</td>\n",
       "      <td>2</td>\n",
       "      <td>540</td>\n",
       "      <td>413</td>\n",
       "      <td>91</td>\n",
       "      <td>49.09</td>\n",
       "      <td>130.75</td>\n",
       "      <td>53</td>\n",
       "      <td>13</td>\n",
       "      <td>0</td>\n",
       "      <td>4</td>\n",
       "      <td>2015</td>\n",
       "    </tr>\n",
       "    <tr>\n",
       "      <th>3</th>\n",
       "      <td>3</td>\n",
       "      <td>AB de Villiers</td>\n",
       "      <td>16</td>\n",
       "      <td>14</td>\n",
       "      <td>3</td>\n",
       "      <td>513</td>\n",
       "      <td>293</td>\n",
       "      <td>133</td>\n",
       "      <td>46.63</td>\n",
       "      <td>175.08</td>\n",
       "      <td>60</td>\n",
       "      <td>22</td>\n",
       "      <td>1</td>\n",
       "      <td>2</td>\n",
       "      <td>2015</td>\n",
       "    </tr>\n",
       "    <tr>\n",
       "      <th>4</th>\n",
       "      <td>4</td>\n",
       "      <td>Virat Kohli</td>\n",
       "      <td>16</td>\n",
       "      <td>16</td>\n",
       "      <td>5</td>\n",
       "      <td>505</td>\n",
       "      <td>386</td>\n",
       "      <td>82</td>\n",
       "      <td>45.90</td>\n",
       "      <td>130.82</td>\n",
       "      <td>35</td>\n",
       "      <td>23</td>\n",
       "      <td>0</td>\n",
       "      <td>3</td>\n",
       "      <td>2015</td>\n",
       "    </tr>\n",
       "    <tr>\n",
       "      <th>...</th>\n",
       "      <td>...</td>\n",
       "      <td>...</td>\n",
       "      <td>...</td>\n",
       "      <td>...</td>\n",
       "      <td>...</td>\n",
       "      <td>...</td>\n",
       "      <td>...</td>\n",
       "      <td>...</td>\n",
       "      <td>...</td>\n",
       "      <td>...</td>\n",
       "      <td>...</td>\n",
       "      <td>...</td>\n",
       "      <td>...</td>\n",
       "      <td>...</td>\n",
       "      <td>...</td>\n",
       "    </tr>\n",
       "    <tr>\n",
       "      <th>967</th>\n",
       "      <td>967</td>\n",
       "      <td>Kuldip Yadav</td>\n",
       "      <td>1</td>\n",
       "      <td>1</td>\n",
       "      <td>1</td>\n",
       "      <td>0</td>\n",
       "      <td>4</td>\n",
       "      <td>0</td>\n",
       "      <td>0.00</td>\n",
       "      <td>0.00</td>\n",
       "      <td>0</td>\n",
       "      <td>0</td>\n",
       "      <td>0</td>\n",
       "      <td>0</td>\n",
       "      <td>2021</td>\n",
       "    </tr>\n",
       "    <tr>\n",
       "      <th>968</th>\n",
       "      <td>968</td>\n",
       "      <td>Sarfaraz Khan</td>\n",
       "      <td>2</td>\n",
       "      <td>2</td>\n",
       "      <td>0</td>\n",
       "      <td>0</td>\n",
       "      <td>4</td>\n",
       "      <td>0</td>\n",
       "      <td>0.00</td>\n",
       "      <td>0.00</td>\n",
       "      <td>0</td>\n",
       "      <td>0</td>\n",
       "      <td>0</td>\n",
       "      <td>0</td>\n",
       "      <td>2021</td>\n",
       "    </tr>\n",
       "    <tr>\n",
       "      <th>969</th>\n",
       "      <td>969</td>\n",
       "      <td>Anuj Rawat</td>\n",
       "      <td>2</td>\n",
       "      <td>1</td>\n",
       "      <td>0</td>\n",
       "      <td>0</td>\n",
       "      <td>1</td>\n",
       "      <td>0</td>\n",
       "      <td>0.00</td>\n",
       "      <td>0.00</td>\n",
       "      <td>0</td>\n",
       "      <td>0</td>\n",
       "      <td>0</td>\n",
       "      <td>0</td>\n",
       "      <td>2021</td>\n",
       "    </tr>\n",
       "    <tr>\n",
       "      <th>970</th>\n",
       "      <td>970</td>\n",
       "      <td>Jimmy Neesham</td>\n",
       "      <td>3</td>\n",
       "      <td>2</td>\n",
       "      <td>0</td>\n",
       "      <td>0</td>\n",
       "      <td>2</td>\n",
       "      <td>0</td>\n",
       "      <td>0.00</td>\n",
       "      <td>0.00</td>\n",
       "      <td>0</td>\n",
       "      <td>0</td>\n",
       "      <td>0</td>\n",
       "      <td>0</td>\n",
       "      <td>2021</td>\n",
       "    </tr>\n",
       "    <tr>\n",
       "      <th>971</th>\n",
       "      <td>971</td>\n",
       "      <td>Piyush Chawla</td>\n",
       "      <td>1</td>\n",
       "      <td>1</td>\n",
       "      <td>0</td>\n",
       "      <td>0</td>\n",
       "      <td>2</td>\n",
       "      <td>0</td>\n",
       "      <td>0.00</td>\n",
       "      <td>0.00</td>\n",
       "      <td>0</td>\n",
       "      <td>0</td>\n",
       "      <td>0</td>\n",
       "      <td>0</td>\n",
       "      <td>2021</td>\n",
       "    </tr>\n",
       "  </tbody>\n",
       "</table>\n",
       "<p>972 rows × 15 columns</p>\n",
       "</div>"
      ],
      "text/plain": [
       "     Unnamed: 0           names  matches  innings  notouts  runs  balls  \\\n",
       "0             0    David Warner       14       14        1   562    359   \n",
       "1             1   Lendl Simmons       13       13        1   540    441   \n",
       "2             2  Ajinkya Rahane       14       13        2   540    413   \n",
       "3             3  AB de Villiers       16       14        3   513    293   \n",
       "4             4     Virat Kohli       16       16        5   505    386   \n",
       "..          ...             ...      ...      ...      ...   ...    ...   \n",
       "967         967    Kuldip Yadav        1        1        1     0      4   \n",
       "968         968   Sarfaraz Khan        2        2        0     0      4   \n",
       "969         969      Anuj Rawat        2        1        0     0      1   \n",
       "970         970   Jimmy Neesham        3        2        0     0      2   \n",
       "971         971   Piyush Chawla        1        1        0     0      2   \n",
       "\n",
       "     high_score    avg  strike_rate  fours  sixes  fiftys  hundreds  season  \n",
       "0            91  43.23       156.54     65     21       0         7    2015  \n",
       "1            71  45.00       122.44     56     21       0         6    2015  \n",
       "2            91  49.09       130.75     53     13       0         4    2015  \n",
       "3           133  46.63       175.08     60     22       1         2    2015  \n",
       "4            82  45.90       130.82     35     23       0         3    2015  \n",
       "..          ...    ...          ...    ...    ...     ...       ...     ...  \n",
       "967           0   0.00         0.00      0      0       0         0    2021  \n",
       "968           0   0.00         0.00      0      0       0         0    2021  \n",
       "969           0   0.00         0.00      0      0       0         0    2021  \n",
       "970           0   0.00         0.00      0      0       0         0    2021  \n",
       "971           0   0.00         0.00      0      0       0         0    2021  \n",
       "\n",
       "[972 rows x 15 columns]"
      ]
     },
     "execution_count": 72,
     "metadata": {},
     "output_type": "execute_result"
    }
   ],
   "source": [
    "df_ipl"
   ]
  },
  {
   "cell_type": "code",
   "execution_count": 73,
   "id": "d88aec0b",
   "metadata": {},
   "outputs": [],
   "source": [
    "df_ipl.drop('Unnamed: 0',axis=1,inplace=True)"
   ]
  },
  {
   "cell_type": "code",
   "execution_count": 74,
   "id": "453f873b",
   "metadata": {},
   "outputs": [
    {
     "name": "stdout",
     "output_type": "stream",
     "text": [
      "<class 'pandas.core.frame.DataFrame'>\n",
      "RangeIndex: 972 entries, 0 to 971\n",
      "Data columns (total 14 columns):\n",
      " #   Column       Non-Null Count  Dtype  \n",
      "---  ------       --------------  -----  \n",
      " 0   names        972 non-null    object \n",
      " 1   matches      972 non-null    int64  \n",
      " 2   innings      972 non-null    int64  \n",
      " 3   notouts      972 non-null    int64  \n",
      " 4   runs         972 non-null    int64  \n",
      " 5   balls        972 non-null    int64  \n",
      " 6   high_score   972 non-null    int64  \n",
      " 7   avg          972 non-null    float64\n",
      " 8   strike_rate  972 non-null    float64\n",
      " 9   fours        972 non-null    int64  \n",
      " 10  sixes        972 non-null    int64  \n",
      " 11  fiftys       972 non-null    int64  \n",
      " 12  hundreds     972 non-null    int64  \n",
      " 13  season       972 non-null    int64  \n",
      "dtypes: float64(2), int64(11), object(1)\n",
      "memory usage: 106.4+ KB\n"
     ]
    }
   ],
   "source": [
    "df_ipl.info()"
   ]
  },
  {
   "cell_type": "code",
   "execution_count": 75,
   "id": "9b566d52",
   "metadata": {},
   "outputs": [
    {
     "data": {
      "text/plain": [
       "(972, 14)"
      ]
     },
     "execution_count": 75,
     "metadata": {},
     "output_type": "execute_result"
    }
   ],
   "source": [
    "df_ipl.shape"
   ]
  },
  {
   "cell_type": "code",
   "execution_count": 76,
   "id": "92065c07",
   "metadata": {},
   "outputs": [
    {
     "data": {
      "text/html": [
       "<div>\n",
       "<style scoped>\n",
       "    .dataframe tbody tr th:only-of-type {\n",
       "        vertical-align: middle;\n",
       "    }\n",
       "\n",
       "    .dataframe tbody tr th {\n",
       "        vertical-align: top;\n",
       "    }\n",
       "\n",
       "    .dataframe thead th {\n",
       "        text-align: right;\n",
       "    }\n",
       "</style>\n",
       "<table border=\"1\" class=\"dataframe\">\n",
       "  <thead>\n",
       "    <tr style=\"text-align: right;\">\n",
       "      <th></th>\n",
       "      <th>names</th>\n",
       "      <th>matches</th>\n",
       "      <th>innings</th>\n",
       "      <th>notouts</th>\n",
       "      <th>runs</th>\n",
       "      <th>balls</th>\n",
       "      <th>high_score</th>\n",
       "      <th>avg</th>\n",
       "      <th>strike_rate</th>\n",
       "      <th>fours</th>\n",
       "      <th>sixes</th>\n",
       "      <th>fiftys</th>\n",
       "      <th>hundreds</th>\n",
       "      <th>season</th>\n",
       "    </tr>\n",
       "  </thead>\n",
       "  <tbody>\n",
       "    <tr>\n",
       "      <th>0</th>\n",
       "      <td>David Warner</td>\n",
       "      <td>14</td>\n",
       "      <td>14</td>\n",
       "      <td>1</td>\n",
       "      <td>562</td>\n",
       "      <td>359</td>\n",
       "      <td>91</td>\n",
       "      <td>43.23</td>\n",
       "      <td>156.54</td>\n",
       "      <td>65</td>\n",
       "      <td>21</td>\n",
       "      <td>0</td>\n",
       "      <td>7</td>\n",
       "      <td>2015</td>\n",
       "    </tr>\n",
       "    <tr>\n",
       "      <th>1</th>\n",
       "      <td>Lendl Simmons</td>\n",
       "      <td>13</td>\n",
       "      <td>13</td>\n",
       "      <td>1</td>\n",
       "      <td>540</td>\n",
       "      <td>441</td>\n",
       "      <td>71</td>\n",
       "      <td>45.00</td>\n",
       "      <td>122.44</td>\n",
       "      <td>56</td>\n",
       "      <td>21</td>\n",
       "      <td>0</td>\n",
       "      <td>6</td>\n",
       "      <td>2015</td>\n",
       "    </tr>\n",
       "    <tr>\n",
       "      <th>2</th>\n",
       "      <td>Ajinkya Rahane</td>\n",
       "      <td>14</td>\n",
       "      <td>13</td>\n",
       "      <td>2</td>\n",
       "      <td>540</td>\n",
       "      <td>413</td>\n",
       "      <td>91</td>\n",
       "      <td>49.09</td>\n",
       "      <td>130.75</td>\n",
       "      <td>53</td>\n",
       "      <td>13</td>\n",
       "      <td>0</td>\n",
       "      <td>4</td>\n",
       "      <td>2015</td>\n",
       "    </tr>\n",
       "    <tr>\n",
       "      <th>3</th>\n",
       "      <td>AB de Villiers</td>\n",
       "      <td>16</td>\n",
       "      <td>14</td>\n",
       "      <td>3</td>\n",
       "      <td>513</td>\n",
       "      <td>293</td>\n",
       "      <td>133</td>\n",
       "      <td>46.63</td>\n",
       "      <td>175.08</td>\n",
       "      <td>60</td>\n",
       "      <td>22</td>\n",
       "      <td>1</td>\n",
       "      <td>2</td>\n",
       "      <td>2015</td>\n",
       "    </tr>\n",
       "    <tr>\n",
       "      <th>4</th>\n",
       "      <td>Virat Kohli</td>\n",
       "      <td>16</td>\n",
       "      <td>16</td>\n",
       "      <td>5</td>\n",
       "      <td>505</td>\n",
       "      <td>386</td>\n",
       "      <td>82</td>\n",
       "      <td>45.90</td>\n",
       "      <td>130.82</td>\n",
       "      <td>35</td>\n",
       "      <td>23</td>\n",
       "      <td>0</td>\n",
       "      <td>3</td>\n",
       "      <td>2015</td>\n",
       "    </tr>\n",
       "  </tbody>\n",
       "</table>\n",
       "</div>"
      ],
      "text/plain": [
       "            names  matches  innings  notouts  runs  balls  high_score    avg  \\\n",
       "0    David Warner       14       14        1   562    359          91  43.23   \n",
       "1   Lendl Simmons       13       13        1   540    441          71  45.00   \n",
       "2  Ajinkya Rahane       14       13        2   540    413          91  49.09   \n",
       "3  AB de Villiers       16       14        3   513    293         133  46.63   \n",
       "4     Virat Kohli       16       16        5   505    386          82  45.90   \n",
       "\n",
       "   strike_rate  fours  sixes  fiftys  hundreds  season  \n",
       "0       156.54     65     21       0         7    2015  \n",
       "1       122.44     56     21       0         6    2015  \n",
       "2       130.75     53     13       0         4    2015  \n",
       "3       175.08     60     22       1         2    2015  \n",
       "4       130.82     35     23       0         3    2015  "
      ]
     },
     "execution_count": 76,
     "metadata": {},
     "output_type": "execute_result"
    }
   ],
   "source": [
    "df.head()"
   ]
  },
  {
   "cell_type": "code",
   "execution_count": 77,
   "id": "b5dd1b95",
   "metadata": {},
   "outputs": [
    {
     "data": {
      "text/html": [
       "<div>\n",
       "<style scoped>\n",
       "    .dataframe tbody tr th:only-of-type {\n",
       "        vertical-align: middle;\n",
       "    }\n",
       "\n",
       "    .dataframe tbody tr th {\n",
       "        vertical-align: top;\n",
       "    }\n",
       "\n",
       "    .dataframe thead th {\n",
       "        text-align: right;\n",
       "    }\n",
       "</style>\n",
       "<table border=\"1\" class=\"dataframe\">\n",
       "  <thead>\n",
       "    <tr style=\"text-align: right;\">\n",
       "      <th></th>\n",
       "      <th>matches</th>\n",
       "      <th>innings</th>\n",
       "      <th>notouts</th>\n",
       "      <th>runs</th>\n",
       "      <th>balls</th>\n",
       "      <th>high_score</th>\n",
       "      <th>avg</th>\n",
       "      <th>strike_rate</th>\n",
       "      <th>fours</th>\n",
       "      <th>sixes</th>\n",
       "      <th>fiftys</th>\n",
       "      <th>hundreds</th>\n",
       "      <th>season</th>\n",
       "    </tr>\n",
       "  </thead>\n",
       "  <tbody>\n",
       "    <tr>\n",
       "      <th>count</th>\n",
       "      <td>972.000000</td>\n",
       "      <td>972.000000</td>\n",
       "      <td>972.000000</td>\n",
       "      <td>972.000000</td>\n",
       "      <td>972.000000</td>\n",
       "      <td>972.000000</td>\n",
       "      <td>972.000000</td>\n",
       "      <td>972.000000</td>\n",
       "      <td>972.000000</td>\n",
       "      <td>972.000000</td>\n",
       "      <td>972.000000</td>\n",
       "      <td>972.000000</td>\n",
       "      <td>972.000000</td>\n",
       "    </tr>\n",
       "    <tr>\n",
       "      <th>mean</th>\n",
       "      <td>9.068930</td>\n",
       "      <td>6.519547</td>\n",
       "      <td>1.537037</td>\n",
       "      <td>130.837449</td>\n",
       "      <td>98.807613</td>\n",
       "      <td>34.792181</td>\n",
       "      <td>18.152119</td>\n",
       "      <td>111.450772</td>\n",
       "      <td>11.606996</td>\n",
       "      <td>5.259259</td>\n",
       "      <td>0.037037</td>\n",
       "      <td>0.720165</td>\n",
       "      <td>2018.056584</td>\n",
       "    </tr>\n",
       "    <tr>\n",
       "      <th>std</th>\n",
       "      <td>4.955869</td>\n",
       "      <td>4.878612</td>\n",
       "      <td>1.570737</td>\n",
       "      <td>162.011234</td>\n",
       "      <td>116.302559</td>\n",
       "      <td>31.264593</td>\n",
       "      <td>15.876044</td>\n",
       "      <td>47.856472</td>\n",
       "      <td>15.780415</td>\n",
       "      <td>7.342487</td>\n",
       "      <td>0.232894</td>\n",
       "      <td>1.351615</td>\n",
       "      <td>1.994299</td>\n",
       "    </tr>\n",
       "    <tr>\n",
       "      <th>min</th>\n",
       "      <td>1.000000</td>\n",
       "      <td>1.000000</td>\n",
       "      <td>0.000000</td>\n",
       "      <td>0.000000</td>\n",
       "      <td>1.000000</td>\n",
       "      <td>0.000000</td>\n",
       "      <td>0.000000</td>\n",
       "      <td>0.000000</td>\n",
       "      <td>0.000000</td>\n",
       "      <td>0.000000</td>\n",
       "      <td>0.000000</td>\n",
       "      <td>0.000000</td>\n",
       "      <td>2015.000000</td>\n",
       "    </tr>\n",
       "    <tr>\n",
       "      <th>25%</th>\n",
       "      <td>4.750000</td>\n",
       "      <td>2.000000</td>\n",
       "      <td>0.000000</td>\n",
       "      <td>9.000000</td>\n",
       "      <td>11.000000</td>\n",
       "      <td>7.000000</td>\n",
       "      <td>5.000000</td>\n",
       "      <td>88.880000</td>\n",
       "      <td>0.750000</td>\n",
       "      <td>0.000000</td>\n",
       "      <td>0.000000</td>\n",
       "      <td>0.000000</td>\n",
       "      <td>2016.000000</td>\n",
       "    </tr>\n",
       "    <tr>\n",
       "      <th>50%</th>\n",
       "      <td>9.000000</td>\n",
       "      <td>5.000000</td>\n",
       "      <td>1.000000</td>\n",
       "      <td>54.500000</td>\n",
       "      <td>45.000000</td>\n",
       "      <td>26.000000</td>\n",
       "      <td>15.925000</td>\n",
       "      <td>119.970000</td>\n",
       "      <td>4.000000</td>\n",
       "      <td>2.000000</td>\n",
       "      <td>0.000000</td>\n",
       "      <td>0.000000</td>\n",
       "      <td>2018.000000</td>\n",
       "    </tr>\n",
       "    <tr>\n",
       "      <th>75%</th>\n",
       "      <td>14.000000</td>\n",
       "      <td>11.000000</td>\n",
       "      <td>2.000000</td>\n",
       "      <td>208.000000</td>\n",
       "      <td>158.250000</td>\n",
       "      <td>59.000000</td>\n",
       "      <td>27.792500</td>\n",
       "      <td>139.092500</td>\n",
       "      <td>18.000000</td>\n",
       "      <td>8.000000</td>\n",
       "      <td>0.000000</td>\n",
       "      <td>1.000000</td>\n",
       "      <td>2020.000000</td>\n",
       "    </tr>\n",
       "    <tr>\n",
       "      <th>max</th>\n",
       "      <td>17.000000</td>\n",
       "      <td>17.000000</td>\n",
       "      <td>9.000000</td>\n",
       "      <td>973.000000</td>\n",
       "      <td>640.000000</td>\n",
       "      <td>133.000000</td>\n",
       "      <td>101.000000</td>\n",
       "      <td>333.330000</td>\n",
       "      <td>88.000000</td>\n",
       "      <td>52.000000</td>\n",
       "      <td>4.000000</td>\n",
       "      <td>9.000000</td>\n",
       "      <td>2021.000000</td>\n",
       "    </tr>\n",
       "  </tbody>\n",
       "</table>\n",
       "</div>"
      ],
      "text/plain": [
       "          matches     innings     notouts        runs       balls  high_score  \\\n",
       "count  972.000000  972.000000  972.000000  972.000000  972.000000  972.000000   \n",
       "mean     9.068930    6.519547    1.537037  130.837449   98.807613   34.792181   \n",
       "std      4.955869    4.878612    1.570737  162.011234  116.302559   31.264593   \n",
       "min      1.000000    1.000000    0.000000    0.000000    1.000000    0.000000   \n",
       "25%      4.750000    2.000000    0.000000    9.000000   11.000000    7.000000   \n",
       "50%      9.000000    5.000000    1.000000   54.500000   45.000000   26.000000   \n",
       "75%     14.000000   11.000000    2.000000  208.000000  158.250000   59.000000   \n",
       "max     17.000000   17.000000    9.000000  973.000000  640.000000  133.000000   \n",
       "\n",
       "              avg  strike_rate       fours       sixes      fiftys  \\\n",
       "count  972.000000   972.000000  972.000000  972.000000  972.000000   \n",
       "mean    18.152119   111.450772   11.606996    5.259259    0.037037   \n",
       "std     15.876044    47.856472   15.780415    7.342487    0.232894   \n",
       "min      0.000000     0.000000    0.000000    0.000000    0.000000   \n",
       "25%      5.000000    88.880000    0.750000    0.000000    0.000000   \n",
       "50%     15.925000   119.970000    4.000000    2.000000    0.000000   \n",
       "75%     27.792500   139.092500   18.000000    8.000000    0.000000   \n",
       "max    101.000000   333.330000   88.000000   52.000000    4.000000   \n",
       "\n",
       "         hundreds       season  \n",
       "count  972.000000   972.000000  \n",
       "mean     0.720165  2018.056584  \n",
       "std      1.351615     1.994299  \n",
       "min      0.000000  2015.000000  \n",
       "25%      0.000000  2016.000000  \n",
       "50%      0.000000  2018.000000  \n",
       "75%      1.000000  2020.000000  \n",
       "max      9.000000  2021.000000  "
      ]
     },
     "execution_count": 77,
     "metadata": {},
     "output_type": "execute_result"
    }
   ],
   "source": [
    "df_ipl.describe()"
   ]
  },
  {
   "cell_type": "code",
   "execution_count": 78,
   "id": "4db2446d",
   "metadata": {},
   "outputs": [],
   "source": [
    "df_ipl['names'] = df_ipl['names'].apply(lambda x: x.replace('           ',''))"
   ]
  },
  {
   "cell_type": "markdown",
   "id": "1e1ff379",
   "metadata": {},
   "source": [
    "# Who Played More Matches In Ipl from 2015-2021?"
   ]
  },
  {
   "cell_type": "code",
   "execution_count": 79,
   "id": "3ae62cfe",
   "metadata": {},
   "outputs": [
    {
     "data": {
      "text/html": [
       "<div>\n",
       "<style scoped>\n",
       "    .dataframe tbody tr th:only-of-type {\n",
       "        vertical-align: middle;\n",
       "    }\n",
       "\n",
       "    .dataframe tbody tr th {\n",
       "        vertical-align: top;\n",
       "    }\n",
       "\n",
       "    .dataframe thead th {\n",
       "        text-align: right;\n",
       "    }\n",
       "</style>\n",
       "<table border=\"1\" class=\"dataframe\">\n",
       "  <thead>\n",
       "    <tr style=\"text-align: right;\">\n",
       "      <th></th>\n",
       "      <th>names</th>\n",
       "      <th>matches</th>\n",
       "    </tr>\n",
       "  </thead>\n",
       "  <tbody>\n",
       "    <tr>\n",
       "      <th>261</th>\n",
       "      <td>Shikhar Dhawan</td>\n",
       "      <td>110</td>\n",
       "    </tr>\n",
       "    <tr>\n",
       "      <th>156</th>\n",
       "      <td>MS Dhoni</td>\n",
       "      <td>108</td>\n",
       "    </tr>\n",
       "    <tr>\n",
       "      <th>76</th>\n",
       "      <td>Dinesh Karthik</td>\n",
       "      <td>107</td>\n",
       "    </tr>\n",
       "    <tr>\n",
       "      <th>227</th>\n",
       "      <td>Ravindra Jadeja</td>\n",
       "      <td>106</td>\n",
       "    </tr>\n",
       "    <tr>\n",
       "      <th>236</th>\n",
       "      <td>Rohit Sharma</td>\n",
       "      <td>101</td>\n",
       "    </tr>\n",
       "    <tr>\n",
       "      <th>143</th>\n",
       "      <td>Kieron Pollard</td>\n",
       "      <td>101</td>\n",
       "    </tr>\n",
       "    <tr>\n",
       "      <th>299</th>\n",
       "      <td>Virat Kohli</td>\n",
       "      <td>100</td>\n",
       "    </tr>\n",
       "    <tr>\n",
       "      <th>277</th>\n",
       "      <td>Suryakumar Yadav</td>\n",
       "      <td>98</td>\n",
       "    </tr>\n",
       "    <tr>\n",
       "      <th>246</th>\n",
       "      <td>Sanju Samson</td>\n",
       "      <td>97</td>\n",
       "    </tr>\n",
       "    <tr>\n",
       "      <th>0</th>\n",
       "      <td>AB de Villiers</td>\n",
       "      <td>96</td>\n",
       "    </tr>\n",
       "  </tbody>\n",
       "</table>\n",
       "</div>"
      ],
      "text/plain": [
       "                names  matches\n",
       "261    Shikhar Dhawan      110\n",
       "156          MS Dhoni      108\n",
       "76     Dinesh Karthik      107\n",
       "227   Ravindra Jadeja      106\n",
       "236      Rohit Sharma      101\n",
       "143    Kieron Pollard      101\n",
       "299       Virat Kohli      100\n",
       "277  Suryakumar Yadav       98\n",
       "246      Sanju Samson       97\n",
       "0      AB de Villiers       96"
      ]
     },
     "execution_count": 79,
     "metadata": {},
     "output_type": "execute_result"
    }
   ],
   "source": [
    "ipl=df_ipl.groupby(['names'],as_index=False)['matches'].sum()\n",
    "ipl=ipl.sort_values('matches',ascending=False)[:10]\n",
    "ipl"
   ]
  },
  {
   "cell_type": "code",
   "execution_count": 80,
   "id": "54961c0d",
   "metadata": {},
   "outputs": [
    {
     "data": {
      "image/png": "[encoded data removed]",
      "text/plain": [
       "<Figure size 432x288 with 1 Axes>"
      ]
     },
     "metadata": {
      "needs_background": "light"
     },
     "output_type": "display_data"
    }
   ],
   "source": [
    "#plt.figure(figsize=[15,8])\n",
    "plt.scatter(ipl['names'],ipl['matches'],color='r')\n",
    "plt.xlabel('names',fontsize='large')\n",
    "plt.ylabel('matches',fontsize='large')\n",
    "plt.xticks(rotation = 90)\n",
    "plt.title('more matches in ipl')\n",
    "plt.show();"
   ]
  },
  {
   "cell_type": "markdown",
   "id": "fe028073",
   "metadata": {},
   "source": [
    "Shikhar Dhawan played more matches the ipl from 2015-2021 seasons, MS Dhoni played second most matches"
   ]
  },
  {
   "cell_type": "code",
   "execution_count": 81,
   "id": "4af1553b",
   "metadata": {},
   "outputs": [
    {
     "data": {
      "text/plain": [
       "3      133\n",
       "690    132\n",
       "131    129\n",
       "409    128\n",
       "265    126\n",
       "      ... \n",
       "688      0\n",
       "404      0\n",
       "686      0\n",
       "685      0\n",
       "971      0\n",
       "Name: high_score, Length: 972, dtype: int64"
      ]
     },
     "execution_count": 81,
     "metadata": {},
     "output_type": "execute_result"
    }
   ],
   "source": [
    "df_ipl.high_score.sort_values(ascending=False)"
   ]
  },
  {
   "cell_type": "code",
   "execution_count": 82,
   "id": "b6f5ef46",
   "metadata": {},
   "outputs": [
    {
     "data": {
      "image/png": "[encoded data removed]",
      "text/plain": [
       "<Figure size 432x288 with 1 Axes>"
      ]
     },
     "metadata": {
      "needs_background": "light"
     },
     "output_type": "display_data"
    }
   ],
   "source": [
    "df_ipl.groupby(['names','season'])['high_score'].sum().sort_values(ascending=False)[:10].plot(kind='bar');\n",
    "plt.xlabel('names and season',fontsize='large')\n",
    "plt.ylabel('highscores',fontsize='large')\n",
    "plt.title('highestscore by player in ipl from 2015-2021',fontsize='large')\n",
    "plt.show();"
   ]
  },
  {
   "cell_type": "code",
   "execution_count": 83,
   "id": "1d57f2e0",
   "metadata": {},
   "outputs": [
    {
     "data": {
      "text/plain": [
       "names\n",
       "AB de Villiers    7\n",
       "Shikhar Dhawan    7\n",
       "Sanju Samson      7\n",
       "Sunil Narine      7\n",
       "Faf du Plessis    7\n",
       "Shreyas Iyer      7\n",
       "Dinesh Karthik    7\n",
       "Deepak Hooda      7\n",
       "Axar Patel        7\n",
       "Hardik Pandya     7\n",
       "Name: high_score, dtype: int64"
      ]
     },
     "execution_count": 83,
     "metadata": {},
     "output_type": "execute_result"
    }
   ],
   "source": [
    "df_ipl.groupby(['names'])['high_score'].count().sort_values(ascending=False)[:10]"
   ]
  },
  {
   "cell_type": "markdown",
   "id": "74fdf5cb",
   "metadata": {},
   "source": [
    "# From 2015 -2021 Seasons Which Batsmen Scored More Runs In Single Season?"
   ]
  },
  {
   "cell_type": "code",
   "execution_count": 84,
   "id": "67dc510b",
   "metadata": {},
   "outputs": [
    {
     "data": {
      "text/html": [
       "<div>\n",
       "<style scoped>\n",
       "    .dataframe tbody tr th:only-of-type {\n",
       "        vertical-align: middle;\n",
       "    }\n",
       "\n",
       "    .dataframe tbody tr th {\n",
       "        vertical-align: top;\n",
       "    }\n",
       "\n",
       "    .dataframe thead th {\n",
       "        text-align: right;\n",
       "    }\n",
       "</style>\n",
       "<table border=\"1\" class=\"dataframe\">\n",
       "  <thead>\n",
       "    <tr style=\"text-align: right;\">\n",
       "      <th></th>\n",
       "      <th>names</th>\n",
       "      <th>season</th>\n",
       "      <th>runs</th>\n",
       "    </tr>\n",
       "  </thead>\n",
       "  <tbody>\n",
       "    <tr>\n",
       "      <th>930</th>\n",
       "      <td>Virat Kohli</td>\n",
       "      <td>2016</td>\n",
       "      <td>973</td>\n",
       "    </tr>\n",
       "    <tr>\n",
       "      <th>194</th>\n",
       "      <td>David Warner</td>\n",
       "      <td>2016</td>\n",
       "      <td>848</td>\n",
       "    </tr>\n",
       "    <tr>\n",
       "      <th>396</th>\n",
       "      <td>Kane Williamson</td>\n",
       "      <td>2018</td>\n",
       "      <td>735</td>\n",
       "    </tr>\n",
       "    <tr>\n",
       "      <th>196</th>\n",
       "      <td>David Warner</td>\n",
       "      <td>2019</td>\n",
       "      <td>692</td>\n",
       "    </tr>\n",
       "    <tr>\n",
       "      <th>1</th>\n",
       "      <td>AB de Villiers</td>\n",
       "      <td>2016</td>\n",
       "      <td>687</td>\n",
       "    </tr>\n",
       "    <tr>\n",
       "      <th>705</th>\n",
       "      <td>Rishabh Pant</td>\n",
       "      <td>2018</td>\n",
       "      <td>684</td>\n",
       "    </tr>\n",
       "    <tr>\n",
       "      <th>384</th>\n",
       "      <td>KL Rahul</td>\n",
       "      <td>2020</td>\n",
       "      <td>670</td>\n",
       "    </tr>\n",
       "    <tr>\n",
       "      <th>382</th>\n",
       "      <td>KL Rahul</td>\n",
       "      <td>2018</td>\n",
       "      <td>659</td>\n",
       "    </tr>\n",
       "    <tr>\n",
       "      <th>195</th>\n",
       "      <td>David Warner</td>\n",
       "      <td>2017</td>\n",
       "      <td>641</td>\n",
       "    </tr>\n",
       "    <tr>\n",
       "      <th>730</th>\n",
       "      <td>Ruturaj Gaikwad</td>\n",
       "      <td>2021</td>\n",
       "      <td>635</td>\n",
       "    </tr>\n",
       "  </tbody>\n",
       "</table>\n",
       "</div>"
      ],
      "text/plain": [
       "               names  season  runs\n",
       "930      Virat Kohli    2016   973\n",
       "194     David Warner    2016   848\n",
       "396  Kane Williamson    2018   735\n",
       "196     David Warner    2019   692\n",
       "1     AB de Villiers    2016   687\n",
       "705     Rishabh Pant    2018   684\n",
       "384         KL Rahul    2020   670\n",
       "382         KL Rahul    2018   659\n",
       "195     David Warner    2017   641\n",
       "730  Ruturaj Gaikwad    2021   635"
      ]
     },
     "execution_count": 84,
     "metadata": {},
     "output_type": "execute_result"
    }
   ],
   "source": [
    "high_runs1= df_ipl.groupby(['names','season'],as_index = False)['runs'].max()\n",
    "high_runs1=high_runs1.sort_values('runs',ascending=False)[:10]\n",
    "high_runs1"
   ]
  },
  {
   "cell_type": "code",
   "execution_count": 85,
   "id": "106b23c8",
   "metadata": {},
   "outputs": [
    {
     "data": {
      "image/png": "[encoded data removed]",
      "text/plain": [
       "<Figure size 432x288 with 1 Axes>"
      ]
     },
     "metadata": {
      "needs_background": "light"
     },
     "output_type": "display_data"
    }
   ],
   "source": [
    "plt.bar(high_runs1['names'],high_runs1['runs'])\n",
    "plt.xlabel('names',fontsize='large')\n",
    "plt.ylabel('runs',fontsize='large')\n",
    "plt.xticks(rotation=90)\n",
    "plt.title('most runs in single ipl season 2015-2021')\n",
    "plt.show();"
   ]
  },
  {
   "cell_type": "markdown",
   "id": "45a0b104",
   "metadata": {},
   "source": [
    "*in single season virat kohli scored more runs which is the highest throughout all ipl season\n",
    "*next david warner scored more runs in single ipl season\n",
    "*in that david warners bar the white line represents he is two times in top10 list onetime scored around 700runs and he scored morethan 800in another season\n",
    "*same like david warner one more player chris gayle also two times in top10 list"
   ]
  },
  {
   "cell_type": "markdown",
   "id": "a5ea154c",
   "metadata": {},
   "source": [
    "# Who Scored More Runs In Ipl 2015-2021?\n"
   ]
  },
  {
   "cell_type": "code",
   "execution_count": 86,
   "id": "f6c9ef4f",
   "metadata": {},
   "outputs": [
    {
     "data": {
      "text/html": [
       "<div>\n",
       "<style scoped>\n",
       "    .dataframe tbody tr th:only-of-type {\n",
       "        vertical-align: middle;\n",
       "    }\n",
       "\n",
       "    .dataframe tbody tr th {\n",
       "        vertical-align: top;\n",
       "    }\n",
       "\n",
       "    .dataframe thead th {\n",
       "        text-align: right;\n",
       "    }\n",
       "</style>\n",
       "<table border=\"1\" class=\"dataframe\">\n",
       "  <thead>\n",
       "    <tr style=\"text-align: right;\">\n",
       "      <th></th>\n",
       "      <th>names</th>\n",
       "      <th>runs</th>\n",
       "    </tr>\n",
       "  </thead>\n",
       "  <tbody>\n",
       "    <tr>\n",
       "      <th>299</th>\n",
       "      <td>Virat Kohli</td>\n",
       "      <td>3651</td>\n",
       "    </tr>\n",
       "    <tr>\n",
       "      <th>261</th>\n",
       "      <td>Shikhar Dhawan</td>\n",
       "      <td>3556</td>\n",
       "    </tr>\n",
       "    <tr>\n",
       "      <th>68</th>\n",
       "      <td>David Warner</td>\n",
       "      <td>3486</td>\n",
       "    </tr>\n",
       "    <tr>\n",
       "      <th>0</th>\n",
       "      <td>AB de Villiers</td>\n",
       "      <td>3105</td>\n",
       "    </tr>\n",
       "    <tr>\n",
       "      <th>130</th>\n",
       "      <td>KL Rahul</td>\n",
       "      <td>3087</td>\n",
       "    </tr>\n",
       "    <tr>\n",
       "      <th>236</th>\n",
       "      <td>Rohit Sharma</td>\n",
       "      <td>2708</td>\n",
       "    </tr>\n",
       "    <tr>\n",
       "      <th>246</th>\n",
       "      <td>Sanju Samson</td>\n",
       "      <td>2523</td>\n",
       "    </tr>\n",
       "    <tr>\n",
       "      <th>232</th>\n",
       "      <td>Rishabh Pant</td>\n",
       "      <td>2498</td>\n",
       "    </tr>\n",
       "    <tr>\n",
       "      <th>268</th>\n",
       "      <td>Shreyas Iyer</td>\n",
       "      <td>2375</td>\n",
       "    </tr>\n",
       "    <tr>\n",
       "      <th>9</th>\n",
       "      <td>Ajinkya Rahane</td>\n",
       "      <td>2286</td>\n",
       "    </tr>\n",
       "    <tr>\n",
       "      <th>52</th>\n",
       "      <td>Chris Gayle</td>\n",
       "      <td>2257</td>\n",
       "    </tr>\n",
       "    <tr>\n",
       "      <th>84</th>\n",
       "      <td>Faf du Plessis</td>\n",
       "      <td>2234</td>\n",
       "    </tr>\n",
       "    <tr>\n",
       "      <th>160</th>\n",
       "      <td>Manish Pandey</td>\n",
       "      <td>2214</td>\n",
       "    </tr>\n",
       "    <tr>\n",
       "      <th>16</th>\n",
       "      <td>Ambati Rayudu</td>\n",
       "      <td>2206</td>\n",
       "    </tr>\n",
       "    <tr>\n",
       "      <th>276</th>\n",
       "      <td>Suresh Raina</td>\n",
       "      <td>2203</td>\n",
       "    </tr>\n",
       "    <tr>\n",
       "      <th>277</th>\n",
       "      <td>Suryakumar Yadav</td>\n",
       "      <td>2177</td>\n",
       "    </tr>\n",
       "    <tr>\n",
       "      <th>156</th>\n",
       "      <td>MS Dhoni</td>\n",
       "      <td>2131</td>\n",
       "    </tr>\n",
       "    <tr>\n",
       "      <th>215</th>\n",
       "      <td>Quinton de Kock</td>\n",
       "      <td>2097</td>\n",
       "    </tr>\n",
       "    <tr>\n",
       "      <th>235</th>\n",
       "      <td>Robin Uthappa</td>\n",
       "      <td>2090</td>\n",
       "    </tr>\n",
       "    <tr>\n",
       "      <th>76</th>\n",
       "      <td>Dinesh Karthik</td>\n",
       "      <td>1980</td>\n",
       "    </tr>\n",
       "  </tbody>\n",
       "</table>\n",
       "</div>"
      ],
      "text/plain": [
       "                names  runs\n",
       "299       Virat Kohli  3651\n",
       "261    Shikhar Dhawan  3556\n",
       "68       David Warner  3486\n",
       "0      AB de Villiers  3105\n",
       "130          KL Rahul  3087\n",
       "236      Rohit Sharma  2708\n",
       "246      Sanju Samson  2523\n",
       "232      Rishabh Pant  2498\n",
       "268      Shreyas Iyer  2375\n",
       "9      Ajinkya Rahane  2286\n",
       "52        Chris Gayle  2257\n",
       "84     Faf du Plessis  2234\n",
       "160     Manish Pandey  2214\n",
       "16      Ambati Rayudu  2206\n",
       "276      Suresh Raina  2203\n",
       "277  Suryakumar Yadav  2177\n",
       "156          MS Dhoni  2131\n",
       "215   Quinton de Kock  2097\n",
       "235     Robin Uthappa  2090\n",
       "76     Dinesh Karthik  1980"
      ]
     },
     "execution_count": 86,
     "metadata": {},
     "output_type": "execute_result"
    }
   ],
   "source": [
    "high_runs = df_ipl.groupby(['names'],as_index = False)['runs'].sum()\n",
    "high_runs = high_runs.sort_values('runs',ascending=False)[:20]\n",
    "high_runs"
   ]
  },
  {
   "cell_type": "code",
   "execution_count": 87,
   "id": "1e42322d",
   "metadata": {},
   "outputs": [
    {
     "data": {
      "image/png": "[encoded data removed]",
      "text/plain": [
       "<Figure size 1080x576 with 2 Axes>"
      ]
     },
     "metadata": {
      "needs_background": "light"
     },
     "output_type": "display_data"
    }
   ],
   "source": [
    "plt.figure(figsize=[15,8])\n",
    "plt.subplot(1,2,1)\n",
    "plt.barh(high_runs['names'],high_runs['runs'],color = 'g')\n",
    "plt.xlabel('runs',fontsize='large')\n",
    "plt.ylabel('names',fontsize='large')\n",
    "plt.title('total runs in ipl 2015-2021')\n",
    "plt.subplot(1,2,2)\n",
    "plt.pie(x=high_runs['runs'],autopct=(\"%.2f\"),labels=high_runs['names'])\n",
    "plt.title('percentage of runs in ipl 2015=2021',fontsize='large')\n",
    "plt.show()"
   ]
  },
  {
   "cell_type": "markdown",
   "id": "f40f5162",
   "metadata": {},
   "source": [
    "# Who Hit More Sixes in IPL 2015-2021?"
   ]
  },
  {
   "cell_type": "code",
   "execution_count": 88,
   "id": "2504b4a9",
   "metadata": {},
   "outputs": [],
   "source": [
    " most_sixes = df_ipl.groupby(['names'],as_index=False)['sixes'].sum().sort_values(by = 'sixes',ascending = False).iloc[0:10]"
   ]
  },
  {
   "cell_type": "code",
   "execution_count": 89,
   "id": "75ca05e8",
   "metadata": {},
   "outputs": [
    {
     "data": {
      "text/html": [
       "<div>\n",
       "<style scoped>\n",
       "    .dataframe tbody tr th:only-of-type {\n",
       "        vertical-align: middle;\n",
       "    }\n",
       "\n",
       "    .dataframe tbody tr th {\n",
       "        vertical-align: top;\n",
       "    }\n",
       "\n",
       "    .dataframe thead th {\n",
       "        text-align: right;\n",
       "    }\n",
       "</style>\n",
       "<table border=\"1\" class=\"dataframe\">\n",
       "  <thead>\n",
       "    <tr style=\"text-align: right;\">\n",
       "      <th></th>\n",
       "      <th>names</th>\n",
       "      <th>sixes</th>\n",
       "    </tr>\n",
       "  </thead>\n",
       "  <tbody>\n",
       "    <tr>\n",
       "      <th>0</th>\n",
       "      <td>AB de Villiers</td>\n",
       "      <td>170</td>\n",
       "    </tr>\n",
       "    <tr>\n",
       "      <th>52</th>\n",
       "      <td>Chris Gayle</td>\n",
       "      <td>165</td>\n",
       "    </tr>\n",
       "    <tr>\n",
       "      <th>18</th>\n",
       "      <td>Andre Russell</td>\n",
       "      <td>140</td>\n",
       "    </tr>\n",
       "    <tr>\n",
       "      <th>143</th>\n",
       "      <td>Kieron Pollard</td>\n",
       "      <td>133</td>\n",
       "    </tr>\n",
       "    <tr>\n",
       "      <th>130</th>\n",
       "      <td>KL Rahul</td>\n",
       "      <td>131</td>\n",
       "    </tr>\n",
       "    <tr>\n",
       "      <th>299</th>\n",
       "      <td>Virat Kohli</td>\n",
       "      <td>123</td>\n",
       "    </tr>\n",
       "    <tr>\n",
       "      <th>68</th>\n",
       "      <td>David Warner</td>\n",
       "      <td>119</td>\n",
       "    </tr>\n",
       "    <tr>\n",
       "      <th>232</th>\n",
       "      <td>Rishabh Pant</td>\n",
       "      <td>113</td>\n",
       "    </tr>\n",
       "    <tr>\n",
       "      <th>156</th>\n",
       "      <td>MS Dhoni</td>\n",
       "      <td>110</td>\n",
       "    </tr>\n",
       "    <tr>\n",
       "      <th>246</th>\n",
       "      <td>Sanju Samson</td>\n",
       "      <td>110</td>\n",
       "    </tr>\n",
       "  </tbody>\n",
       "</table>\n",
       "</div>"
      ],
      "text/plain": [
       "              names  sixes\n",
       "0    AB de Villiers    170\n",
       "52      Chris Gayle    165\n",
       "18    Andre Russell    140\n",
       "143  Kieron Pollard    133\n",
       "130        KL Rahul    131\n",
       "299     Virat Kohli    123\n",
       "68     David Warner    119\n",
       "232    Rishabh Pant    113\n",
       "156        MS Dhoni    110\n",
       "246    Sanju Samson    110"
      ]
     },
     "execution_count": 89,
     "metadata": {},
     "output_type": "execute_result"
    }
   ],
   "source": [
    "most_sixes"
   ]
  },
  {
   "cell_type": "code",
   "execution_count": 90,
   "id": "b4cf686d",
   "metadata": {},
   "outputs": [],
   "source": [
    "import warnings\n",
    "warnings.simplefilter(action=\"ignore\", category=FutureWarning)"
   ]
  },
  {
   "cell_type": "code",
   "execution_count": 91,
   "id": "58a1d326",
   "metadata": {},
   "outputs": [
    {
     "data": {
      "image/png": "[encoded data removed]",
      "text/plain": [
       "<Figure size 432x288 with 1 Axes>"
      ]
     },
     "metadata": {
      "needs_background": "light"
     },
     "output_type": "display_data"
    }
   ],
   "source": [
    "plt.bar(most_sixes.names,most_sixes.sixes,color='r',edgecolor='black')\n",
    "plt.xticks(rotation = 90)\n",
    "plt.title('most sixes in ipl',fontsize='large')\n",
    "plt.xlabel('players',fontsize='large')\n",
    "plt.ylabel('sixes',fontsize='large')\n",
    "plt.show();"
   ]
  },
  {
   "cell_type": "markdown",
   "id": "7a1e6b6c",
   "metadata": {},
   "source": [
    "# who have the more hundreds and fiftys in ipl 2015-2021?"
   ]
  },
  {
   "cell_type": "code",
   "execution_count": 117,
   "id": "f1e3a4d4",
   "metadata": {},
   "outputs": [
    {
     "data": {
      "image/png": "[encoded data removed]",
      "text/plain": [
       "<Figure size 432x288 with 1 Axes>"
      ]
     },
     "metadata": {
      "needs_background": "light"
     },
     "output_type": "display_data"
    }
   ],
   "source": [
    "df_fiftys=df_ipl.groupby(['names'])['fiftys'].sum().sort_values(ascending=False)[:10].plot(kind='bar',color='green')\n",
    "plt.xlabel('names',fontsize='large')\n",
    "plt.ylabel('hundreds',fontsize='large')\n",
    "plt.title('more hundreds in ipl 2015-2021',fontsize='large')\n",
    "plt.show();"
   ]
  },
  {
   "cell_type": "code",
   "execution_count": 113,
   "id": "0cfea7e1",
   "metadata": {
    "scrolled": true
   },
   "outputs": [
    {
     "data": {
      "image/png": "[encoded data removed]",
      "text/plain": [
       "<Figure size 432x288 with 1 Axes>"
      ]
     },
     "metadata": {
      "needs_background": "light"
     },
     "output_type": "display_data"
    }
   ],
   "source": [
    "df_hundreds=df_ipl.groupby(['names'])['hundreds'].sum().sort_values(ascending=False)[:10].plot(kind='bar',color='red');\n",
    "plt.xlabel('names',fontsize='large')\n",
    "plt.ylabel('fiftys',fontsize='large')\n",
    "plt.title('more fiftys in ipl 2015-2021',fontsize='large')\n",
    "plt.show();"
   ]
  },
  {
   "cell_type": "markdown",
   "id": "a30a6e8c",
   "metadata": {},
   "source": [
    "# Average of batsmen who scored morethan 300runs in single season?"
   ]
  },
  {
   "cell_type": "code",
   "execution_count": 94,
   "id": "994c36b2",
   "metadata": {},
   "outputs": [],
   "source": [
    "ipl_sr=df_ipl.groupby(['names']).mean()[df_ipl.groupby(['names']).mean()['runs']>300]['avg'].sort_values(ascending=False).nlargest(20)"
   ]
  },
  {
   "cell_type": "code",
   "execution_count": 95,
   "id": "c2f8cd87",
   "metadata": {},
   "outputs": [
    {
     "data": {
      "text/html": [
       "<div>\n",
       "<style scoped>\n",
       "    .dataframe tbody tr th:only-of-type {\n",
       "        vertical-align: middle;\n",
       "    }\n",
       "\n",
       "    .dataframe tbody tr th {\n",
       "        vertical-align: top;\n",
       "    }\n",
       "\n",
       "    .dataframe thead th {\n",
       "        text-align: right;\n",
       "    }\n",
       "</style>\n",
       "<table border=\"1\" class=\"dataframe\">\n",
       "  <thead>\n",
       "    <tr style=\"text-align: right;\">\n",
       "      <th></th>\n",
       "      <th>names</th>\n",
       "      <th>avg</th>\n",
       "    </tr>\n",
       "  </thead>\n",
       "  <tbody>\n",
       "    <tr>\n",
       "      <th>0</th>\n",
       "      <td>KL Rahul</td>\n",
       "      <td>49.958333</td>\n",
       "    </tr>\n",
       "    <tr>\n",
       "      <th>1</th>\n",
       "      <td>David Warner</td>\n",
       "      <td>49.130000</td>\n",
       "    </tr>\n",
       "    <tr>\n",
       "      <th>2</th>\n",
       "      <td>Ruturaj Gaikwad</td>\n",
       "      <td>48.175000</td>\n",
       "    </tr>\n",
       "    <tr>\n",
       "      <th>3</th>\n",
       "      <td>Virat Kohli</td>\n",
       "      <td>44.340000</td>\n",
       "    </tr>\n",
       "    <tr>\n",
       "      <th>4</th>\n",
       "      <td>AB de Villiers</td>\n",
       "      <td>42.957143</td>\n",
       "    </tr>\n",
       "    <tr>\n",
       "      <th>5</th>\n",
       "      <td>Jonny Bairstow</td>\n",
       "      <td>42.770000</td>\n",
       "    </tr>\n",
       "    <tr>\n",
       "      <th>6</th>\n",
       "      <td>MS Dhoni</td>\n",
       "      <td>42.605714</td>\n",
       "    </tr>\n",
       "    <tr>\n",
       "      <th>7</th>\n",
       "      <td>Venkatesh Iyer</td>\n",
       "      <td>41.110000</td>\n",
       "    </tr>\n",
       "    <tr>\n",
       "      <th>8</th>\n",
       "      <td>Shikhar Dhawan</td>\n",
       "      <td>36.964286</td>\n",
       "    </tr>\n",
       "    <tr>\n",
       "      <th>9</th>\n",
       "      <td>Manish Pandey</td>\n",
       "      <td>35.872857</td>\n",
       "    </tr>\n",
       "    <tr>\n",
       "      <th>10</th>\n",
       "      <td>Jos Buttler</td>\n",
       "      <td>35.521667</td>\n",
       "    </tr>\n",
       "    <tr>\n",
       "      <th>11</th>\n",
       "      <td>Rishabh Pant</td>\n",
       "      <td>34.520000</td>\n",
       "    </tr>\n",
       "    <tr>\n",
       "      <th>12</th>\n",
       "      <td>Quinton de Kock</td>\n",
       "      <td>33.956667</td>\n",
       "    </tr>\n",
       "    <tr>\n",
       "      <th>13</th>\n",
       "      <td>Steve Smith</td>\n",
       "      <td>33.678333</td>\n",
       "    </tr>\n",
       "    <tr>\n",
       "      <th>14</th>\n",
       "      <td>Chris Gayle</td>\n",
       "      <td>32.874286</td>\n",
       "    </tr>\n",
       "    <tr>\n",
       "      <th>15</th>\n",
       "      <td>Faf du Plessis</td>\n",
       "      <td>32.282857</td>\n",
       "    </tr>\n",
       "    <tr>\n",
       "      <th>16</th>\n",
       "      <td>Shubman Gill</td>\n",
       "      <td>32.165000</td>\n",
       "    </tr>\n",
       "    <tr>\n",
       "      <th>17</th>\n",
       "      <td>Devdutt Padikkal</td>\n",
       "      <td>31.570000</td>\n",
       "    </tr>\n",
       "    <tr>\n",
       "      <th>18</th>\n",
       "      <td>Ambati Rayudu</td>\n",
       "      <td>30.672857</td>\n",
       "    </tr>\n",
       "    <tr>\n",
       "      <th>19</th>\n",
       "      <td>Gautam Gambhir</td>\n",
       "      <td>30.545000</td>\n",
       "    </tr>\n",
       "  </tbody>\n",
       "</table>\n",
       "</div>"
      ],
      "text/plain": [
       "               names        avg\n",
       "0           KL Rahul  49.958333\n",
       "1       David Warner  49.130000\n",
       "2    Ruturaj Gaikwad  48.175000\n",
       "3        Virat Kohli  44.340000\n",
       "4     AB de Villiers  42.957143\n",
       "5     Jonny Bairstow  42.770000\n",
       "6           MS Dhoni  42.605714\n",
       "7     Venkatesh Iyer  41.110000\n",
       "8     Shikhar Dhawan  36.964286\n",
       "9      Manish Pandey  35.872857\n",
       "10       Jos Buttler  35.521667\n",
       "11      Rishabh Pant  34.520000\n",
       "12   Quinton de Kock  33.956667\n",
       "13       Steve Smith  33.678333\n",
       "14       Chris Gayle  32.874286\n",
       "15    Faf du Plessis  32.282857\n",
       "16      Shubman Gill  32.165000\n",
       "17  Devdutt Padikkal  31.570000\n",
       "18     Ambati Rayudu  30.672857\n",
       "19    Gautam Gambhir  30.545000"
      ]
     },
     "execution_count": 95,
     "metadata": {},
     "output_type": "execute_result"
    }
   ],
   "source": [
    "average=pd.DataFrame(ipl_sr)\n",
    "average=average.reset_index()\n",
    "average"
   ]
  },
  {
   "cell_type": "code",
   "execution_count": 96,
   "id": "ca34fcfb",
   "metadata": {},
   "outputs": [
    {
     "data": {
      "image/png": "[encoded data removed]",
      "text/plain": [
       "<Figure size 720x360 with 1 Axes>"
      ]
     },
     "metadata": {
      "needs_background": "light"
     },
     "output_type": "display_data"
    }
   ],
   "source": [
    "plt.figure(figsize=(10,5))\n",
    "plt.bar(average['names'],average['avg'])\n",
    "plt.xticks(rotation=90)\n",
    "plt.yticks(np.arange(0,50,5))\n",
    "plt.xlabel('names',fontsize='large')\n",
    "plt.ylabel('average',fontsize='large')\n",
    "plt.title('average of first 20players in ipl',fontsize='large');"
   ]
  },
  {
   "cell_type": "markdown",
   "id": "2c6bde37",
   "metadata": {},
   "source": [
    "# In Single Season How Many Batsmen Got Fiftys?"
   ]
  },
  {
   "cell_type": "code",
   "execution_count": 121,
   "id": "a16c4ba2",
   "metadata": {},
   "outputs": [
    {
     "data": {
      "text/plain": [
       "Index(['names', 'matches', 'innings', 'notouts', 'runs', 'balls', 'high_score',\n",
       "       'avg', 'strike_rate', 'fours', 'sixes', 'fiftys', 'hundreds', 'season'],\n",
       "      dtype='object')"
      ]
     },
     "execution_count": 121,
     "metadata": {},
     "output_type": "execute_result"
    }
   ],
   "source": [
    "df_ipl.columns"
   ]
  },
  {
   "cell_type": "code",
   "execution_count": 124,
   "id": "1c915780",
   "metadata": {},
   "outputs": [
    {
     "name": "stdout",
     "output_type": "stream",
     "text": [
      "Enter column name: fours\n",
      "season\n",
      "2015    1607\n",
      "2016    1632\n",
      "2017    1608\n",
      "2018    1652\n",
      "2019    1653\n",
      "2020    1582\n",
      "2021    1548\n",
      "Name: fours, dtype: int64\n"
     ]
    },
    {
     "data": {
      "text/plain": [
       "Text(0, 0.5, 'fours')"
      ]
     },
     "execution_count": 124,
     "metadata": {},
     "output_type": "execute_result"
    },
    {
     "data": {
      "image/png": "[encoded data removed]",
      "text/plain": [
       "<Figure size 432x288 with 1 Axes>"
      ]
     },
     "metadata": {
      "needs_background": "light"
     },
     "output_type": "display_data"
    }
   ],
   "source": [
    "column = input('Enter column name: ')\n",
    "print(df_ipl.groupby('season')[column].sum())\n",
    "df_ipl.groupby('season')[column].sum().plot.bar()\n",
    "plt.ylabel(column)"
   ]
  },
  {
   "cell_type": "markdown",
   "id": "e79ca6df",
   "metadata": {},
   "source": [
    "# most notouts in ipl 2015-2021?"
   ]
  },
  {
   "cell_type": "code",
   "execution_count": 99,
   "id": "832dadb5",
   "metadata": {},
   "outputs": [
    {
     "data": {
      "image/png": "[encoded data removed]",
      "text/plain": [
       "<Figure size 432x288 with 1 Axes>"
      ]
     },
     "metadata": {
      "needs_background": "light"
     },
     "output_type": "display_data"
    }
   ],
   "source": [
    "df_ipl.groupby(['names'])['notouts'].sum().sort_values(ascending=False)[:10].plot(kind='bar'); \n",
    "plt.xlabel('notouts')\n",
    "plt.ylabel('values') \n",
    "plt.title('most notouts in ipl') \n",
    "plt.show();"
   ]
  },
  {
   "cell_type": "markdown",
   "id": "1c5b149d",
   "metadata": {},
   "source": [
    "# who played more balls in ipl 2015-2021?"
   ]
  },
  {
   "cell_type": "code",
   "execution_count": 100,
   "id": "551ffdac",
   "metadata": {},
   "outputs": [
    {
     "data": {
      "image/png": "[encoded data removed]",
      "text/plain": [
       "<Figure size 504x504 with 1 Axes>"
      ]
     },
     "metadata": {
      "needs_background": "light"
     },
     "output_type": "display_data"
    }
   ],
   "source": [
    "plt.figure(figsize=(7,7))\n",
    "df_ipl.groupby(['names'])['balls'].sum().sort_values(ascending=False)[:10].plot(kind='bar');\n",
    "plt.xlabel('balls')\n",
    "plt.ylabel('names')\n",
    "plt.title('more balls in ipl 2015-2021')\n",
    "plt.show();\n"
   ]
  },
  {
   "cell_type": "markdown",
   "id": "24fadca2",
   "metadata": {},
   "source": [
    "# who scored more fours in ipl 2015-2021?"
   ]
  },
  {
   "cell_type": "code",
   "execution_count": 101,
   "id": "d8d083d4",
   "metadata": {},
   "outputs": [
    {
     "data": {
      "text/html": [
       "<div>\n",
       "<style scoped>\n",
       "    .dataframe tbody tr th:only-of-type {\n",
       "        vertical-align: middle;\n",
       "    }\n",
       "\n",
       "    .dataframe tbody tr th {\n",
       "        vertical-align: top;\n",
       "    }\n",
       "\n",
       "    .dataframe thead th {\n",
       "        text-align: right;\n",
       "    }\n",
       "</style>\n",
       "<table border=\"1\" class=\"dataframe\">\n",
       "  <thead>\n",
       "    <tr style=\"text-align: right;\">\n",
       "      <th></th>\n",
       "      <th>names</th>\n",
       "      <th>fours</th>\n",
       "    </tr>\n",
       "  </thead>\n",
       "  <tbody>\n",
       "    <tr>\n",
       "      <th>0</th>\n",
       "      <td>Shikhar Dhawan</td>\n",
       "      <td>402</td>\n",
       "    </tr>\n",
       "    <tr>\n",
       "      <th>1</th>\n",
       "      <td>David Warner</td>\n",
       "      <td>340</td>\n",
       "    </tr>\n",
       "    <tr>\n",
       "      <th>2</th>\n",
       "      <td>Virat Kohli</td>\n",
       "      <td>305</td>\n",
       "    </tr>\n",
       "    <tr>\n",
       "      <th>3</th>\n",
       "      <td>KL Rahul</td>\n",
       "      <td>266</td>\n",
       "    </tr>\n",
       "    <tr>\n",
       "      <th>4</th>\n",
       "      <td>Rohit Sharma</td>\n",
       "      <td>258</td>\n",
       "    </tr>\n",
       "    <tr>\n",
       "      <th>5</th>\n",
       "      <td>AB de Villiers</td>\n",
       "      <td>255</td>\n",
       "    </tr>\n",
       "    <tr>\n",
       "      <th>6</th>\n",
       "      <td>Suryakumar Yadav</td>\n",
       "      <td>245</td>\n",
       "    </tr>\n",
       "    <tr>\n",
       "      <th>7</th>\n",
       "      <td>Ajinkya Rahane</td>\n",
       "      <td>239</td>\n",
       "    </tr>\n",
       "    <tr>\n",
       "      <th>8</th>\n",
       "      <td>Rishabh Pant</td>\n",
       "      <td>225</td>\n",
       "    </tr>\n",
       "    <tr>\n",
       "      <th>9</th>\n",
       "      <td>Suresh Raina</td>\n",
       "      <td>216</td>\n",
       "    </tr>\n",
       "  </tbody>\n",
       "</table>\n",
       "</div>"
      ],
      "text/plain": [
       "              names  fours\n",
       "0    Shikhar Dhawan    402\n",
       "1      David Warner    340\n",
       "2       Virat Kohli    305\n",
       "3          KL Rahul    266\n",
       "4      Rohit Sharma    258\n",
       "5    AB de Villiers    255\n",
       "6  Suryakumar Yadav    245\n",
       "7    Ajinkya Rahane    239\n",
       "8      Rishabh Pant    225\n",
       "9      Suresh Raina    216"
      ]
     },
     "execution_count": 101,
     "metadata": {},
     "output_type": "execute_result"
    }
   ],
   "source": [
    "fs=df_ipl.groupby(['names'])['fours'].sum().sort_values(ascending=False)[:10]\n",
    "four=pd.DataFrame(fs)\n",
    "four=four.reset_index()\n",
    "four"
   ]
  },
  {
   "cell_type": "code",
   "execution_count": 102,
   "id": "e9a4a8ae",
   "metadata": {},
   "outputs": [
    {
     "data": {
      "image/png": "[encoded data removed]",
      "text/plain": [
       "<Figure size 864x360 with 2 Axes>"
      ]
     },
     "metadata": {
      "needs_background": "light"
     },
     "output_type": "display_data"
    }
   ],
   "source": [
    "plt.figure(figsize=(12,5))\n",
    "plt.subplot(1,2,1)\n",
    "plt.bar(four['names'],four['fours'],color='g')\n",
    "plt.xticks(rotation=90)\n",
    "plt.xlabel('names')\n",
    "plt.ylabel('fours')\n",
    "plt.title('fours in ipl')\n",
    "plt.subplot(1,2,2)\n",
    "\n",
    "plt.pie(x=four['fours'],autopct=\"%.2f\",labels=four['names'])\n",
    "plt.title('percentage of fours in ipl')\n",
    "\n",
    "plt.show();"
   ]
  },
  {
   "cell_type": "markdown",
   "id": "529fefdf",
   "metadata": {},
   "source": [
    "# batsmen's strikerate who scored morethan 3000runs and played morethan 50innings?"
   ]
  },
  {
   "cell_type": "code",
   "execution_count": 103,
   "id": "ef9b91e6",
   "metadata": {},
   "outputs": [],
   "source": [
    "df_2=df_ipl.groupby(['names']).sum()[df_ipl.groupby(['names']).sum()['innings']>50][df_ipl.groupby(['names']).sum()[df_ipl.groupby(['names']).sum()['innings']>50]['runs']>1500]['strike_rate'].sort_values(ascending=False).nlargest(20)/13\n"
   ]
  },
  {
   "cell_type": "code",
   "execution_count": 104,
   "id": "eeb04644",
   "metadata": {},
   "outputs": [
    {
     "data": {
      "text/plain": [
       "names\n",
       "AB de Villiers      85.538462\n",
       "Kieron Pollard      82.811538\n",
       "Andre Russell       80.333846\n",
       "Chris Gayle         75.657692\n",
       "Sanju Samson        73.923077\n",
       "Suryakumar Yadav    72.164615\n",
       "Dinesh Karthik      72.085385\n",
       "Robin Uthappa       72.060769\n",
       "Virat Kohli         71.264615\n",
       "Rohit Sharma        70.483846\n",
       "Shikhar Dhawan      69.963077\n",
       "Ambati Rayudu       69.513077\n",
       "Jos Buttler         68.976154\n",
       "Faf du Plessis      68.794615\n",
       "Mayank Agarwal      68.541538\n",
       "Manish Pandey       67.994615\n",
       "MS Dhoni            67.790769\n",
       "Kane Williamson     67.483846\n",
       "Rishabh Pant        67.276923\n",
       "Ajinkya Rahane      64.411538\n",
       "Name: strike_rate, dtype: float64"
      ]
     },
     "execution_count": 104,
     "metadata": {},
     "output_type": "execute_result"
    }
   ],
   "source": [
    "df_2"
   ]
  },
  {
   "cell_type": "code",
   "execution_count": 105,
   "id": "890aa245",
   "metadata": {},
   "outputs": [
    {
     "data": {
      "image/png": "[encoded data removed]",
      "text/plain": [
       "<Figure size 720x360 with 1 Axes>"
      ]
     },
     "metadata": {
      "needs_background": "light"
     },
     "output_type": "display_data"
    },
    {
     "data": {
      "image/png": "[encoded data removed]",
      "text/plain": [
       "<Figure size 432x288 with 1 Axes>"
      ]
     },
     "metadata": {
      "needs_background": "light"
     },
     "output_type": "display_data"
    },
    {
     "data": {
      "image/png": "[encoded data removed]",
      "text/plain": [
       "<Figure size 432x288 with 1 Axes>"
      ]
     },
     "metadata": {
      "needs_background": "light"
     },
     "output_type": "display_data"
    }
   ],
   "source": [
    "plt.figure(figsize=(10,5))\n",
    "plt.subplot(1, 2, 1)\n",
    "df.plot(kind='bar')\n",
    "plt.xlabel('names')\n",
    "plt.title('strikerates in ipl 2015-2021')\n",
    "plt.subplot(1, 2, 2)\n",
    "df.plot(kind='box',patch_artist='True')\n",
    "plt.ylabel('strikerate')\n",
    "plt.title('strikerate in ipl');"
   ]
  },
  {
   "cell_type": "code",
   "execution_count": 1,
   "id": "504512b7",
   "metadata": {},
   "outputs": [
    {
     "ename": "NameError",
     "evalue": "name 'pd' is not defined",
     "output_type": "error",
     "traceback": [
      "\u001b[1;31m---------------------------------------------------------------------------\u001b[0m",
      "\u001b[1;31mNameError\u001b[0m                                 Traceback (most recent call last)",
      "\u001b[1;32m~\\AppData\\Local\\Temp/ipykernel_14268/1004732596.py\u001b[0m in \u001b[0;36m<module>\u001b[1;34m\u001b[0m\n\u001b[0;32m      1\u001b[0m \u001b[0ma\u001b[0m \u001b[1;33m=\u001b[0m \u001b[1;33m[\u001b[0m\u001b[1;36m1\u001b[0m\u001b[1;33m,\u001b[0m\u001b[1;36m2\u001b[0m\u001b[1;33m,\u001b[0m\u001b[1;36m3\u001b[0m\u001b[1;33m,\u001b[0m\u001b[1;36m4\u001b[0m\u001b[1;33m,\u001b[0m\u001b[1;36m5\u001b[0m\u001b[1;33m]\u001b[0m\u001b[1;33m\u001b[0m\u001b[1;33m\u001b[0m\u001b[0m\n\u001b[0;32m      2\u001b[0m \u001b[0mb\u001b[0m \u001b[1;33m=\u001b[0m \u001b[1;33m[\u001b[0m\u001b[1;34m'sa'\u001b[0m\u001b[1;33m,\u001b[0m\u001b[1;34m'sd'\u001b[0m\u001b[1;33m,\u001b[0m\u001b[1;34m'ad'\u001b[0m\u001b[1;33m,\u001b[0m\u001b[1;34m'wed'\u001b[0m\u001b[1;33m,\u001b[0m\u001b[1;34m'wd'\u001b[0m\u001b[1;33m]\u001b[0m\u001b[1;33m\u001b[0m\u001b[1;33m\u001b[0m\u001b[0m\n\u001b[1;32m----> 3\u001b[1;33m \u001b[0mdata\u001b[0m \u001b[1;33m=\u001b[0m \u001b[0mpd\u001b[0m\u001b[1;33m.\u001b[0m\u001b[0mDataFrame\u001b[0m\u001b[1;33m(\u001b[0m\u001b[1;33m{\u001b[0m\u001b[1;34m'a'\u001b[0m\u001b[1;33m:\u001b[0m\u001b[0ma\u001b[0m\u001b[1;33m,\u001b[0m\u001b[1;34m'b'\u001b[0m\u001b[1;33m:\u001b[0m\u001b[0mb\u001b[0m\u001b[1;33m}\u001b[0m\u001b[1;33m)\u001b[0m\u001b[1;33m\u001b[0m\u001b[1;33m\u001b[0m\u001b[0m\n\u001b[0m\u001b[0;32m      4\u001b[0m \u001b[0mprint\u001b[0m\u001b[1;33m(\u001b[0m\u001b[0mdata\u001b[0m\u001b[1;33m)\u001b[0m\u001b[1;33m\u001b[0m\u001b[1;33m\u001b[0m\u001b[0m\n\u001b[0;32m      5\u001b[0m \u001b[1;33m\u001b[0m\u001b[0m\n",
      "\u001b[1;31mNameError\u001b[0m: name 'pd' is not defined"
     ]
    }
   ],
   "source": [
    "a = [1,2,3,4,5]\n",
    "b = ['sa','sd','ad','wed','wd']\n",
    "data = pd.DataFrame({'a':a,'b':b})\n",
    "print(data)\n",
    "\n"
   ]
  }
 ],
 "metadata": {
  "kernelspec": {
   "display_name": "Python 3 (ipykernel)",
   "language": "python",
   "name": "python3"
  },
  "language_info": {
   "codemirror_mode": {
    "name": "ipython",
    "version": 3
   },
   "file_extension": ".py",
   "mimetype": "text/x-python",
   "name": "python",
   "nbconvert_exporter": "python",
   "pygments_lexer": "ipython3",
   "version": "3.8.12"
  }
 },
 "nbformat": 4,
 "nbformat_minor": 5
}
